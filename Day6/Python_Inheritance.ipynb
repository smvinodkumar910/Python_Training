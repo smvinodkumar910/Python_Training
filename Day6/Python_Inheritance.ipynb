{
 "cells": [
  {
   "cell_type": "markdown",
   "id": "674b356d-63f5-4a81-8a72-74ceb4acc38b",
   "metadata": {},
   "source": [
    "## Python Inheritance\n",
    "\n",
    "* Inheritance allows us to define a class that inherits all the methods and properties from another class.\n",
    "* Parent class is the class being inherited from, also called base class.\n",
    "* Child class is the class that inherits from another class, also called derived class.\n",
    "        "
   ]
  },
  {
   "cell_type": "markdown",
   "id": "e1bbbfb8-1de7-40bd-9eb2-bd20a8d59781",
   "metadata": {
    "tags": []
   },
   "source": [
    "### Create a Parent Class"
   ]
  },
  {
   "cell_type": "code",
   "execution_count": 10,
   "id": "35427b31-28fa-4e59-b474-9984fd894a61",
   "metadata": {
    "tags": []
   },
   "outputs": [
    {
     "name": "stdout",
     "output_type": "stream",
     "text": [
      "John Doe\n"
     ]
    }
   ],
   "source": [
    "#Any class can be a parent class, so the syntax is the same as creating any other class:\n",
    "\n",
    "#Example\n",
    "#Create a class named Person, with firstname and lastname properties, and a printname method:\n",
    "\n",
    "class Person:\n",
    "    def __init__(self, fname, lname):\n",
    "        self.firstname = fname\n",
    "        self.lastname = lname\n",
    "\n",
    "    def printname(self):\n",
    "        print(self.firstname, self.lastname)\n",
    "\n",
    "#Use the Person class to create an object, and then execute the printname method:\n",
    "\n",
    "x = Person(\"John\", \"Doe\")\n",
    "x.printname()\n"
   ]
  },
  {
   "cell_type": "markdown",
   "id": "0b287a7c-3a36-42af-b537-3cf390025cd7",
   "metadata": {},
   "source": [
    "### Create a Child Class"
   ]
  },
  {
   "cell_type": "code",
   "execution_count": 9,
   "id": "6353dd4d-1b3e-4526-ae23-b7b4faf1422d",
   "metadata": {
    "tags": []
   },
   "outputs": [
    {
     "name": "stdout",
     "output_type": "stream",
     "text": [
      "Mike Olsen\n"
     ]
    }
   ],
   "source": [
    "#To create a class that inherits the functionality from another class, \n",
    "#send the parent class as a parameter when creating the child class:\n",
    "\n",
    "#Example\n",
    "#Create a class named Student, which will inherit the properties and methods from the Person class:\n",
    "\n",
    "class Student(Person):\n",
    "    pass\n",
    "\n",
    "#Note: Use the pass keyword when you do not want to add any other properties or methods to the class.\n",
    "\n",
    "#Now the Student class has the same properties and methods as the Person class.\n",
    "\n",
    "#Example\n",
    "#Use the Student class to create an object, and then execute the printname method:\n",
    "\n",
    "x = Student(\"Mike\", \"Olsen\")\n",
    "x.printname()\n",
    "\n"
   ]
  },
  {
   "cell_type": "markdown",
   "id": "699c4b5e-00b0-4123-ad65-2c12c44b386a",
   "metadata": {},
   "source": [
    "### Add the __init__() Function to child class\n",
    "\n",
    "* So far we have created a child class that inherits the properties and methods from its parent.\n",
    "* We want to add the __init__() function to the child class (instead of the pass keyword).\n",
    "* The __init__() function is called automatically every time the class is being used to create a new object.\n"
   ]
  },
  {
   "cell_type": "code",
   "execution_count": 14,
   "id": "06565442-70d8-4132-aad6-1b44230d72a8",
   "metadata": {
    "tags": []
   },
   "outputs": [],
   "source": [
    "#Example\n",
    "#Add the __init__() function to the Student class:\n",
    "\n",
    "class Student(Person):\n",
    "    def __init__(self, fname, lname):\n",
    "        pass    \n",
    "\n",
    "# When you add the __init__() function, the child class will no longer inherit the parent's __init__() function.\n",
    "# Note: The child's __init__() function overrides the inheritance of the parent's __init__() function.\n",
    "# To keep the inheritance of the parent's __init__() function, add a call to the parent's __init__() function:\n",
    "\n",
    "#Example\n",
    "class Student(Person):\n",
    "    def __init__(self, fname, lname):\n",
    "        Person.__init__(self, fname, lname)\n",
    "\n",
    "#Now we have successfully added the __init__() function, \n",
    "#and kept the inheritance of the parent class, and we are ready to add functionality in the __init__() function.\n"
   ]
  },
  {
   "cell_type": "markdown",
   "id": "69552a2a-b170-44de-9586-c4835f897c06",
   "metadata": {},
   "source": [
    "### super() function"
   ]
  },
  {
   "cell_type": "code",
   "execution_count": 15,
   "id": "1bfde7e5-8360-4845-8b28-05eab61a6956",
   "metadata": {
    "tags": []
   },
   "outputs": [],
   "source": [
    "#Python also has a super() function that will make the child class inherit all the methods and properties from its parent:\n",
    "\n",
    "#Example\n",
    "class Student(Person):\n",
    "    def __init__(self, fname, lname):\n",
    "        super().__init__(fname, lname)\n",
    "\n",
    "#By using the super() function, you do not have to use the name of the parent element, \n",
    "#it will automatically inherit the methods and properties from its parent.\n"
   ]
  },
  {
   "cell_type": "markdown",
   "id": "d29b4d78-0abb-473e-a15e-177b5bfd9d04",
   "metadata": {
    "tags": []
   },
   "source": [
    "### Add Properties"
   ]
  },
  {
   "cell_type": "code",
   "execution_count": 25,
   "id": "6e309a85-4a01-4559-bb64-f917185911f9",
   "metadata": {
    "tags": []
   },
   "outputs": [],
   "source": [
    "\n",
    "#Example\n",
    "#Add a property called graduationyear to the Student class:\n",
    "\n",
    "class Student(Person):\n",
    "    def __init__(self, fname, lname):\n",
    "        super().__init__(fname, lname)\n",
    "        self.graduationyear = 2019\n",
    "\n",
    "#In the example below, the year 2019 should be a variable, and passed into the Student class when creating student objects. \n",
    "#To do so, add another parameter in the __init__() function:\n",
    "\n",
    "#Example\n",
    "#Add a year parameter, and pass the correct year when creating objects:\n",
    "\n",
    "class Student(Person):\n",
    "    def __init__(self, fname, lname, year):\n",
    "        super().__init__(fname, lname)\n",
    "        self.graduationyear = year\n",
    "\n",
    "x = Student(\"Mike\", \"Olsen\", 2019)\n",
    "\n",
    "#import json\n",
    "#print(x.__dict__)\n",
    "#json.dumps(x.__dict__)\n"
   ]
  },
  {
   "cell_type": "markdown",
   "id": "4ba8618f-0594-48fb-bf76-3c961d68c78f",
   "metadata": {},
   "source": [
    "### Add Methods"
   ]
  },
  {
   "cell_type": "code",
   "execution_count": 27,
   "id": "f507b8ae-2b56-4466-ae90-73dfcc2993e3",
   "metadata": {
    "tags": []
   },
   "outputs": [
    {
     "name": "stdout",
     "output_type": "stream",
     "text": [
      "Welcome Mike Olsen to the class of 2019\n",
      "Mike Olsen\n"
     ]
    }
   ],
   "source": [
    "#Example\n",
    "#Add a method called welcome to the Student class:\n",
    "\n",
    "class Student(Person):\n",
    "    def __init__(self, fname, lname, year):\n",
    "        super().__init__(fname, lname)\n",
    "        self.graduationyear = year\n",
    "\n",
    "    def welcome(self):\n",
    "        print(\"Welcome\", self.firstname, self.lastname, \"to the class of\", self.graduationyear)\n",
    "\n",
    "#If you add a method in the child class with the same name as a function in the parent class, \n",
    "#the inheritance of the parent method will be overridden.\n",
    "\n",
    "x = Student(\"Mike\", \"Olsen\", 2019)\n",
    "x.welcome()\n",
    "x.printname()\n"
   ]
  }
 ],
 "metadata": {
  "kernelspec": {
   "display_name": "Python 3 (ipykernel)",
   "language": "python",
   "name": "python3"
  },
  "language_info": {
   "codemirror_mode": {
    "name": "ipython",
    "version": 3
   },
   "file_extension": ".py",
   "mimetype": "text/x-python",
   "name": "python",
   "nbconvert_exporter": "python",
   "pygments_lexer": "ipython3",
   "version": "3.11.4"
  }
 },
 "nbformat": 4,
 "nbformat_minor": 5
}
