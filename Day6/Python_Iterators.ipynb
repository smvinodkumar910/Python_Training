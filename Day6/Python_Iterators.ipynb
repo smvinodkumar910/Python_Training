{
 "cells": [
  {
   "cell_type": "markdown",
   "id": "7f8dadbb-ba63-4cfe-92ff-650581a168ac",
   "metadata": {},
   "source": [
    "## Python Iterators"
   ]
  },
  {
   "cell_type": "markdown",
   "id": "36bacad4-46b3-4e16-9d0d-2b5461425934",
   "metadata": {
    "tags": []
   },
   "source": [
    "* An iterator is an object that contains a countable number of values.\n",
    "* An iterator is an object that can be iterated upon, meaning that you can traverse through all the values.\n",
    "* Technically, in Python, an iterator is an object which implements the iterator protocol, \n",
    "which consist of the methods __iter__() and __next__()\n"
   ]
  },
  {
   "cell_type": "markdown",
   "id": "925f7a0b-b38f-405b-8ac9-a455823816f9",
   "metadata": {},
   "source": [
    "### Iterator vs Iterable"
   ]
  },
  {
   "cell_type": "markdown",
   "id": "6f417aad-d230-4921-801a-0e659447331f",
   "metadata": {
    "tags": []
   },
   "source": [
    "\n",
    "* Lists, tuples, dictionaries, and sets are all iterable objects. \n",
    "* They are iterable containers which you can get an iterator from.\n",
    "* All these objects have a iter() method which is used to get an iterator:\n"
   ]
  },
  {
   "cell_type": "code",
   "execution_count": 2,
   "id": "fe85befe-a58f-4cbd-9f0f-570e7398e435",
   "metadata": {
    "tags": []
   },
   "outputs": [
    {
     "name": "stdout",
     "output_type": "stream",
     "text": [
      "apple\n",
      "banana\n",
      "cherry\n"
     ]
    }
   ],
   "source": [
    "#Example\n",
    "#Return an iterator from a tuple, and print each value:\n",
    "\n",
    "mytuple = (\"apple\", \"banana\", \"cherry\")\n",
    "myit = iter(mytuple)\n",
    "\n",
    "print(next(myit))\n",
    "print(next(myit))\n",
    "print(next(myit))\n",
    "\n"
   ]
  },
  {
   "cell_type": "code",
   "execution_count": 3,
   "id": "1446d911-46b3-4d5c-a538-d0e209a565b9",
   "metadata": {
    "tags": []
   },
   "outputs": [
    {
     "name": "stdout",
     "output_type": "stream",
     "text": [
      "b\n",
      "a\n",
      "n\n",
      "a\n",
      "n\n",
      "a\n"
     ]
    }
   ],
   "source": [
    "#Even strings are iterable objects, and can return an iterator:\n",
    "#Example\n",
    "#Strings are also iterable objects, containing a sequence of characters:\n",
    "\n",
    "mystr = \"banana\"\n",
    "myit = iter(mystr)\n",
    "\n",
    "print(next(myit))\n",
    "print(next(myit))\n",
    "print(next(myit))\n",
    "print(next(myit))\n",
    "print(next(myit))\n",
    "print(next(myit))\n"
   ]
  },
  {
   "cell_type": "markdown",
   "id": "8e190b19-0577-4394-894f-da583a2a2226",
   "metadata": {
    "tags": []
   },
   "source": [
    "### Looping Through an Iterator"
   ]
  },
  {
   "cell_type": "code",
   "execution_count": 5,
   "id": "76252250-4efb-4de7-890c-150866b16c6f",
   "metadata": {
    "tags": []
   },
   "outputs": [
    {
     "name": "stdout",
     "output_type": "stream",
     "text": [
      "apple\n",
      "banana\n",
      "cherry\n",
      "b\n",
      "a\n",
      "n\n",
      "a\n",
      "n\n",
      "a\n"
     ]
    }
   ],
   "source": [
    "#We can also use a for loop to iterate through an iterable object:\n",
    "\n",
    "#Example\n",
    "#Iterate the values of a tuple:\n",
    "\n",
    "mytuple = (\"apple\", \"banana\", \"cherry\")\n",
    "\n",
    "for x in mytuple:\n",
    "    print(x)\n",
    "\n",
    "#Example\n",
    "#Iterate the characters of a string:\n",
    "\n",
    "mystr = \"banana\"\n",
    "\n",
    "for x in mystr:\n",
    "    print(x)"
   ]
  },
  {
   "cell_type": "markdown",
   "id": "9cfd7f43-8c76-4afd-96a8-9c1b9d5a9883",
   "metadata": {},
   "source": [
    "* The for loop actually creates an iterator object and executes the next() method for each loop.\n",
    "\n"
   ]
  },
  {
   "cell_type": "markdown",
   "id": "cc2f506b-f14c-40cb-a5de-284baaa04f16",
   "metadata": {
    "tags": []
   },
   "source": [
    "### Create an Iterator\n",
    "\n",
    "* To create an object/class as an iterator you have to implement the methods __iter__() and __next__() to your object.\n",
    "* As you have learned in the Python Classes/Objects chapter, all classes have a function called __init__(),\n",
    "  which allows you to do some initializing when the object is being created.\n",
    "* The __iter__() method acts similar, you can do operations (initializing etc.), but must always return the iterator object itself.\n",
    "* The __next__() method also allows you to do operations, and must return the next item in the sequence.\n",
    "\n"
   ]
  },
  {
   "cell_type": "code",
   "execution_count": 6,
   "id": "2f17ae40-9141-41f8-b135-4c3eb9f860df",
   "metadata": {
    "tags": []
   },
   "outputs": [
    {
     "name": "stdout",
     "output_type": "stream",
     "text": [
      "1\n",
      "2\n",
      "3\n",
      "4\n",
      "5\n"
     ]
    }
   ],
   "source": [
    "#Example\n",
    "#Create an iterator that returns numbers, starting with 1, and each sequence will increase by one (returning 1,2,3,4,5 etc.):\n",
    "\n",
    "class MyNumbers:\n",
    "    def __iter__(self):\n",
    "        self.a = 1\n",
    "        return self\n",
    "\n",
    "    def __next__(self):\n",
    "        x = self.a\n",
    "        self.a += 1\n",
    "        return x\n",
    "\n",
    "myclass = MyNumbers()\n",
    "myiter = iter(myclass)\n",
    "\n",
    "print(next(myiter))\n",
    "print(next(myiter))\n",
    "print(next(myiter))\n",
    "print(next(myiter))\n",
    "print(next(myiter))"
   ]
  },
  {
   "cell_type": "markdown",
   "id": "713de026-e9e2-4953-8b50-0e243e378555",
   "metadata": {},
   "source": [
    "### Stop Iteration\n",
    "\n",
    "* The example above would continue forever if you had enough next() statements, or if it was used in a for loop.\n",
    "* To prevent the iteration to go on forever, we can use the StopIteration statement.\n",
    "* In the __next__() method, we can add a terminating condition to raise an error if the iteration is done a specified number of times:\n"
   ]
  },
  {
   "cell_type": "code",
   "execution_count": 7,
   "id": "aceef1ed-7c07-424a-a1da-4a281ce5e1d7",
   "metadata": {
    "tags": []
   },
   "outputs": [
    {
     "name": "stdout",
     "output_type": "stream",
     "text": [
      "1\n",
      "2\n",
      "3\n",
      "4\n",
      "5\n",
      "6\n",
      "7\n",
      "8\n",
      "9\n",
      "10\n",
      "11\n",
      "12\n",
      "13\n",
      "14\n",
      "15\n",
      "16\n",
      "17\n",
      "18\n",
      "19\n",
      "20\n"
     ]
    }
   ],
   "source": [
    "#Example\n",
    "#Stop after 20 iterations:\n",
    "\n",
    "class MyNumbers:\n",
    "    def __iter__(self):\n",
    "        self.a = 1\n",
    "        return self\n",
    "\n",
    "    def __next__(self):\n",
    "        if self.a <= 20:\n",
    "            x = self.a\n",
    "            self.a += 1\n",
    "            return x\n",
    "        else:\n",
    "            raise StopIteration\n",
    "\n",
    "myclass = MyNumbers()\n",
    "myiter = iter(myclass)\n",
    "\n",
    "for x in myiter:\n",
    "    print(x)"
   ]
  },
  {
   "cell_type": "code",
   "execution_count": 14,
   "id": "cfc857dd-24e2-4ec2-93e8-15bf2a808e35",
   "metadata": {
    "tags": []
   },
   "outputs": [],
   "source": [
    "\n",
    "import datetime\n",
    "\n",
    "class Person:\n",
    "    def __init__(self, name, birthdate:datetime.datetime):\n",
    "        self.name = name\n",
    "        self.birthdate = birthdate\n",
    "\n",
    "    def myfunc(self):\n",
    "        print(\"Hello my name is \" + self.name)\n",
    "        \n",
    "    def getAge(self):\n",
    "        delta_days = datetime.datetime.today() - self.birthdate\n",
    "        return delta_days.days//365\n",
    "            \n"
   ]
  },
  {
   "cell_type": "code",
   "execution_count": 21,
   "id": "75efe96d-f3cb-4928-abaa-b3bd7908cb8c",
   "metadata": {
    "tags": []
   },
   "outputs": [],
   "source": [
    "class Student(Person):\n",
    "    def __init__(self, name, birthdate, degree:dict):\n",
    "        super().__init__(name, birthdate)\n",
    "        self.degree = degree\n",
    "    \n",
    "    def __iter__(self):\n",
    "        self.current_index = 0\n",
    "        return self\n",
    "\n",
    "    def __next__(self):\n",
    "        if self.current_index < len(self.degree):\n",
    "            x = self.degree[self.current_index]\n",
    "            self.current_index += 1\n",
    "            return x\n",
    "        else:\n",
    "            raise Exception('Out of index')\n",
    "\n"
   ]
  },
  {
   "cell_type": "code",
   "execution_count": 23,
   "id": "3e041649-77ed-4986-bc8d-d418a19361bc",
   "metadata": {
    "tags": []
   },
   "outputs": [
    {
     "name": "stdout",
     "output_type": "stream",
     "text": [
      "BSC\n",
      "MSC\n",
      "PHD\n"
     ]
    }
   ],
   "source": [
    "s1 = Student(\"John\", datetime.datetime(1970,1,1),['BSC','MSC','PHD'])\n",
    "\n",
    "s1.__dict__\n",
    "\n",
    "myiter = iter(s1)\n",
    "\n",
    "print(next(myiter))\n",
    "print(next(myiter))\n",
    "print(next(myiter))\n"
   ]
  }
 ],
 "metadata": {
  "kernelspec": {
   "display_name": "Python 3 (ipykernel)",
   "language": "python",
   "name": "python3"
  },
  "language_info": {
   "codemirror_mode": {
    "name": "ipython",
    "version": 3
   },
   "file_extension": ".py",
   "mimetype": "text/x-python",
   "name": "python",
   "nbconvert_exporter": "python",
   "pygments_lexer": "ipython3",
   "version": "3.11.4"
  }
 },
 "nbformat": 4,
 "nbformat_minor": 5
}
