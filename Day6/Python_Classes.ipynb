{
 "cells": [
  {
   "cell_type": "markdown",
   "id": "cd168b3f-91b3-4e07-bc5a-a33020bc2022",
   "metadata": {},
   "source": [
    "## Python Classes and Objects"
   ]
  },
  {
   "cell_type": "markdown",
   "id": "bb88e295-b352-4fa8-9d40-f759d8884a63",
   "metadata": {
    "tags": []
   },
   "source": [
    "* Python is an object oriented programming language.\n",
    "* Almost everything in Python is an object, with its properties and methods.\n",
    "* A Class is like an object constructor, or a \"blueprint\" for creating objects.\n"
   ]
  },
  {
   "cell_type": "markdown",
   "id": "37996191-a231-4744-9be4-e0077efa5b00",
   "metadata": {
    "tags": []
   },
   "source": [
    "#### Create a class"
   ]
  },
  {
   "cell_type": "code",
   "execution_count": 2,
   "id": "9634d452-4acb-4580-a203-5b16f30362f3",
   "metadata": {
    "tags": []
   },
   "outputs": [],
   "source": [
    "# To create a class, use the keyword class:\n",
    "\n",
    "#Example\n",
    "#Create a class named MyClass, with a property named x:\n",
    "\n",
    "class MyClass:\n",
    "    x = 5\n"
   ]
  },
  {
   "cell_type": "markdown",
   "id": "7ac825f0-836e-4509-999b-85c242cd1dee",
   "metadata": {
    "tags": []
   },
   "source": [
    "#### Create an Object of class"
   ]
  },
  {
   "cell_type": "code",
   "execution_count": 3,
   "id": "6271327d-a0ae-4bbf-94ac-9ec3b2fe99d8",
   "metadata": {
    "tags": []
   },
   "outputs": [
    {
     "name": "stdout",
     "output_type": "stream",
     "text": [
      "5\n"
     ]
    }
   ],
   "source": [
    "#Create Object\n",
    "#Now we can use the class named MyClass to create objects:\n",
    "\n",
    "#Example\n",
    "#Create an object named p1, and print the value of x:\n",
    "\n",
    "p1 = MyClass()\n",
    "print(p1.x)\n"
   ]
  },
  {
   "cell_type": "markdown",
   "id": "19c901be-f793-4959-8332-af18dcb6ce34",
   "metadata": {
    "tags": []
   },
   "source": [
    "#### Constructor in Python class\n",
    "\n",
    "* __init__() \n",
    "* The examples above are classes and objects in their simplest form, and are not really useful in real life applications.\n",
    "* To understand the meaning of classes we have to understand the built-in __init__() function.\n",
    "* All classes have a function called __init__(), which is always executed when the class is being initiated.\n",
    "* Use the __init__() function to assign values to object properties, or other operations that are necessary to do when the object is being created.\n"
   ]
  },
  {
   "cell_type": "code",
   "execution_count": 5,
   "id": "e58dd297-fc17-4bcc-807d-835ea803f2f7",
   "metadata": {
    "tags": []
   },
   "outputs": [
    {
     "name": "stdout",
     "output_type": "stream",
     "text": [
      "John\n",
      "36\n",
      "Helix\n",
      "40\n"
     ]
    }
   ],
   "source": [
    "#Example\n",
    "#Create a class named Person, use the __init__() function to assign values for name and age:\n",
    "\n",
    "class Person:\n",
    "    def __init__(self, name, age):\n",
    "        self.name = name\n",
    "        self.age = age\n",
    "\n",
    "p1 = Person(\"John\", 36)\n",
    "p2 = Person(\"Helix\", 40)\n",
    "\n",
    "print(p1.name)\n",
    "print(p1.age)\n",
    "\n",
    "\n",
    "print(p2.name)\n",
    "print(p2.age)\n",
    "#Note: The __init__() function is called automatically every time the class is being used to create a new object.\n"
   ]
  },
  {
   "cell_type": "markdown",
   "id": "e2142089-3468-40c3-8b4c-c31c972e9b3b",
   "metadata": {},
   "source": [
    "#### Object Methods"
   ]
  },
  {
   "cell_type": "code",
   "execution_count": 6,
   "id": "c79b737d-0c43-4e2b-9bfe-ccc6cc4cc3e5",
   "metadata": {
    "tags": []
   },
   "outputs": [
    {
     "name": "stdout",
     "output_type": "stream",
     "text": [
      "Hello my name is John\n"
     ]
    },
    {
     "data": {
      "text/plain": [
       "53"
      ]
     },
     "execution_count": 6,
     "metadata": {},
     "output_type": "execute_result"
    }
   ],
   "source": [
    "# Objects can also contain methods. \n",
    "# Let us create a method in the Person class:\n",
    "\n",
    "#Example\n",
    "#Insert a function that prints a greeting, and execute it on the p1 object:\n",
    "\n",
    "import datetime\n",
    "\n",
    "class Person:\n",
    "    def __init__(self, name, birthdate:datetime.datetime):\n",
    "        self.name = name\n",
    "        self.birthdate = birthdate\n",
    "\n",
    "    def myfunc(self):\n",
    "        print(\"Hello my name is \" + self.name)\n",
    "        \n",
    "    def getAge(self):\n",
    "        delta_days = datetime.datetime.today() - self.birthdate\n",
    "        return delta_days.days//365\n",
    "            \n",
    "\n",
    "p1 = Person(\"John\", datetime.datetime(1970,1,1))\n",
    "p1.myfunc()\n",
    "p1.getAge()\n",
    "\n",
    "#Note: The self parameter is a reference to the current instance of the class, \n",
    "#and is used to access variables that belong to the class. \n"
   ]
  },
  {
   "cell_type": "markdown",
   "id": "278d0ccc-2940-4310-b729-9be55b0c29a3",
   "metadata": {
    "tags": []
   },
   "source": [
    "#### Self Parameter\n",
    "\n",
    "* similar to \"this\" keyword in java\n",
    "* The self parameter is a reference to the current instance of the class (i.e object), and is used to access variables that belongs to the class.\n",
    "* It does not have to be named self , you can call it whatever you like, \n",
    "* but it has to be the first parameter of any function in the class:\n"
   ]
  },
  {
   "cell_type": "code",
   "execution_count": 8,
   "id": "98099d85-01e5-45f5-be76-eda5236e19c9",
   "metadata": {
    "tags": []
   },
   "outputs": [
    {
     "name": "stdout",
     "output_type": "stream",
     "text": [
      "Hello my name is John\n"
     ]
    }
   ],
   "source": [
    "#Example\n",
    "#Use the words myobject and abc instead of self:\n",
    "\n",
    "class Person:\n",
    "    def __init__(myobject, name, age):\n",
    "        myobject.name = name\n",
    "        myobject.age = age\n",
    "\n",
    "    def myfunc(abc):\n",
    "        print(\"Hello my name is \" + abc.name)\n",
    "\n",
    "p1 = Person(\"John\", 36)\n",
    "p1.myfunc()\n"
   ]
  },
  {
   "cell_type": "markdown",
   "id": "515386e1-1738-45ad-bc93-825eb9e9e1a4",
   "metadata": {
    "tags": []
   },
   "source": [
    "#### Modify Object Properties"
   ]
  },
  {
   "cell_type": "code",
   "execution_count": 9,
   "id": "bb9b6357-5c31-47d3-816c-ee5648c80a40",
   "metadata": {
    "tags": []
   },
   "outputs": [],
   "source": [
    "# You can modify properties on objects like this:\n",
    "\n",
    "#Example\n",
    "#Set the age of p1 to 40:\n",
    "\n",
    "p1.age = 40\n"
   ]
  },
  {
   "cell_type": "markdown",
   "id": "8c9a26c1-46fe-4e98-b979-262895235b20",
   "metadata": {},
   "source": [
    "#### Delete Object Properties"
   ]
  },
  {
   "cell_type": "code",
   "execution_count": 30,
   "id": "c077d640-4149-4abb-a87a-917b49735e00",
   "metadata": {
    "tags": []
   },
   "outputs": [],
   "source": [
    "#You can delete properties on objects by using the del keyword:\n",
    "\n",
    "#Example\n",
    "#Delete the age property from the p1 object:\n",
    "\n",
    "del p1.age  \n",
    "\n",
    "#Delete Objects\n",
    "#You can delete objects by using the del keyword:\n",
    "\n",
    "#Example\n",
    "#Delete the p1 object:\n",
    "\n",
    "del p1\n",
    "\n"
   ]
  }
 ],
 "metadata": {
  "kernelspec": {
   "display_name": "Python 3 (ipykernel)",
   "language": "python",
   "name": "python3"
  },
  "language_info": {
   "codemirror_mode": {
    "name": "ipython",
    "version": 3
   },
   "file_extension": ".py",
   "mimetype": "text/x-python",
   "name": "python",
   "nbconvert_exporter": "python",
   "pygments_lexer": "ipython3",
   "version": "3.11.4"
  }
 },
 "nbformat": 4,
 "nbformat_minor": 5
}
