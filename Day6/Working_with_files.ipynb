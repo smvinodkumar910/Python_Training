{
 "cells": [
  {
   "cell_type": "markdown",
   "id": "1b4d379a-4b36-4349-9778-289439c09929",
   "metadata": {},
   "source": [
    "## Working with Files in Python\n",
    "\n",
    "* File handling is an important part of any application.\n",
    "* Python has several functions for creating, reading, updating, and deleting files.\n"
   ]
  },
  {
   "cell_type": "markdown",
   "id": "0a2bf5e9-84f9-4c57-890f-d990868e16b9",
   "metadata": {
    "tags": []
   },
   "source": [
    "### Open() function"
   ]
  },
  {
   "cell_type": "markdown",
   "id": "37371927-a76f-4416-a71d-4b6b4c0e9204",
   "metadata": {},
   "source": [
    "* The key function for working with files in Python is the open() function.\n",
    "* The open() function takes two parameters; filename, and mode.\n",
    "* There are four different methods (modes) for opening a file:\n",
    "\n",
    "\n",
    "| Modes | Usage  | Definition                                                                |\n",
    "|-------|--------|---------------------------------------------------------------------------|\n",
    "| \"r\"   | Read   | Default value. Opens a file for reading, error if the file does not exist |\n",
    "| \"a\"   | Append | Opens a file for appending, creates the file if it does not exist         |\n",
    "| \"w\"   | Write  | Opens a file for writing, creates the file if it does not exist           |\n",
    "| \"x\"   | Create | Creates the specified file, returns an error if the file exists           |\n",
    "| \"t\"   | Text   | Default value. Text mode                                                  |\n",
    "| \"b\"   | Binary | Binary mode (e.g. images)                                                 |"
   ]
  },
  {
   "cell_type": "markdown",
   "id": "94fd659f-8d17-447e-9d8c-14787e3d3b4b",
   "metadata": {},
   "source": [
    "### Reading files"
   ]
  },
  {
   "cell_type": "code",
   "execution_count": 1,
   "id": "3f2dc745-6be5-4c5b-9e6d-0689becbd475",
   "metadata": {
    "tags": []
   },
   "outputs": [],
   "source": [
    "#Syntax\n",
    "#To open a file for reading it is enough to specify the name of the file:\n",
    "\n",
    "f = open(\"Python_Classes.ipynb\",'rt')\n",
    "\n",
    "#The code above is the same as:\n",
    "\n",
    "f = open(\"Python_Classes.ipynb\")\n",
    "\n",
    "#Because \"r\" for read, and \"t\" for text are the default values, you do not need to specify them.\n",
    "#Note: Make sure the file exists, or else you will get an error.\n"
   ]
  },
  {
   "cell_type": "code",
   "execution_count": 4,
   "id": "e6692670-ac89-42f2-a9e6-ce6baa1ad507",
   "metadata": {
    "tags": []
   },
   "outputs": [
    {
     "name": "stdout",
     "output_type": "stream",
     "text": [
      "['Hello! Welcome to demofile.txt\\n', 'This file is for testing purposes.\\n', 'Good Luck!\\n']\n"
     ]
    }
   ],
   "source": [
    "#Open a File on the Server\n",
    "#Assume we have the following file, located in the same folder as Python:\n",
    "\n",
    "#demofile.txt\n",
    "\n",
    "#Hello! Welcome to demofile.txt\n",
    "#This file is for testing purposes.\n",
    "#Good Luck!\n",
    "\n",
    "#To open the file, use the built-in open() function.\n",
    "\n",
    "#The open() function returns a file object, which has a read() method for reading the content of the file:\n",
    "\n",
    "#Example\n",
    "f = open(\"demofile.txt\", \"r\")\n",
    "\n",
    "x = f.readlines()\n",
    "print(x)\n"
   ]
  },
  {
   "cell_type": "code",
   "execution_count": 5,
   "id": "a21a037b-2ac8-431c-a7c4-6520da985e84",
   "metadata": {
    "tags": []
   },
   "outputs": [
    {
     "name": "stdout",
     "output_type": "stream",
     "text": [
      "Hello! Welcome to demofile.txt\n",
      "This file is for testing purposes.\n",
      "Good Luck!\n",
      "\n"
     ]
    }
   ],
   "source": [
    "\n",
    "#If the file is located in a different location, you will have to specify the file path, like this:\n",
    "\n",
    "#Example\n",
    "#Open a file on a different location:\n",
    "\n",
    "f = open(\"C:\\\\Users\\\\smvin\\\\Documents\\\\Python_training\\\\Day6\\\\demofile.txt\", \"r\")\n",
    "print(f.read())\n"
   ]
  },
  {
   "cell_type": "markdown",
   "id": "adb827b5-826e-4a94-b3b0-2a22acd8ddde",
   "metadata": {},
   "source": [
    "#### Read Only Parts of the File"
   ]
  },
  {
   "cell_type": "code",
   "execution_count": 6,
   "id": "9a680404-ba5b-45a5-a760-dfed95fd45cc",
   "metadata": {
    "tags": []
   },
   "outputs": [
    {
     "name": "stdout",
     "output_type": "stream",
     "text": [
      "Hello\n"
     ]
    }
   ],
   "source": [
    "\n",
    "#By default the read() method returns the whole text, but you can also specify how many characters you want to return:\n",
    "\n",
    "#Example\n",
    "#Return the 5 first characters of the file:\n",
    "\n",
    "f = open(\"demofile.txt\", \"r\")\n",
    "print(f.read(5))\n"
   ]
  },
  {
   "cell_type": "markdown",
   "id": "b09ffd47-b6a1-45ce-a3b5-90e69be77847",
   "metadata": {},
   "source": [
    "#### Read Lines"
   ]
  },
  {
   "cell_type": "code",
   "execution_count": 8,
   "id": "efaecbe6-08be-4e0d-beb3-a7e7def18675",
   "metadata": {
    "tags": []
   },
   "outputs": [
    {
     "name": "stdout",
     "output_type": "stream",
     "text": [
      "Hello! Welcome to demofile.txt\n",
      "\n",
      "Hello! Welcome to demofile.txt\n",
      "\n",
      "This file is for testing purposes.\n",
      "\n",
      "Hello! Welcome to demofile.txt\n",
      "\n",
      "This file is for testing purposes.\n",
      "\n",
      "Good Luck!\n",
      "\n"
     ]
    }
   ],
   "source": [
    "#You can return one line by using the readline() method:\n",
    "\n",
    "#Example\n",
    "#Read one line of the file:\n",
    "\n",
    "#read, readlines(), readline\n",
    "\n",
    "f = open(\"demofile.txt\", \"r\")\n",
    "print(f.readline())\n",
    "\n",
    "#By calling readline() two times, you can read the two first lines:\n",
    "\n",
    "#Example\n",
    "#Read two lines of the file:\n",
    "\n",
    "f = open(\"demofile.txt\", \"r\")\n",
    "print(f.readline())\n",
    "print(f.readline())\n",
    "\n",
    "#By looping through the lines of the file, you can read the whole file, line by line:\n",
    "\n",
    "#Example\n",
    "#Loop through the file line by line:\n",
    "\n",
    "f = open(\"demofile.txt\", \"r\")\n",
    "for x in f:\n",
    "    print(x)\n"
   ]
  },
  {
   "cell_type": "markdown",
   "id": "7bb7a6b2-2a25-4239-b695-284bf09885a1",
   "metadata": {
    "tags": []
   },
   "source": [
    "### Close Files"
   ]
  },
  {
   "cell_type": "code",
   "execution_count": 23,
   "id": "7c6b5f39-4f4a-4daf-b673-6a8407281b05",
   "metadata": {
    "tags": []
   },
   "outputs": [
    {
     "name": "stdout",
     "output_type": "stream",
     "text": [
      "Hello! Welcome to demofile.txt\n",
      "\n"
     ]
    }
   ],
   "source": [
    "#It is a good practice to always close the file when you are done with it.\n",
    "\n",
    "#Example\n",
    "#Close the file when you are finish with it:\n",
    "\n",
    "f = open(\"demofile.txt\", \"r\")\n",
    "print(f.readline())\n",
    "f.close()\n",
    "\n",
    "with open(\"demofile.txt\", \"r\") as f:\n",
    "    print(f.readlines())\n",
    "\n",
    "#Note: You should always close your files, in some cases, \n",
    "#due to buffering, changes made to a file may not show until you close the file."
   ]
  },
  {
   "cell_type": "markdown",
   "id": "ac0f3741-1052-44eb-a4a5-280e4dd1f155",
   "metadata": {},
   "source": [
    "### Write Files"
   ]
  },
  {
   "cell_type": "markdown",
   "id": "62a74f6f-649b-4bf7-a97d-50f86af72fb2",
   "metadata": {},
   "source": [
    "* Write to an Existing File\n",
    "* To write to an existing file, you must add a parameter to the open() function:\n",
    "* \"a\" - Append - will append to the end of the file\n",
    "* \"w\" - Write - will overwrite any existing content"
   ]
  },
  {
   "cell_type": "code",
   "execution_count": 9,
   "id": "005e9d57-3229-4ba6-a6cf-5e8a6da07556",
   "metadata": {
    "tags": []
   },
   "outputs": [],
   "source": [
    "#Example\n",
    "#Open the file \"demofile2.txt\" and append content to the file:\n",
    "\n",
    "f = open(\"demofile2.txt\", \"a\")\n",
    "f.write(\"Now the file has more content!\")\n",
    "f.close()"
   ]
  },
  {
   "cell_type": "code",
   "execution_count": 10,
   "id": "4d890519-feb0-49fe-a24b-fcc7ff6c3f4d",
   "metadata": {
    "tags": []
   },
   "outputs": [
    {
     "name": "stdout",
     "output_type": "stream",
     "text": [
      "Now the file has more content!\n"
     ]
    }
   ],
   "source": [
    "#open and read the file after the appending:\n",
    "f = open(\"demofile2.txt\", \"r\")\n",
    "print(f.read())\n"
   ]
  },
  {
   "cell_type": "code",
   "execution_count": 11,
   "id": "aec1c5fc-4590-456c-b72b-3d11806833c1",
   "metadata": {
    "tags": []
   },
   "outputs": [
    {
     "name": "stdout",
     "output_type": "stream",
     "text": [
      "Woops! I have deleted the content!\n"
     ]
    }
   ],
   "source": [
    "#Example\n",
    "#Open the file \"demofile3.txt\" and overwrite the content:\n",
    "\n",
    "f = open(\"demofile3.txt\", \"w\")\n",
    "f.write(\"Woops! I have deleted the content!\")\n",
    "f.close()\n",
    "\n",
    "#open and read the file after the appending:\n",
    "f = open(\"demofile3.txt\", \"r\")\n",
    "print(f.read())\n",
    "\n",
    "#Note: the \"w\" method will overwrite the entire file.\n"
   ]
  },
  {
   "cell_type": "markdown",
   "id": "78f6c382-155d-461b-8c1b-63fd78893b7d",
   "metadata": {},
   "source": [
    "#### Create a New File\n",
    "\n",
    "* To create a new file in Python, use the open() method, with one of the following parameters:\n",
    "* \"x\" - Create - will create a file, returns an error if the file exist\n",
    "* \"a\" - Append - will create a file if the specified file does not exist\n",
    "* \"w\" - Write - will create a file if the specified file does not exist\n"
   ]
  },
  {
   "cell_type": "code",
   "execution_count": 12,
   "id": "9d479520-8690-47f5-947f-3b96873f35bc",
   "metadata": {
    "tags": []
   },
   "outputs": [],
   "source": [
    "#Example\n",
    "#Create a file called \"myfile.txt\":\n",
    "\n",
    "f = open(\"myfile.txt\", \"x\")\n",
    "\n",
    "#Result: a new empty file is created!\n",
    "\n",
    "#Example\n",
    "#Create a new file if it does not exist:\n",
    "\n",
    "#f = open(\"myfile.txt\", \"w\")\n",
    "#f.close()"
   ]
  },
  {
   "cell_type": "markdown",
   "id": "677f392c-a594-4ecc-9aaf-832f8c3a0def",
   "metadata": {},
   "source": [
    "### Delete file\n",
    "\n",
    "* To delete a file, you must import the OS module, and run its os.remove() function."
   ]
  },
  {
   "cell_type": "code",
   "execution_count": 32,
   "id": "8e46db83-8d41-45a4-b3a4-d42e91792790",
   "metadata": {
    "tags": []
   },
   "outputs": [],
   "source": [
    "#Example\n",
    "#Remove the file \"demofile.txt\":\n",
    "\n",
    "import os\n",
    "os.remove(\"demofile2.txt\")"
   ]
  },
  {
   "cell_type": "code",
   "execution_count": 34,
   "id": "9e7c838d-7197-4942-847b-3d0daa41686d",
   "metadata": {
    "tags": []
   },
   "outputs": [
    {
     "name": "stdout",
     "output_type": "stream",
     "text": [
      "The file does not exist\n"
     ]
    }
   ],
   "source": [
    "#Check if File exist:\n",
    "#To avoid getting an error, you might want to check if the file exists before you try to delete it:\n",
    "\n",
    "##Example\n",
    "#Check if file exists, then delete it:\n",
    "\n",
    "import os\n",
    "if os.path.exists(\"demofile2.txt\"):\n",
    "    os.remove(\"demofile.txt\")\n",
    "else:\n",
    "    print(\"The file does not exist\")\n"
   ]
  },
  {
   "cell_type": "code",
   "execution_count": 14,
   "id": "51c79416-c22f-4173-8973-d8823c5e47aa",
   "metadata": {
    "tags": []
   },
   "outputs": [],
   "source": [
    "#Delete Folder\n",
    "#To delete an entire folder, use the os.rmdir() method:\n",
    "\n",
    "#Example\n",
    "#Remove the folder \"myfolder\":\n",
    "\n",
    "#import os\n",
    "#os.rmdir(\"myfolder\")\n",
    "\n",
    "#Note: You can only remove empty folders."
   ]
  }
 ],
 "metadata": {
  "kernelspec": {
   "display_name": "Python 3 (ipykernel)",
   "language": "python",
   "name": "python3"
  },
  "language_info": {
   "codemirror_mode": {
    "name": "ipython",
    "version": 3
   },
   "file_extension": ".py",
   "mimetype": "text/x-python",
   "name": "python",
   "nbconvert_exporter": "python",
   "pygments_lexer": "ipython3",
   "version": "3.11.4"
  }
 },
 "nbformat": 4,
 "nbformat_minor": 5
}
