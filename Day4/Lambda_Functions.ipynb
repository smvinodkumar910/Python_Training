{
 "cells": [
  {
   "cell_type": "markdown",
   "id": "ce923ba4-04d7-4f41-9095-93f4f89faeb7",
   "metadata": {},
   "source": [
    "## Lambda Functions\n",
    "\n",
    "* A lambda function is a small anonymous function.\n",
    "* A lambda function can take any number of arguments, but can only have one expression.\n",
    "\n"
   ]
  },
  {
   "cell_type": "code",
   "execution_count": 14,
   "id": "62def118-8240-4a9f-a9df-4a5c6dc2d448",
   "metadata": {
    "tags": []
   },
   "outputs": [
    {
     "name": "stdout",
     "output_type": "stream",
     "text": [
      "15\n"
     ]
    }
   ],
   "source": [
    "#Syntax\n",
    "\n",
    "#lambda arguments : expression\n",
    "\n",
    "#The expression is executed and the result is returned:\n",
    "\n",
    "#Example\n",
    "#Add 10 to argument a, and return the result:\n",
    "\n",
    "x = lambda a : a + 10\n",
    "\n",
    "print(x(5))\n"
   ]
  },
  {
   "cell_type": "code",
   "execution_count": 2,
   "id": "1a0e5d38-b78d-4f0d-be93-f651b2312eb0",
   "metadata": {
    "tags": []
   },
   "outputs": [
    {
     "name": "stdout",
     "output_type": "stream",
     "text": [
      "30\n",
      "13\n"
     ]
    }
   ],
   "source": [
    "#Lambda functions can take any number of arguments:\n",
    "\n",
    "#Example\n",
    "#Multiply argument a with argument b and return the result:\n",
    "\n",
    "x = lambda a, b : a * b\n",
    "print(x(5, 6))\n",
    "\n",
    "#Example\n",
    "#Summarize argument a, b, and c and return the result:\n",
    "\n",
    "x = lambda a, b, c : a + b + c\n",
    "print(x(5, 6, 2))\n"
   ]
  },
  {
   "cell_type": "markdown",
   "id": "65b0cde9-702c-4ed3-b739-4d7149b208b7",
   "metadata": {},
   "source": [
    "### Why Lambda Functions\n",
    "\n",
    "* The power of lambda is better shown when you use them as an anonymous function inside another function.\n"
   ]
  },
  {
   "cell_type": "code",
   "execution_count": 18,
   "id": "65701bf3-7c50-44dd-a577-19eabb078d29",
   "metadata": {
    "tags": []
   },
   "outputs": [
    {
     "name": "stdout",
     "output_type": "stream",
     "text": [
      "22\n"
     ]
    }
   ],
   "source": [
    "# Say you have a function definition that takes one argument, and that argument will be multiplied with an unknown number:\n",
    "\n",
    "def myfunc(n):\n",
    "    return lambda a : a * n\n",
    "#Use that function definition to make a function that always doubles the number you send in:\n",
    "\n",
    "#Example\n",
    "def myfunc(n):\n",
    "    return lambda a : a * n\n",
    "\n",
    "mydoubler = myfunc(2)\n",
    "\n",
    "print(mydoubler(11))\n"
   ]
  },
  {
   "cell_type": "code",
   "execution_count": 7,
   "id": "560a4861-d94f-4b66-9203-63646a21f458",
   "metadata": {
    "tags": []
   },
   "outputs": [
    {
     "name": "stdout",
     "output_type": "stream",
     "text": [
      "33\n"
     ]
    }
   ],
   "source": [
    "\n",
    "# use the same function definition to make a function that always triples the number you send in:\n",
    "\n",
    "#Example\n",
    "def myfunc(n):\n",
    "    return lambda a : a * n\n",
    "\n",
    "mytripler = myfunc(3)\n",
    "\n",
    "print(mytripler(11))"
   ]
  },
  {
   "cell_type": "code",
   "execution_count": 16,
   "id": "97a0c2df-7114-43d2-912b-1f4ed0c68c92",
   "metadata": {
    "tags": []
   },
   "outputs": [
    {
     "name": "stdout",
     "output_type": "stream",
     "text": [
      "22\n",
      "33\n"
     ]
    }
   ],
   "source": [
    "\n",
    "#use the same function definition to make both functions, in the same program:\n",
    "\n",
    "#Example\n",
    "def myfunc(n):\n",
    "    return lambda a : a * n\n",
    "\n",
    "mydoubler = myfunc(2)\n",
    "mytripler = myfunc(3)\n",
    "\n",
    "print(mydoubler(11))\n",
    "print(mytripler(11))\n",
    "\n",
    "#Use lambda functions when an anonymous function is required for a short period of time."
   ]
  },
  {
   "cell_type": "code",
   "execution_count": 17,
   "id": "bd856308-42f2-42cf-ad9d-1f8e6ab68d9e",
   "metadata": {
    "tags": []
   },
   "outputs": [
    {
     "name": "stdout",
     "output_type": "stream",
     "text": [
      "co\n"
     ]
    }
   ],
   "source": [
    "# We can pass a function to lambda \n",
    "\n",
    "def myfunc(inputstr):\n",
    "    print(inputstr[0:2])\n",
    "    \n",
    "funcvar = lambda x : myfunc(x)\n",
    "\n",
    "funcvar('countrye')"
   ]
  },
  {
   "cell_type": "code",
   "execution_count": 12,
   "id": "a9428dd6-4382-43b9-b8ef-d5d0b2a0d0e5",
   "metadata": {
    "tags": []
   },
   "outputs": [
    {
     "name": "stdout",
     "output_type": "stream",
     "text": [
      "key1 val1\n",
      "key2 val2\n",
      "key3 val3\n"
     ]
    }
   ],
   "source": [
    "# We can pass a function to lambda \n",
    "\n",
    "def myfunc(inputdict):\n",
    "    for key,val in inputdict.items():\n",
    "        print(key, val)\n",
    "    \n",
    "funcvar = lambda x : myfunc(x)\n",
    "\n",
    "dict1 = {\n",
    "\"key1\" : \"val1\",\n",
    "\"key2\" : \"val2\",\n",
    "\"key3\" : \"val3\"\n",
    "}\n",
    "\n",
    "funcvar(dict1)"
   ]
  }
 ],
 "metadata": {
  "kernelspec": {
   "display_name": "Python 3 (ipykernel)",
   "language": "python",
   "name": "python3"
  },
  "language_info": {
   "codemirror_mode": {
    "name": "ipython",
    "version": 3
   },
   "file_extension": ".py",
   "mimetype": "text/x-python",
   "name": "python",
   "nbconvert_exporter": "python",
   "pygments_lexer": "ipython3",
   "version": "3.11.4"
  }
 },
 "nbformat": 4,
 "nbformat_minor": 5
}
