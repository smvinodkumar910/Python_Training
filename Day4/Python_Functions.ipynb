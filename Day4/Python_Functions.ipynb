{
 "cells": [
  {
   "cell_type": "markdown",
   "id": "3b0f4aee-9852-4bf0-8022-23e47db05ac8",
   "metadata": {},
   "source": [
    "## Python Functions\n",
    "\n",
    "* A function is a block of code which only runs when it is called.\n",
    "* You can pass data, known as parameters, into a function.\n",
    "* A function can return data as a result."
   ]
  },
  {
   "cell_type": "markdown",
   "id": "30d1cdd5-4675-46c6-906e-b9558addd7f9",
   "metadata": {
    "tags": []
   },
   "source": [
    "### Creating Function"
   ]
  },
  {
   "cell_type": "code",
   "execution_count": 5,
   "id": "be627bd7-5fbf-466c-a7da-42bac7b5b8af",
   "metadata": {
    "tags": []
   },
   "outputs": [
    {
     "name": "stdout",
     "output_type": "stream",
     "text": [
      "Hello from a function\n"
     ]
    }
   ],
   "source": [
    "#In Python a function is defined using the def keyword:\n",
    "                \n",
    "#Example\n",
    "def my_function():\n",
    "    print(\"Hello from a function\")\n",
    "    \n",
    "#To call a function, use the function name followed by parenthesis:\n",
    "\n",
    "#Example\n",
    "my_function()"
   ]
  },
  {
   "cell_type": "markdown",
   "id": "bb87cbfe-92b0-4f12-8b8f-a795582fe278",
   "metadata": {},
   "source": [
    "### Arguments\n",
    "\n",
    "* Information can be passed into functions as arguments.\n",
    "* Arguments are specified after the function name, inside the parentheses. \n",
    "* You can add as many arguments as you want, just separate them with a comma.\n"
   ]
  },
  {
   "cell_type": "code",
   "execution_count": 6,
   "id": "8e3ec1d0-5617-4433-9d0c-a276ab69da71",
   "metadata": {
    "tags": []
   },
   "outputs": [
    {
     "name": "stdout",
     "output_type": "stream",
     "text": [
      "Emil Refsnes\n",
      "Tobias Refsnes\n",
      "Linus Refsnes\n"
     ]
    }
   ],
   "source": [
    "#The following example has a function with one argument (fname). When the function is called, \n",
    "\n",
    "#we pass along a first name, which is used inside the function to print the full name:\n",
    "\n",
    "#Example\n",
    "def my_function(fname):\n",
    "  print(fname + \" Refsnes\")\n",
    "\n",
    "my_function(\"Emil\")\n",
    "my_function(\"Tobias\")\n",
    "my_function(\"Linus\")\n",
    "#Arguments are often shortened to args in Python documentations."
   ]
  },
  {
   "cell_type": "markdown",
   "id": "46818ab3-03fd-4a73-a199-cb652938c3c0",
   "metadata": {},
   "source": [
    "### Number of Arguments\n",
    "\n",
    "* By default, a function must be called with the correct number of arguments. \n",
    "* Meaning that if your function expects 2 arguments, \n",
    "* you have to call the function with 2 arguments, not more, and not less."
   ]
  },
  {
   "cell_type": "code",
   "execution_count": 8,
   "id": "6f74a188-0934-4283-afb9-f9ff146ed3ae",
   "metadata": {
    "tags": []
   },
   "outputs": [
    {
     "name": "stdout",
     "output_type": "stream",
     "text": [
      "Emil Refsnes\n"
     ]
    }
   ],
   "source": [
    "\n",
    "#Example\n",
    "#This function expects 2 arguments, and gets 2 arguments:\n",
    "\n",
    "def my_function(fname, lname):\n",
    "    print(fname + \" \" + lname)\n",
    "\n",
    "my_function(\"Emil\", \"Refsnes\")\n",
    "\n",
    "#If you try to call the function with 1 or 3 arguments, you will get an error:\n",
    "#Example\n",
    "#This function expects 2 arguments, but gets only 1:\n",
    "\n",
    "\n",
    "#my_function(\"Emil\")\n"
   ]
  },
  {
   "cell_type": "markdown",
   "id": "40bee09f-6623-4f7a-ba41-28c215c2f663",
   "metadata": {
    "tags": []
   },
   "source": [
    "### Arbitrary Arguments\n",
    "\n",
    "* If you do not know how many arguments that will be passed into your function, add a * before the parameter name in the function definition.\n",
    "\n",
    "* This way the function will receive a **tuple** of arguments, and can access the items accordingly:"
   ]
  },
  {
   "cell_type": "code",
   "execution_count": 15,
   "id": "cc3191b2-0c3d-40d3-b73d-702f416998bc",
   "metadata": {
    "tags": []
   },
   "outputs": [
    {
     "name": "stdout",
     "output_type": "stream",
     "text": [
      "The youngest child is Linus\n"
     ]
    }
   ],
   "source": [
    "\n",
    "#Example\n",
    "#If the number of arguments is unknown, add a * before the parameter name:\n",
    "\n",
    "def my_function(*kids):\n",
    "    print(\"The youngest child is \" + kids[-1])\n",
    "\n",
    "my_function(\"Emil\", \"Tobias\", \"Linus\")\n",
    "\n"
   ]
  },
  {
   "cell_type": "markdown",
   "id": "c910b33b-1f5b-463f-ad3b-c7639bb1b5d7",
   "metadata": {},
   "source": [
    "### Keyword Arguments\n",
    "\n",
    "* You can also send arguments with the key = value syntax.\n",
    "* This way the order of the arguments does not matter."
   ]
  },
  {
   "cell_type": "code",
   "execution_count": 14,
   "id": "3ad5ad7d-a625-4e0b-8594-cc1f8f9abfe6",
   "metadata": {
    "tags": []
   },
   "outputs": [
    {
     "name": "stdout",
     "output_type": "stream",
     "text": [
      "The youngest child is Linus\n"
     ]
    }
   ],
   "source": [
    "\n",
    "#Example\n",
    "def my_function(child3, child2, child1):\n",
    "    print(\"The youngest child is \" + child3)\n",
    "\n",
    "my_function(child1 = \"Emil\", child2 = \"Tobias\", child3 = \"Linus\")\n",
    "#The phrase Keyword Arguments are often shortened to kwargs in Python documentations.\n"
   ]
  },
  {
   "cell_type": "markdown",
   "id": "86dc7d78-c243-4890-bbff-436c63927bd2",
   "metadata": {},
   "source": [
    "### Arbitrary Keyword Arguments\n",
    "\n",
    "* If you do not know how many keyword arguments that will be passed into your function, \n",
    "add two asterisk: ** before the parameter name in the function definition.\n",
    "This way the function will receive a **dictionary** of arguments, and can access the items accordingly:\n"
   ]
  },
  {
   "cell_type": "code",
   "execution_count": 17,
   "id": "80c48823-5532-4a5b-a70d-1b8903bb7a2c",
   "metadata": {
    "tags": []
   },
   "outputs": [
    {
     "name": "stdout",
     "output_type": "stream",
     "text": [
      "His last name is Refsnes\n"
     ]
    }
   ],
   "source": [
    "\n",
    "#Arbitrary Keyword Arguments, **kwargs\n",
    "\n",
    "#Example\n",
    "#If the number of keyword arguments is unknown, add a double ** before the parameter name:   \n",
    "def my_function(**kid):\n",
    "    print(\"His last name is \" + kid[\"lname\"])\n",
    "\n",
    "my_function(fname = \"Tobias\", lname = \"Refsnes\")\n",
    "\n",
    "#Arbitrary Kword Arguments are often shortened to **kwargs in Python documentations.\n"
   ]
  },
  {
   "cell_type": "markdown",
   "id": "1611b1cf-f916-45fa-842a-67dc168eb2be",
   "metadata": {},
   "source": [
    "### Default Parameter Value"
   ]
  },
  {
   "cell_type": "code",
   "execution_count": 19,
   "id": "a04a0d6b-6909-4bbf-aceb-38a003228476",
   "metadata": {
    "tags": []
   },
   "outputs": [
    {
     "name": "stdout",
     "output_type": "stream",
     "text": [
      "I am from Sweden\n",
      "I am from India\n",
      "I am from Norway\n",
      "I am from Brazil\n"
     ]
    }
   ],
   "source": [
    "#Default Parameter Value\n",
    "#The following example shows how to use a default parameter value.\n",
    "#If we call the function without argument, it uses the default value:\n",
    "\n",
    "#Example\n",
    "def my_function(country = \"Norway\"):\n",
    "    print(\"I am from \" + country)\n",
    "\n",
    "my_function(\"Sweden\")\n",
    "my_function(\"India\")\n",
    "my_function()\n",
    "my_function(\"Brazil\")\n"
   ]
  },
  {
   "cell_type": "markdown",
   "id": "e215fc58-6e2d-43a7-8b9b-8b0a694b6d02",
   "metadata": {
    "tags": []
   },
   "source": [
    "### Passing collection datatypes"
   ]
  },
  {
   "cell_type": "code",
   "execution_count": 22,
   "id": "f23be63c-e6f2-476a-b56e-87bac86b1954",
   "metadata": {
    "tags": []
   },
   "outputs": [
    {
     "name": "stdout",
     "output_type": "stream",
     "text": [
      "apple\n",
      "banana\n",
      "cherry\n"
     ]
    }
   ],
   "source": [
    "#You can send any data types of argument to a function (string, number, list, dictionary etc.), \n",
    "#and it will be treated as the same data type inside the function.\n",
    "\n",
    "#E.g. if you send a List as an argument, it will still be a List when it reaches the function:\n",
    "\n",
    "#Example\n",
    "def my_function(food):\n",
    "    for x in food:\n",
    "        print(x)\n",
    "\n",
    "fruits = [\"apple\", \"banana\", \"cherry\"]\n",
    "\n",
    "my_function(fruits)\n"
   ]
  },
  {
   "cell_type": "markdown",
   "id": "5f9ba438-81b0-4b20-a2ab-912eb389647f",
   "metadata": {
    "tags": []
   },
   "source": [
    "### Return Values\n"
   ]
  },
  {
   "cell_type": "code",
   "execution_count": 28,
   "id": "ac2a4e25-3531-4c96-9cf7-abcf8e508314",
   "metadata": {
    "tags": []
   },
   "outputs": [
    {
     "name": "stdout",
     "output_type": "stream",
     "text": [
      "15\n",
      "25\n",
      "45\n",
      "3\n"
     ]
    }
   ],
   "source": [
    "#To let a function return a value, use the return statement:\n",
    "\n",
    "#Example\n",
    "def my_function(x):\n",
    "    return 5 * x\n",
    "\n",
    "print(my_function(3))\n",
    "print(my_function(5))\n",
    "print(my_function(9))\n",
    "\n",
    "#The pass Statement\n",
    "#function definitions cannot be empty, but if you for some reason have a function definition with no content, \n",
    "#put in the pass statement to avoid getting an error.\n",
    "\n",
    "#Example:\n",
    "#Example\n",
    "def myfunction(x):\n",
    "    if x==2:\n",
    "        pass\n",
    "    else:\n",
    "        print(x)\n",
    "\n",
    "myfunction(3)"
   ]
  },
  {
   "cell_type": "markdown",
   "id": "e6da7383-41bb-4181-95d2-3b2d1f10fed2",
   "metadata": {},
   "source": [
    "### Recursion\n",
    "\n",
    "* Python also accepts function recursion, which means a defined function can call itself.\n",
    "* Recursion is a common mathematical and programming concept. It means that a function calls itself. \n",
    "* This has the benefit of meaning that you can loop through data to reach a result.\n",
    "\n",
    "* The developer should be very careful with recursion as it can be quite easy to slip into writing a function which never terminates, \n",
    "or one that uses excess amounts of memory or processor power. However, when written correctly recursion can be a very efficient and mathematically-elegant approach to programming.\n"
   ]
  },
  {
   "cell_type": "code",
   "execution_count": 34,
   "id": "43236a1c-d457-459c-8d58-d64c763e074a",
   "metadata": {
    "tags": []
   },
   "outputs": [
    {
     "name": "stdout",
     "output_type": "stream",
     "text": [
      "\n",
      "\n",
      "Recursion Example Results\n",
      "1\n",
      "3\n",
      "6\n",
      "10\n",
      "15\n",
      "21\n"
     ]
    },
    {
     "data": {
      "text/plain": [
       "21"
      ]
     },
     "execution_count": 34,
     "metadata": {},
     "output_type": "execute_result"
    }
   ],
   "source": [
    "\n",
    "#In this example, tri_recursion() is a function that we have defined to call itself (\"recurse\"). \n",
    "# We use the k variable as the data, which decrements (-1) every time we recurse. \n",
    "\n",
    "#The recursion ends when the condition is not greater than 0 (i.e. when it is 0).\n",
    "#To a new developer it can take some time to work out how exactly this works, best way to find out is by testing and modifying it.\n",
    "\n",
    "#Example\n",
    "#Recursion Example\n",
    "\n",
    "def tri_recursion(k):\n",
    "    if(k > 0):\n",
    "        result =  k + tri_recursion(k - 1)\n",
    "        print(result)\n",
    "    else:\n",
    "        result = 0\n",
    "    return result\n",
    "\n",
    "print(\"\\n\\nRecursion Example Results\")\n",
    "tri_recursion(6)\n",
    "\n",
    "\n"
   ]
  }
 ],
 "metadata": {
  "kernelspec": {
   "display_name": "Python 3 (ipykernel)",
   "language": "python",
   "name": "python3"
  },
  "language_info": {
   "codemirror_mode": {
    "name": "ipython",
    "version": 3
   },
   "file_extension": ".py",
   "mimetype": "text/x-python",
   "name": "python",
   "nbconvert_exporter": "python",
   "pygments_lexer": "ipython3",
   "version": "3.11.4"
  }
 },
 "nbformat": 4,
 "nbformat_minor": 5
}
