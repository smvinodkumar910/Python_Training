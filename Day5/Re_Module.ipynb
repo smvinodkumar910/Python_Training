{
 "cells": [
  {
   "cell_type": "markdown",
   "id": "44670922-fe65-43c9-8e35-6a0c33d5aa78",
   "metadata": {},
   "source": [
    "## RegEx in Python\n",
    "\n",
    "* A RegEx, or Regular Expression, is a sequence of characters that forms a search pattern.\n",
    "* RegEx can be used to check if a string contains the specified search pattern.\n",
    "* Python has a built-in package called **re**, which can be used to work with Regular Expressions."
   ]
  },
  {
   "cell_type": "code",
   "execution_count": 9,
   "id": "dfdbd9de-5a6f-4a3e-82f0-b65c375f9366",
   "metadata": {
    "tags": []
   },
   "outputs": [
    {
     "name": "stdout",
     "output_type": "stream",
     "text": [
      "<re.Match object; span=(0, 17), match='The rain in Spain'>\n"
     ]
    }
   ],
   "source": [
    "#Example\n",
    "#Search the string to see if it starts with \"The\" and ends with \"Spain\":\n",
    "\n",
    "import re\n",
    "\n",
    "txt = \"The rain in Spain\"\n",
    "x = re.search(\"^The.*Spain$\", txt)\n",
    "print(x)\n"
   ]
  },
  {
   "cell_type": "markdown",
   "id": "6beb356a-c1b6-40de-92b1-e5e8a0018573",
   "metadata": {},
   "source": [
    "### RegEx Functions\n",
    "\n",
    "* The re module offers a set of functions that allows us to search a string for a match:\n",
    "* The **findall()** function returns a list containing all matches.\n",
    "* The **search()** function searches the string for a match, and returns a Match object if there is a match.\n",
    "* The **split()** function returns a list where the string has been split at each match.\n",
    "* The **sub()** function replaces the matches with the text of your choice"
   ]
  },
  {
   "cell_type": "markdown",
   "id": "9c0a9d92-111a-40a2-9807-88d058d02a3e",
   "metadata": {},
   "source": [
    "#### findall()"
   ]
  },
  {
   "cell_type": "code",
   "execution_count": 16,
   "id": "6852374a-c708-4ee2-b225-d59b3f0b7266",
   "metadata": {
    "tags": []
   },
   "outputs": [
    {
     "name": "stdout",
     "output_type": "stream",
     "text": [
      "['ai', 'ai']\n",
      "[]\n"
     ]
    }
   ],
   "source": [
    "#Example\n",
    "#Print a list of all matches:\n",
    "\n",
    "import re\n",
    "\n",
    "txt = \"The rain in Spain\"\n",
    "x = re.findall(\"ai\", txt)\n",
    "print(x)\n",
    "\n",
    "#The list contains the matches in the order they are found.\n",
    "#If no matches are found, an empty list is returned:\t\n",
    "\n",
    "#Example\n",
    "#Return an empty list if no match was found:\n",
    "\n",
    "import re\n",
    "\n",
    "txt = \"The rain in Spain\"\n",
    "x = re.findall(\"Portugal\", txt)\n",
    "print(x)\n",
    "\n",
    "\n"
   ]
  },
  {
   "cell_type": "markdown",
   "id": "2de492c6-a2e2-4c40-933a-d2c6cee975a5",
   "metadata": {
    "tags": []
   },
   "source": [
    "#### search()"
   ]
  },
  {
   "cell_type": "code",
   "execution_count": 15,
   "id": "11969a93-5700-4ae8-b822-2060dc1b0b39",
   "metadata": {
    "tags": []
   },
   "outputs": [
    {
     "name": "stdout",
     "output_type": "stream",
     "text": [
      "<re.Match object; span=(3, 4), match=' '>\n",
      "The first white-space character is located in position: 3\n",
      "None\n"
     ]
    }
   ],
   "source": [
    "# The search() Function\n",
    "#If there is more than one match, only the first occurrence of the match will be returned:\n",
    "\n",
    "#Example\n",
    "#Search for the first white-space character in the string:\n",
    "\n",
    "import re\n",
    "\n",
    "txt = \"The rain in Spain\"\n",
    "x = re.search(\"\\s\", txt)\n",
    "print(x)\n",
    "print(\"The first white-space character is located in position:\", x.start())\t\n",
    "\n",
    "#If no matches are found, the value None is returned:\n",
    "\n",
    "#Example\n",
    "#Make a search that returns no match:\n",
    "\n",
    "import re\n",
    "\n",
    "txt = \"The rain in Spain\"\n",
    "x = re.search(\"Portugal\", txt)\n",
    "print(x)"
   ]
  },
  {
   "cell_type": "markdown",
   "id": "fefa59c1-f082-4270-9dbf-8d7a4d1d1749",
   "metadata": {},
   "source": [
    "#### split()"
   ]
  },
  {
   "cell_type": "code",
   "execution_count": 18,
   "id": "decf6908-db87-4a09-9dae-95a029d77a6b",
   "metadata": {
    "tags": []
   },
   "outputs": [
    {
     "name": "stdout",
     "output_type": "stream",
     "text": [
      "['The', 'rain', 'in', 'Spain']\n",
      "['The', 'rain in Spain']\n"
     ]
    }
   ],
   "source": [
    "#Example\n",
    "#Split at each white-space character:\n",
    "\n",
    "import re\n",
    "\n",
    "txt = \"The rain in Spain\"\n",
    "x = re.split(\"\\s\", txt)\n",
    "print(x)\n",
    "\n",
    "#You can control the number of occurrences by specifying the maxsplit parameter:\n",
    "\n",
    "#Example\n",
    "#Split the string only at the first occurrence:\n",
    "\n",
    "import re\n",
    "\n",
    "txt = \"The rain in Spain\"\n",
    "x = re.split(\"\\s\", txt, 1)\n",
    "print(x)\n"
   ]
  },
  {
   "cell_type": "markdown",
   "id": "d8fd7e83-f723-43e5-9e81-3b3764e0c18e",
   "metadata": {},
   "source": [
    "#### sub()\n",
    "* The sub() function replaces the matches with the text of your choice"
   ]
  },
  {
   "cell_type": "code",
   "execution_count": 19,
   "id": "38eec7f3-ad5f-456b-94e9-71864e2aa00a",
   "metadata": {
    "tags": []
   },
   "outputs": [
    {
     "name": "stdout",
     "output_type": "stream",
     "text": [
      "The9rain9in9Spain\n",
      "The9rain9in Spain\n"
     ]
    }
   ],
   "source": [
    "#Example\n",
    "#Replace every white-space character with the number 9:\n",
    "\n",
    "import re\n",
    "\n",
    "txt = \"The rain in Spain\"\n",
    "x = re.sub(\"\\s\", \"9\", txt)\n",
    "print(x)\n",
    "\n",
    "#You can control the number of replacements by specifying the count parameter:\n",
    "\n",
    "#Example\n",
    "#Replace the first 2 occurrences:\n",
    "\n",
    "import re\n",
    "\n",
    "txt = \"The rain in Spain\"\n",
    "x = re.sub(\"\\s\", \"9\", txt, 2)\n",
    "print(x)\n"
   ]
  },
  {
   "cell_type": "markdown",
   "id": "4f9526da-1fda-448a-bd99-022bfce12478",
   "metadata": {},
   "source": [
    "### Match Object\n",
    "\n",
    "* A Match Object is an object containing information about the search and the result.\n",
    "* If there is no match, the value None will be returned, instead of the Match Object.\n",
    "* The Match object has properties and methods used to retrieve information about the search, and the result:\n",
    "\n",
    "* .span() returns a tuple containing the start-, and end positions of the match.\n",
    "* .string returns the string passed into the function\n",
    "* .group() returns the part of the string where there was a match\n",
    "\n"
   ]
  },
  {
   "cell_type": "code",
   "execution_count": 20,
   "id": "1baa953f-7fbe-4d2f-b5af-d01c06036ca4",
   "metadata": {
    "tags": []
   },
   "outputs": [
    {
     "name": "stdout",
     "output_type": "stream",
     "text": [
      "<re.Match object; span=(5, 7), match='ai'>\n"
     ]
    }
   ],
   "source": [
    "\n",
    "#Example\n",
    "#Do a search that will return a Match Object:\n",
    "\n",
    "import re\n",
    "\n",
    "txt = \"The rain in Spain\"\n",
    "x = re.search(\"ai\", txt)\n",
    "print(x) #this will print an object"
   ]
  },
  {
   "cell_type": "code",
   "execution_count": 22,
   "id": "bf951717-975a-48ec-991a-4660d72fffe8",
   "metadata": {
    "tags": []
   },
   "outputs": [
    {
     "name": "stdout",
     "output_type": "stream",
     "text": [
      "(12, 17)\n"
     ]
    }
   ],
   "source": [
    "#Example\n",
    "#Print the position (start- and end-position) of the first match occurrence.\n",
    "\n",
    "#The regular expression looks for any words that starts with an upper case \"S\":\n",
    "\n",
    "import re\n",
    "\n",
    "txt = \"The rain in Spain\"\n",
    "x = re.search(r\"\\bS\\w+\", txt)\n",
    "print(x.span())"
   ]
  },
  {
   "cell_type": "code",
   "execution_count": 23,
   "id": "70cdca33-2f9c-4c6c-afbf-e9edfe7cbf9a",
   "metadata": {
    "tags": []
   },
   "outputs": [
    {
     "name": "stdout",
     "output_type": "stream",
     "text": [
      "The rain in Spain\n"
     ]
    }
   ],
   "source": [
    "#Example\n",
    "#Print the string passed into the function:\n",
    "\n",
    "import re\n",
    "\n",
    "txt = \"The rain in Spain\"\n",
    "x = re.search(r\"\\bS\\w+\", txt)\n",
    "print(x.string)\n",
    "\n"
   ]
  },
  {
   "cell_type": "code",
   "execution_count": 24,
   "id": "a4f068e6-8af3-4168-9ea4-b5a51f449fda",
   "metadata": {
    "tags": []
   },
   "outputs": [
    {
     "name": "stdout",
     "output_type": "stream",
     "text": [
      "Spain\n"
     ]
    }
   ],
   "source": [
    "#Example\n",
    "#Print the part of the string where there was a match.\n",
    "\n",
    "#The regular expression looks for any words that starts with an upper case \"S\":\n",
    "\n",
    "import re\n",
    "\n",
    "txt = \"The rain in Spain\"\n",
    "x = re.search(r\"\\bS\\w+\", txt)\n",
    "print(x.group())\n",
    "\n",
    "#**Note: If there is no match, the value None will be returned, instead of the Match Object."
   ]
  },
  {
   "cell_type": "markdown",
   "id": "f0e78628-623e-439f-a034-fa3b39c8d157",
   "metadata": {
    "tags": []
   },
   "source": [
    "https://regex101.com/"
   ]
  }
 ],
 "metadata": {
  "kernelspec": {
   "display_name": "Python 3 (ipykernel)",
   "language": "python",
   "name": "python3"
  },
  "language_info": {
   "codemirror_mode": {
    "name": "ipython",
    "version": 3
   },
   "file_extension": ".py",
   "mimetype": "text/x-python",
   "name": "python",
   "nbconvert_exporter": "python",
   "pygments_lexer": "ipython3",
   "version": "3.11.4"
  }
 },
 "nbformat": 4,
 "nbformat_minor": 5
}
