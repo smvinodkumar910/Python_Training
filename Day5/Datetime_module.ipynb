{
 "cells": [
  {
   "cell_type": "markdown",
   "id": "e4a95f93-316d-4c6f-8af6-f3b45d9d9757",
   "metadata": {},
   "source": [
    "## Datetime module\n",
    "\n",
    "* A date in Python is not a data type of its own, but we can import a module named datetime to work with dates as date objects."
   ]
  },
  {
   "cell_type": "code",
   "execution_count": 1,
   "id": "3af053f8-f84b-4fdc-9dcf-98e38af86e70",
   "metadata": {
    "tags": []
   },
   "outputs": [
    {
     "name": "stdout",
     "output_type": "stream",
     "text": [
      "2023-09-23 10:56:56.904879\n"
     ]
    }
   ],
   "source": [
    "#Example\n",
    "#Import the datetime module and display the current date:\n",
    "\n",
    "import datetime\n",
    "\n",
    "x = datetime.datetime.now()\n",
    "print(x)\n"
   ]
  },
  {
   "cell_type": "code",
   "execution_count": null,
   "id": "4133efc5-56a1-4f20-ae6a-aa2252d55feb",
   "metadata": {},
   "outputs": [],
   "source": [
    "#The date contains year, month, day, hour, minute, second, and microsecond.\n",
    "#The datetime module has many methods to return information about the date object.\n",
    "\n",
    "#Example\n",
    "#Return the year and name of weekday:\n",
    "import datetime\n",
    "x = datetime.datetime.now()\n",
    "print(x.year)\n",
    "print(x.strftime(\"%A\"))"
   ]
  },
  {
   "cell_type": "markdown",
   "id": "e49072e5-474b-4687-9048-bc751041cdd4",
   "metadata": {},
   "source": [
    "### Creating Date Objects"
   ]
  },
  {
   "cell_type": "code",
   "execution_count": 13,
   "id": "cb06888e-ff06-4118-b18e-d53a7cfc7052",
   "metadata": {
    "tags": []
   },
   "outputs": [
    {
     "name": "stdout",
     "output_type": "stream",
     "text": [
      "2020-05-17 23:00:00\n"
     ]
    }
   ],
   "source": [
    "# To create a date, we can use the datetime() class (constructor) of the datetime module.\n",
    "\n",
    "#The datetime() class requires three parameters to create a date: year, month, day.\n",
    "\n",
    "#Example\n",
    "#Create a date object:\n",
    "\n",
    "import datetime\n",
    "\n",
    "x = datetime.datetime(2020, 5, 17, 23, 0, 0 )\n",
    "\n",
    "print(x)\n",
    "\n",
    "#The datetime() class also takes parameters for time and timezone (hour, minute, second, microsecond, tzone), \n",
    "#but they are optional, and has a default value of 0, (None for timezone).\n"
   ]
  },
  {
   "cell_type": "markdown",
   "id": "6a857fa3-e934-4e83-949c-ad59b422ed7d",
   "metadata": {},
   "source": [
    "### The strftime() Method"
   ]
  },
  {
   "cell_type": "code",
   "execution_count": 18,
   "id": "567f0107-24ff-4b2d-93e8-2b8942efa277",
   "metadata": {
    "tags": []
   },
   "outputs": [
    {
     "name": "stdout",
     "output_type": "stream",
     "text": [
      "18\n"
     ]
    }
   ],
   "source": [
    "\n",
    "#The datetime object has a method for formatting date objects into readable strings.\n",
    "#The method is called strftime(), and takes one parameter, format, to specify the format of the returned string:\n",
    "\n",
    "#Example\n",
    "#Display the name of the month:\n",
    "\n",
    "import datetime\n",
    "\n",
    "x = datetime.datetime(2018, 6, 1)\n",
    "\n",
    "print(x.strftime(\"%y\"))\n",
    "\n",
    "#https://strftime.org/"
   ]
  },
  {
   "cell_type": "markdown",
   "id": "793bf925-767f-4230-a1a8-23e8a16d179d",
   "metadata": {},
   "source": [
    "### The strptime() Method"
   ]
  },
  {
   "cell_type": "code",
   "execution_count": 20,
   "id": "4daa7227-eb8f-47a8-be0d-4c628b2e21a3",
   "metadata": {
    "tags": []
   },
   "outputs": [
    {
     "name": "stdout",
     "output_type": "stream",
     "text": [
      "date_string = 21 June, 2018\n",
      "type of date_string = <class 'str'>\n",
      "date_object = 2018-06-21 00:00:00\n",
      "type of date_object = <class 'datetime.datetime'>\n"
     ]
    }
   ],
   "source": [
    "\n",
    "from datetime import datetime\n",
    "\n",
    "date_string = \"21 June, 2018\"\n",
    "\n",
    "print(\"date_string =\", date_string)\n",
    "print(\"type of date_string =\", type(date_string))\n",
    "\n",
    "date_object = datetime.strptime(date_string, \"%d %B, %Y\")\n",
    "\n",
    "print(\"date_object =\", date_object)\n",
    "print(\"type of date_object =\", type(date_object))"
   ]
  }
 ],
 "metadata": {
  "kernelspec": {
   "display_name": "Python 3 (ipykernel)",
   "language": "python",
   "name": "python3"
  },
  "language_info": {
   "codemirror_mode": {
    "name": "ipython",
    "version": 3
   },
   "file_extension": ".py",
   "mimetype": "text/x-python",
   "name": "python",
   "nbconvert_exporter": "python",
   "pygments_lexer": "ipython3",
   "version": "3.11.4"
  }
 },
 "nbformat": 4,
 "nbformat_minor": 5
}
