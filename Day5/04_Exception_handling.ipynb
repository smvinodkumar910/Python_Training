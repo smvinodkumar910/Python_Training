{
 "cells": [
  {
   "cell_type": "markdown",
   "id": "3d00770e-c111-4ac9-8400-e2460fd7cb0b",
   "metadata": {},
   "source": [
    "## Exception Handling\n",
    "\n",
    "* try except block\n",
    "* The try block lets you test a block of code for errors.\n",
    "* The except block lets you handle the error.\n",
    "* The else block lets you execute code when there is no error.\n",
    "* The finally block lets you execute code, regardless of the result of the try- and except blocks.\n"
   ]
  },
  {
   "cell_type": "code",
   "execution_count": 6,
   "id": "0062a2ee-e41e-4b7b-978e-94ceeedc482a",
   "metadata": {
    "tags": []
   },
   "outputs": [
    {
     "name": "stdout",
     "output_type": "stream",
     "text": [
      "An exception occurred\n"
     ]
    }
   ],
   "source": [
    "#When an error occurs, or exception as we call it, Python will normally stop and generate an error message.\n",
    "#These exceptions can be handled using the try statement:\n",
    "\n",
    "#Example\n",
    "#The try block will generate an exception, because x is not defined:\n",
    "\n",
    "#import traceback\n",
    "\n",
    "try:\n",
    "    print(x)\n",
    "except :\n",
    "    print(\"An exception occurred\")\n",
    "    #traceback.print_exc() \n",
    "\n"
   ]
  },
  {
   "cell_type": "markdown",
   "id": "5deb6864-a7a3-4265-850f-364299925052",
   "metadata": {},
   "source": [
    "### Many Exceptions"
   ]
  },
  {
   "cell_type": "code",
   "execution_count": 1,
   "id": "819f0815-1172-42f9-9cfc-d743c0aa7352",
   "metadata": {
    "tags": []
   },
   "outputs": [
    {
     "name": "stdout",
     "output_type": "stream",
     "text": [
      "Something else went wrong\n"
     ]
    }
   ],
   "source": [
    "#You can define as many exception blocks as you want,\n",
    "#e.g. if you want to execute a special block of code for a special kind of error:\n",
    "\n",
    "#Example\n",
    "#Print one message if the try block raises a NameError and another for other errors:\n",
    "\n",
    "try:\n",
    "    x=1\n",
    "    y='a'\n",
    "    print(x+y)\n",
    "except NameError:\n",
    "    print(\"Variable x is not defined\")\n",
    "except TypeError:\n",
    "    print(\"Something else went wrong\")\n",
    "except:\n",
    "    print(\"Error\")\n",
    "\n"
   ]
  },
  {
   "cell_type": "code",
   "execution_count": 2,
   "id": "ba04745a-6718-49a2-9269-1afdee5b53a3",
   "metadata": {
    "tags": []
   },
   "outputs": [
    {
     "ename": "TypeError",
     "evalue": "unsupported operand type(s) for +: 'int' and 'str'",
     "output_type": "error",
     "traceback": [
      "\u001b[1;31m---------------------------------------------------------------------------\u001b[0m",
      "\u001b[1;31mTypeError\u001b[0m                                 Traceback (most recent call last)",
      "Cell \u001b[1;32mIn[2], line 3\u001b[0m\n\u001b[0;32m      1\u001b[0m x\u001b[38;5;241m=\u001b[39m\u001b[38;5;241m1\u001b[39m\n\u001b[0;32m      2\u001b[0m y\u001b[38;5;241m=\u001b[39m\u001b[38;5;124m'\u001b[39m\u001b[38;5;124ma\u001b[39m\u001b[38;5;124m'\u001b[39m\n\u001b[1;32m----> 3\u001b[0m \u001b[38;5;28mprint\u001b[39m(\u001b[43mx\u001b[49m\u001b[38;5;241;43m+\u001b[39;49m\u001b[43my\u001b[49m)\n",
      "\u001b[1;31mTypeError\u001b[0m: unsupported operand type(s) for +: 'int' and 'str'"
     ]
    }
   ],
   "source": [
    "x=1\n",
    "y='a'\n",
    "print(x+y)"
   ]
  },
  {
   "cell_type": "markdown",
   "id": "a5b42793-2be6-4549-9c07-28e7e037acf6",
   "metadata": {},
   "source": [
    "### Else keyword"
   ]
  },
  {
   "cell_type": "code",
   "execution_count": 11,
   "id": "07cba8a6-9aba-4a3b-a78d-0a2f75e353bd",
   "metadata": {
    "tags": []
   },
   "outputs": [
    {
     "name": "stdout",
     "output_type": "stream",
     "text": [
      "Hello\n",
      "Nothing went wrong\n"
     ]
    }
   ],
   "source": [
    "#You can use the else keyword to define a block of code to be executed if no errors were raised:\n",
    "\n",
    "#Example\n",
    "#In this example, the try block does not generate any error:\n",
    "\n",
    "try:\n",
    "    print(\"Hello\")\n",
    "except:\n",
    "    print(\"Something went wrong\")\n",
    "else:\n",
    "    print(\"Nothing went wrong\")\n"
   ]
  },
  {
   "cell_type": "markdown",
   "id": "4a18b133-c341-4545-8dbb-7132a9cc76a7",
   "metadata": {},
   "source": [
    "### Finally block"
   ]
  },
  {
   "cell_type": "code",
   "execution_count": 6,
   "id": "6c675660-7636-4525-836b-85960e4e0497",
   "metadata": {
    "tags": []
   },
   "outputs": [
    {
     "name": "stdout",
     "output_type": "stream",
     "text": [
      "Something went wrong\n",
      "The 'try except' is finished\n"
     ]
    }
   ],
   "source": [
    "# The finally block, if specified, will be executed regardless if the try block raises an error or not.\n",
    "\n",
    "#Example\n",
    "try:\n",
    "    print(z)\n",
    "except:\n",
    "    print(\"Something went wrong\")\n",
    "finally:\n",
    "    print(\"The 'try except' is finished\")\n",
    "\n",
    "#This can be useful to close objects and clean up resources:\n"
   ]
  },
  {
   "cell_type": "code",
   "execution_count": 3,
   "id": "a81f881b-2ff5-4810-be0c-7defc2f53ded",
   "metadata": {
    "tags": []
   },
   "outputs": [
    {
     "name": "stdout",
     "output_type": "stream",
     "text": [
      "Something went wrong when opening the file\n"
     ]
    }
   ],
   "source": [
    "#Example\n",
    "#Try to open and write to a file that is not writable:\n",
    "\n",
    "try:\n",
    "    f = open(\"demofile.txt\")\n",
    "    try:\n",
    "        f.write(\"Lorum Ipsum\")\n",
    "    except:\n",
    "        print(\"Something went wrong when writing to the file\")\n",
    "    finally:\n",
    "        f.close()\n",
    "except:\n",
    "    print(\"Something went wrong when opening the file\")\n",
    "\n",
    "\n",
    "#The program can continue, without leaving the file object open.\n"
   ]
  },
  {
   "cell_type": "markdown",
   "id": "5390edc1-aea0-4677-b980-d024dafa9ff6",
   "metadata": {},
   "source": [
    "### Raise an exception\n",
    "\n",
    "* As a Python developer you can choose to throw an exception if a condition occurs.\n",
    "To throw (or raise) an exception, use the raise keyword.\n"
   ]
  },
  {
   "cell_type": "code",
   "execution_count": 6,
   "id": "4e77fd00-f34c-4b88-8dcf-7333f55323d2",
   "metadata": {},
   "outputs": [
    {
     "ename": "Exception",
     "evalue": "Sorry, no numbers below zero",
     "output_type": "error",
     "traceback": [
      "\u001b[1;31m---------------------------------------------------------------------------\u001b[0m",
      "\u001b[1;31mException\u001b[0m                                 Traceback (most recent call last)",
      "Cell \u001b[1;32mIn[6], line 7\u001b[0m\n\u001b[0;32m      4\u001b[0m x \u001b[38;5;241m=\u001b[39m \u001b[38;5;241m-\u001b[39m\u001b[38;5;241m1\u001b[39m\n\u001b[0;32m      6\u001b[0m \u001b[38;5;28;01mif\u001b[39;00m x \u001b[38;5;241m<\u001b[39m \u001b[38;5;241m0\u001b[39m:\n\u001b[1;32m----> 7\u001b[0m     \u001b[38;5;28;01mraise\u001b[39;00m \u001b[38;5;167;01mException\u001b[39;00m(\u001b[38;5;124m\"\u001b[39m\u001b[38;5;124mSorry, no numbers below zero\u001b[39m\u001b[38;5;124m\"\u001b[39m)\n",
      "\u001b[1;31mException\u001b[0m: Sorry, no numbers below zero"
     ]
    }
   ],
   "source": [
    "#Example\n",
    "#Raise an error and stop the program if x is lower than 0:\n",
    "\n",
    "x = -1\n",
    "\n",
    "if x < 0:\n",
    "    raise Exception(\"Sorry, no numbers below zero\")\n",
    "\n"
   ]
  },
  {
   "cell_type": "code",
   "execution_count": 8,
   "id": "808cb05e-3629-4909-880b-464e0457a889",
   "metadata": {
    "tags": []
   },
   "outputs": [
    {
     "ename": "NameError",
     "evalue": "Only integers are allowed",
     "output_type": "error",
     "traceback": [
      "\u001b[1;31m---------------------------------------------------------------------------\u001b[0m",
      "\u001b[1;31mNameError\u001b[0m                                 Traceback (most recent call last)",
      "Cell \u001b[1;32mIn[8], line 10\u001b[0m\n\u001b[0;32m      7\u001b[0m x \u001b[38;5;241m=\u001b[39m \u001b[38;5;124m\"\u001b[39m\u001b[38;5;124mhello\u001b[39m\u001b[38;5;124m\"\u001b[39m\n\u001b[0;32m      9\u001b[0m \u001b[38;5;28;01mif\u001b[39;00m \u001b[38;5;129;01mnot\u001b[39;00m \u001b[38;5;28mtype\u001b[39m(x) \u001b[38;5;129;01mis\u001b[39;00m \u001b[38;5;28mint\u001b[39m:\n\u001b[1;32m---> 10\u001b[0m     \u001b[38;5;28;01mraise\u001b[39;00m \u001b[38;5;167;01mNameError\u001b[39;00m(\u001b[38;5;124m\"\u001b[39m\u001b[38;5;124mOnly integers are allowed\u001b[39m\u001b[38;5;124m\"\u001b[39m)\n",
      "\u001b[1;31mNameError\u001b[0m: Only integers are allowed"
     ]
    }
   ],
   "source": [
    "#The raise keyword is used to raise an exception.\n",
    "#You can define what kind of error to raise, and the text to print to the user.\n",
    "\n",
    "#Example\n",
    "#Raise a TypeError if x is not an integer:\n",
    "\n",
    "x = \"hello\"\n",
    "\n",
    "if not type(x) is int:\n",
    "    raise NameError(\"Only integers are allowed\")"
   ]
  }
 ],
 "metadata": {
  "kernelspec": {
   "display_name": "Python 3 (ipykernel)",
   "language": "python",
   "name": "python3"
  },
  "language_info": {
   "codemirror_mode": {
    "name": "ipython",
    "version": 3
   },
   "file_extension": ".py",
   "mimetype": "text/x-python",
   "name": "python",
   "nbconvert_exporter": "python",
   "pygments_lexer": "ipython3",
   "version": "3.10.11"
  }
 },
 "nbformat": 4,
 "nbformat_minor": 5
}
