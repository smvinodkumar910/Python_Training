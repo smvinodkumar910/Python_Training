{
 "cells": [
  {
   "cell_type": "markdown",
   "id": "24e8a40a-cfbc-4711-b898-2266ae803ad8",
   "metadata": {},
   "source": [
    "## PIP Module\n",
    "\n",
    "* PIP is a package manager for Python packages, or modules if you like.\n",
    "* If you have Python version 3.4 or later, PIP is included by default.\n",
    "* A package contains all the files you need for a module.\n",
    "* Modules are Python code libraries you can include in your project.\n",
    "* https://pypi.org/project/pip/\n"
   ]
  },
  {
   "cell_type": "markdown",
   "id": "94900ecb-6750-4cb5-ae58-440812598b5d",
   "metadata": {
    "tags": []
   },
   "source": [
    "### Download a Package"
   ]
  },
  {
   "cell_type": "code",
   "execution_count": 1,
   "id": "fb1f3746-424a-481e-84d3-64e4d3da7fbf",
   "metadata": {
    "tags": []
   },
   "outputs": [
    {
     "name": "stdout",
     "output_type": "stream",
     "text": [
      "Hello World\n"
     ]
    }
   ],
   "source": [
    "#Example\n",
    "#Download a package named \"camelcase\":\n",
    "\n",
    "#pip install camelcase\n",
    "\n",
    "#Once the package is installed, it is ready to use.\n",
    "#Import the \"camelcase\" package into your project.\n",
    "\n",
    "#Example\n",
    "import camelcase\n",
    "\n",
    "c = camelcase.CamelCase()\n",
    "txt = \"hello world\"\n",
    "print(c.hump(txt))\n"
   ]
  },
  {
   "cell_type": "markdown",
   "id": "23b30d44-153d-4a6e-982a-98f090a07478",
   "metadata": {},
   "source": [
    "### Find Packages\n",
    "#### Find more packages at https://pypi.org/.\n"
   ]
  },
  {
   "cell_type": "markdown",
   "id": "b45ac61d-59d1-46cc-9b1e-17c383a6c951",
   "metadata": {
    "tags": []
   },
   "source": [
    "### Remove Package"
   ]
  },
  {
   "cell_type": "code",
   "execution_count": 7,
   "id": "3b1a2878-ab8a-45ef-b3f7-2a94d7feb336",
   "metadata": {
    "tags": []
   },
   "outputs": [],
   "source": [
    "\n",
    "#Use the uninstall command to remove a package:\n",
    "\n",
    "#Example\n",
    "#Uninstall the package named \"camelcase\":\n",
    "#pip uninstall camelcase\n"
   ]
  },
  {
   "cell_type": "markdown",
   "id": "e9711c3a-5f25-4f98-8a31-a76296413af9",
   "metadata": {},
   "source": [
    "### List Packages"
   ]
  },
  {
   "cell_type": "code",
   "execution_count": 8,
   "id": "5834e5c0-626d-4542-8dd6-b83183fe2226",
   "metadata": {
    "tags": []
   },
   "outputs": [],
   "source": [
    "# Use the list command to list all the packages installed on your system:\n",
    "\n",
    "#Example\n",
    "#List installed packages:\n",
    "\n",
    "#pip list\n",
    "\n"
   ]
  },
  {
   "cell_type": "code",
   "execution_count": 9,
   "id": "ad1e55d1-87a9-456a-8424-0a029846de2d",
   "metadata": {
    "tags": []
   },
   "outputs": [],
   "source": [
    "#Creating requirements file \n",
    "#pip freeze > requirements.txt"
   ]
  }
 ],
 "metadata": {
  "kernelspec": {
   "display_name": "Python 3 (ipykernel)",
   "language": "python",
   "name": "python3"
  },
  "language_info": {
   "codemirror_mode": {
    "name": "ipython",
    "version": 3
   },
   "file_extension": ".py",
   "mimetype": "text/x-python",
   "name": "python",
   "nbconvert_exporter": "python",
   "pygments_lexer": "ipython3",
   "version": "3.10.11"
  }
 },
 "nbformat": 4,
 "nbformat_minor": 5
}
