{
 "cells": [
  {
   "cell_type": "markdown",
   "id": "b00ef703-b7fd-41f5-8f89-7ccd3634cdbc",
   "metadata": {},
   "source": [
    "## User Input"
   ]
  },
  {
   "cell_type": "markdown",
   "id": "853c838b-fec9-4d2a-a297-1ec80b12dca8",
   "metadata": {
    "tags": []
   },
   "source": [
    "* Python allows for user input.\n",
    "* That means we are able to ask the user for input.\n",
    "* The following example asks for the username, and when you entered the username, it gets printed on the screen:\n"
   ]
  },
  {
   "cell_type": "code",
   "execution_count": 2,
   "id": "d4f0fb9e-e407-4fa1-a83f-a772ecce5005",
   "metadata": {
    "tags": []
   },
   "outputs": [
    {
     "name": "stdin",
     "output_type": "stream",
     "text": [
      "Enter username: x\n"
     ]
    },
    {
     "name": "stdout",
     "output_type": "stream",
     "text": [
      "Username is: x\n"
     ]
    }
   ],
   "source": [
    "\n",
    "username = input(\"Enter username:\")\n",
    "print(\"Username is: \" + username)\n",
    "\n",
    "\n",
    "#Python stops executing when it comes to the input() function, \n",
    "#and continues when the user has given some input.\n",
    "\n",
    "#*input is always a string. cast it to other datatypes if needed"
   ]
  }
 ],
 "metadata": {
  "kernelspec": {
   "display_name": "Python 3 (ipykernel)",
   "language": "python",
   "name": "python3"
  },
  "language_info": {
   "codemirror_mode": {
    "name": "ipython",
    "version": 3
   },
   "file_extension": ".py",
   "mimetype": "text/x-python",
   "name": "python",
   "nbconvert_exporter": "python",
   "pygments_lexer": "ipython3",
   "version": "3.10.11"
  }
 },
 "nbformat": 4,
 "nbformat_minor": 5
}
