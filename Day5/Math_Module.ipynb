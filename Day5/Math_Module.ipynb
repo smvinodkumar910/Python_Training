{
 "cells": [
  {
   "cell_type": "markdown",
   "id": "be31c575-a3f7-4635-8d12-72d90ef4f95a",
   "metadata": {},
   "source": [
    "## Math Module\n",
    "\n",
    "* Python has a set of built-in math functions, including an extensive math module, that allows you to perform mathematical tasks on numbers."
   ]
  },
  {
   "cell_type": "code",
   "execution_count": 2,
   "id": "bcf4e479-4850-4e9f-9157-4c6013cdd23d",
   "metadata": {
    "tags": []
   },
   "outputs": [
    {
     "name": "stdout",
     "output_type": "stream",
     "text": [
      "5\n",
      "25\n"
     ]
    }
   ],
   "source": [
    "#The min() and max() functions can be used to find the lowest or highest value in an iterable:\n",
    "\n",
    "#Example\n",
    "x = min(5, 10, 25)\n",
    "y = max(5, 10, 25)\n",
    "\n",
    "print(x)\n",
    "print(y)"
   ]
  },
  {
   "cell_type": "code",
   "execution_count": 6,
   "id": "8ed860d0-2d66-436e-92c3-8c0a259f1d2c",
   "metadata": {
    "tags": []
   },
   "outputs": [
    {
     "name": "stdout",
     "output_type": "stream",
     "text": [
      "7.25\n",
      "64\n"
     ]
    }
   ],
   "source": [
    "\n",
    "#The abs() function returns the absolute (positive) value of the specified number:\n",
    "\n",
    "#Example\n",
    "x = abs(-7.25)\n",
    "\n",
    "print(x)\n",
    "\n",
    "#The pow(x, y) function returns the value of x to the power of y (xy).\n",
    "\n",
    "#Example\n",
    "#Return the value of 4 to the power of 3 (same as 4 * 4 * 4):\n",
    "\n",
    "x = pow(4, 3)\n",
    "\n",
    "print(x)\n"
   ]
  },
  {
   "cell_type": "markdown",
   "id": "08a32398-1ed4-4d3a-aa76-af4d0f602d43",
   "metadata": {},
   "source": [
    "### Functions in Math Module"
   ]
  },
  {
   "cell_type": "code",
   "execution_count": 9,
   "id": "a3fb4f99-30cf-4757-af7e-9e18c0cbc4e4",
   "metadata": {
    "tags": []
   },
   "outputs": [
    {
     "name": "stdout",
     "output_type": "stream",
     "text": [
      "['__doc__', '__loader__', '__name__', '__package__', '__spec__', 'acos', 'acosh', 'asin', 'asinh', 'atan', 'atan2', 'atanh', 'cbrt', 'ceil', 'comb', 'copysign', 'cos', 'cosh', 'degrees', 'dist', 'e', 'erf', 'erfc', 'exp', 'exp2', 'expm1', 'fabs', 'factorial', 'floor', 'fmod', 'frexp', 'fsum', 'gamma', 'gcd', 'hypot', 'inf', 'isclose', 'isfinite', 'isinf', 'isnan', 'isqrt', 'lcm', 'ldexp', 'lgamma', 'log', 'log10', 'log1p', 'log2', 'modf', 'nan', 'nextafter', 'perm', 'pi', 'pow', 'prod', 'radians', 'remainder', 'sin', 'sinh', 'sqrt', 'tan', 'tanh', 'tau', 'trunc', 'ulp']\n"
     ]
    }
   ],
   "source": [
    "x = dir(math)\n",
    "print(x)"
   ]
  },
  {
   "cell_type": "code",
   "execution_count": 10,
   "id": "b1e45816-6b9c-4652-b60d-6cc124f10956",
   "metadata": {
    "tags": []
   },
   "outputs": [
    {
     "name": "stdout",
     "output_type": "stream",
     "text": [
      "8.0\n"
     ]
    }
   ],
   "source": [
    "#The Math Module\n",
    "#Python has also a built-in module called math, which extends the list of mathematical functions.\n",
    "#To use it, you must import the math module\n",
    "\n",
    "import math\n",
    "\n",
    "#When you have imported the math module, you can start using methods and constants of the module.\n",
    "#The math.sqrt() method for example, returns the square root of a number:\n",
    "\n",
    "#Example\n",
    "import math\n",
    "x = math.sqrt(64)\n",
    "print(x)\n"
   ]
  },
  {
   "cell_type": "code",
   "execution_count": 12,
   "id": "9b9b96f3-a75b-4042-bed7-2e9035d54bf6",
   "metadata": {
    "tags": []
   },
   "outputs": [
    {
     "name": "stdout",
     "output_type": "stream",
     "text": [
      "2\n",
      "1\n",
      "3.141592653589793\n"
     ]
    }
   ],
   "source": [
    "\n",
    "#The math.ceil() method rounds a number upwards to its nearest integer, \n",
    "#and the math.floor() method rounds a number downwards to its nearest integer, \n",
    "#and returns the result:\n",
    "\n",
    "#Example\n",
    "import math\n",
    "\n",
    "x = math.ceil(1.4)\n",
    "y = math.floor(1.4)\n",
    "\n",
    "print(x) # returns 2\n",
    "print(y) # returns 1\n",
    "\n",
    "#The math.pi constant, returns the value of PI (3.14...):\n",
    "\n",
    "#Example\n",
    "import math\n",
    "\n",
    "x = math.pi\n",
    "print(x)\n"
   ]
  }
 ],
 "metadata": {
  "kernelspec": {
   "display_name": "Python 3 (ipykernel)",
   "language": "python",
   "name": "python3"
  },
  "language_info": {
   "codemirror_mode": {
    "name": "ipython",
    "version": 3
   },
   "file_extension": ".py",
   "mimetype": "text/x-python",
   "name": "python",
   "nbconvert_exporter": "python",
   "pygments_lexer": "ipython3",
   "version": "3.11.4"
  }
 },
 "nbformat": 4,
 "nbformat_minor": 5
}
