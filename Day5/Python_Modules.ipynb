{
 "cells": [
  {
   "cell_type": "markdown",
   "id": "2a7e3929-b8ad-495b-9d65-1b03c35314dc",
   "metadata": {},
   "source": [
    "## Python Modules\n",
    "\n",
    "* Consider a module to be the same as a code library.\n",
    "* A file containing a set of functions you want to include in your application."
   ]
  },
  {
   "cell_type": "markdown",
   "id": "67b09c53-d5c9-4a89-a174-acdfa9819a33",
   "metadata": {},
   "source": [
    "### Create a Module"
   ]
  },
  {
   "cell_type": "code",
   "execution_count": 1,
   "id": "f64c9614-a5c7-4601-ade3-57cef0bc3827",
   "metadata": {
    "tags": []
   },
   "outputs": [],
   "source": [
    "# To create a module just save the code you want in a file with the file extension .py:\n",
    "\n",
    "#Example\n",
    "#Save this code in a file named mymodule.py\n",
    "\n",
    "def greeting(name):\n",
    "    print(\"Hello, \" + name)\n"
   ]
  },
  {
   "cell_type": "markdown",
   "id": "6ba323c7-8107-4a02-a1da-1691244ab7db",
   "metadata": {},
   "source": [
    "### Use a Module"
   ]
  },
  {
   "cell_type": "code",
   "execution_count": 3,
   "id": "1879e04f-280e-4d11-87a1-9795f3db0fbf",
   "metadata": {
    "tags": []
   },
   "outputs": [],
   "source": [
    "#Now we can use the module we just created, by using the import statement:\n",
    "\n",
    "#Example\n",
    "#Import the module named mymodule, and call the greeting function:\n",
    "\n",
    "import mymodule\n",
    "\n",
    "mymodule.greeting(\"Jonathan\")\n",
    "\n",
    "#Note: When using a function from a module, use the syntax: module_name.function_name.\n"
   ]
  },
  {
   "cell_type": "markdown",
   "id": "fdf9e668-ff9a-44a6-94db-94b87c6f5265",
   "metadata": {
    "tags": []
   },
   "source": [
    "### Variables in Module"
   ]
  },
  {
   "cell_type": "code",
   "execution_count": null,
   "id": "68f561b0-c79b-4215-9c5b-5169f7aedcb6",
   "metadata": {},
   "outputs": [],
   "source": [
    "#The module can contain functions, as already described, \n",
    "#but also variables of all types (arrays, dictionaries, objects etc):\n",
    "\n",
    "#Example\n",
    "#Save this code in the file mymodule.py\n",
    "\n",
    "person1 = {\n",
    "\"name\": \"John\",\n",
    "\"age\": 36,\n",
    "\"country\": \"Norway\"\n",
    "}\n",
    "\n",
    "#Example\n",
    "#Import the module named mymodule, and access the person1 dictionary:\n",
    "\n",
    "import mymodule\n",
    "\n",
    "a = mymodule.person1[\"age\"]\n",
    "print(a)\n"
   ]
  },
  {
   "cell_type": "markdown",
   "id": "5ea26228-9fda-4502-b788-51ae860c2934",
   "metadata": {},
   "source": [
    "### Naming a Module"
   ]
  },
  {
   "cell_type": "code",
   "execution_count": null,
   "id": "df73c889-48d4-43eb-b334-877f246fdd7e",
   "metadata": {},
   "outputs": [],
   "source": [
    "#You can name the module file whatever you like, but it must have the file extension .py\n",
    "\n",
    "#Re-naming a Module\n",
    "#You can create an alias when you import a module, by using the as keyword:\n",
    "\n",
    "#Example\n",
    "#Create an alias for mymodule called mx:\n",
    "\n",
    "import mymodule as mx\n",
    "\n",
    "a = mx.person1[\"age\"]\n",
    "print(a)\n"
   ]
  },
  {
   "cell_type": "markdown",
   "id": "953565b0-2246-4f2d-a9af-9b2c4261a580",
   "metadata": {},
   "source": [
    "### Built-in Modules"
   ]
  },
  {
   "cell_type": "code",
   "execution_count": 1,
   "id": "336ed9ce-e743-45e1-bee1-8101e70f0886",
   "metadata": {
    "tags": []
   },
   "outputs": [
    {
     "name": "stdout",
     "output_type": "stream",
     "text": [
      "Windows\n"
     ]
    }
   ],
   "source": [
    "#There are several built-in modules in Python, which you can import whenever you like.\n",
    "\n",
    "#Example\n",
    "#Import and use the platform module:\n",
    "\n",
    "import platform\n",
    "\n",
    "x = platform.system()\n",
    "print(x)\n"
   ]
  },
  {
   "cell_type": "code",
   "execution_count": 6,
   "id": "ad6ef997-2d6b-49d9-a417-277928d80120",
   "metadata": {
    "tags": []
   },
   "outputs": [
    {
     "name": "stdout",
     "output_type": "stream",
     "text": [
      "['_Processor', '_WIN32_CLIENT_RELEASES', '_WIN32_SERVER_RELEASES', '__builtins__', '__cached__', '__copyright__', '__doc__', '__file__', '__loader__', '__name__', '__package__', '__spec__', '__version__', '_comparable_version', '_component_re', '_default_architecture', '_follow_symlinks', '_get_machine_win32', '_ironpython26_sys_version_parser', '_ironpython_sys_version_parser', '_java_getprop', '_libc_search', '_mac_ver_xml', '_node', '_norm_version', '_os_release_cache', '_os_release_candidates', '_os_release_line', '_os_release_unescape', '_parse_os_release', '_platform', '_platform_cache', '_pypy_sys_version_parser', '_sys_version', '_sys_version_cache', '_sys_version_parser', '_syscmd_file', '_syscmd_ver', '_uname_cache', '_unknown_as_blank', '_ver_output', '_ver_stages', 'architecture', 'collections', 'freedesktop_os_release', 'functools', 'itertools', 'java_ver', 'libc_ver', 'mac_ver', 'machine', 'node', 'os', 'platform', 'processor', 'python_branch', 'python_build', 'python_compiler', 'python_implementation', 'python_revision', 'python_version', 'python_version_tuple', 're', 'release', 'sys', 'system', 'system_alias', 'uname', 'uname_result', 'version', 'win32_edition', 'win32_is_iot', 'win32_ver']\n"
     ]
    }
   ],
   "source": [
    "#Using the dir() Function\n",
    "#There is a built-in function to list all the function names (or variable names) in a module. The dir() function:\n",
    "\n",
    "#Example\n",
    "#List all the defined names belonging to the platform module:\n",
    "\n",
    "import platform\n",
    "\n",
    "x = dir(platform)\n",
    "print(x)\n",
    "#Note: The dir() function can be used on all modules, also the ones you create yourself.\n"
   ]
  },
  {
   "cell_type": "markdown",
   "id": "ad497860-6111-49e9-aea7-dffe19777559",
   "metadata": {},
   "source": [
    "### Import From Module"
   ]
  },
  {
   "cell_type": "code",
   "execution_count": 3,
   "id": "88dfe54e-ea43-43d9-9848-ac5440a8f2c9",
   "metadata": {
    "tags": []
   },
   "outputs": [],
   "source": [
    "#You can choose to import only parts from a module, by using the from keyword.\n",
    "\n",
    "#Example\n",
    "#The module named mymodule has one function and one dictionary:\n",
    "\n",
    "def greeting(name):\n",
    "    print(\"Hello, \" + name)\n",
    "\n",
    "person1 = {\n",
    "\"name\": \"John\",\n",
    "\"age\": 36,\n",
    "\"country\": \"Norway\"\n",
    "}\n",
    "\n",
    "#Example\n",
    "#Import only the person1 dictionary from the module:\n",
    "\n",
    "#from mymodule import person1\n",
    "\n",
    "#print (person1[\"age\"])\n",
    "\n",
    "#Note: When importing using the from keyword, do not use the module name when referring to elements in the module. \n",
    "#Example: person1[\"age\"], not mymodule.person1[\"age\"]"
   ]
  }
 ],
 "metadata": {
  "kernelspec": {
   "display_name": "Python 3 (ipykernel)",
   "language": "python",
   "name": "python3"
  },
  "language_info": {
   "codemirror_mode": {
    "name": "ipython",
    "version": 3
   },
   "file_extension": ".py",
   "mimetype": "text/x-python",
   "name": "python",
   "nbconvert_exporter": "python",
   "pygments_lexer": "ipython3",
   "version": "3.11.4"
  }
 },
 "nbformat": 4,
 "nbformat_minor": 5
}
