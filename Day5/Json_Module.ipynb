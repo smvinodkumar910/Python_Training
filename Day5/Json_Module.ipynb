{
 "cells": [
  {
   "cell_type": "markdown",
   "id": "c65f27ca-ef5f-45c7-8f31-0fce533ad900",
   "metadata": {},
   "source": [
    "### Json Module\n",
    "\n",
    "* JSON is a syntax for storing and exchanging data.\n",
    "* JSON is text, written with JavaScript object notation.\n",
    "* Python has a built-in package called json, which can be used to work with JSON data."
   ]
  },
  {
   "cell_type": "markdown",
   "id": "ea12ee58-8e2c-410f-bd98-1f3895406ccb",
   "metadata": {
    "tags": []
   },
   "source": [
    "### Json String"
   ]
  },
  {
   "cell_type": "code",
   "execution_count": 2,
   "id": "315d7a78-3b4f-4408-948a-2aede7929c7f",
   "metadata": {
    "tags": []
   },
   "outputs": [
    {
     "name": "stdout",
     "output_type": "stream",
     "text": [
      "{'name': 'John', 'age': 30, 'city': 'New York'}\n",
      "30\n"
     ]
    }
   ],
   "source": [
    "#Example\n",
    "#Import the json module:\n",
    "\n",
    "import json\n",
    "\n",
    "#Parse JSON - Convert from JSON to Python\n",
    "#If you have a JSON string, you can parse it by using the json.loads() method.\n",
    "#The result will be a Python dictionary.\n",
    "\n",
    "\n",
    "# some JSON:\n",
    "x =  '{ \"name\":\"John\", \"age\":30, \"city\":\"New York\"}'\n",
    "\n",
    "# parse x:\n",
    "y = json.loads(x)\n",
    "\n",
    "# the result is a Python dictionary:\n",
    "print(y)\n",
    "print(y[\"age\"])\n"
   ]
  },
  {
   "cell_type": "code",
   "execution_count": 3,
   "id": "8e7f5d7c-d649-454d-a504-e197db4843d4",
   "metadata": {
    "tags": []
   },
   "outputs": [
    {
     "name": "stdout",
     "output_type": "stream",
     "text": [
      "{\"name\": \"John\", \"age\": 30, \"city\": \"New York\"}\n"
     ]
    }
   ],
   "source": [
    "#Convert from Python to JSON\n",
    "#If you have a Python object, you can convert it into a JSON string by using the json.dumps() method.\n",
    "\n",
    "#Example\n",
    "#Convert from Python to JSON:\n",
    "\n",
    "import json\n",
    "\n",
    "# a Python object (dict):\n",
    "x = {\n",
    "\"name\": \"John\",\n",
    "\"age\": 30,\n",
    "\"city\": \"New York\"\n",
    "}\n",
    "\n",
    "# convert into JSON:\n",
    "y = json.dumps(x)\n",
    "\n",
    "# the result is a JSON string:\n",
    "print(y)"
   ]
  },
  {
   "cell_type": "markdown",
   "id": "a84ec65d-909a-40ba-ae25-912d69e43967",
   "metadata": {},
   "source": [
    "* You can convert Python objects of the following types, into JSON strings:\n",
    "\n",
    "dict \\\n",
    "list \\\n",
    "tuple \\\n",
    "string \\\n",
    "int \\\n",
    "float \\\n",
    "True \\\n",
    "False \\\n",
    "None\n"
   ]
  },
  {
   "cell_type": "code",
   "execution_count": 5,
   "id": "4a2aebce-9069-468a-a8cd-28ccc0c4bbfd",
   "metadata": {
    "tags": []
   },
   "outputs": [
    {
     "name": "stdout",
     "output_type": "stream",
     "text": [
      "{\"name\": \"John\", \"age\": 30, \"married\": true, \"divorced\": false, \"children\": [\"Ann\", \"Billy\"], \"pets\": null, \"cars\": [{\"model\": \"BMW 230\", \"mpg\": 27.5}, {\"model\": \"Ford Edge\", \"mpg\": 24.1}]}\n"
     ]
    }
   ],
   "source": [
    "#Example\n",
    "#Convert a Python object containing all the legal data types:\n",
    "\n",
    "import json\n",
    "\n",
    "x = {\n",
    "\"name\": \"John\",\n",
    "\"age\": 30,\n",
    "\"married\": True,\n",
    "\"divorced\": False,\n",
    "\"children\": (\"Ann\",\"Billy\"),\n",
    "\"pets\": None,\n",
    "\"cars\": [\n",
    "    {\"model\": \"BMW 230\", \"mpg\": 27.5},\n",
    "    {\"model\": \"Ford Edge\", \"mpg\": 24.1}\n",
    "    ]\n",
    "}\n",
    "\n",
    "print(json.dumps(x))\n"
   ]
  },
  {
   "cell_type": "markdown",
   "id": "06ab7787-9715-4bf1-8345-0ee550ea7dbf",
   "metadata": {},
   "source": [
    "### Format JSON"
   ]
  },
  {
   "cell_type": "code",
   "execution_count": 6,
   "id": "8cbb3ca2-7f20-4dc5-9bcd-c69925ec880a",
   "metadata": {
    "tags": []
   },
   "outputs": [
    {
     "name": "stdout",
     "output_type": "stream",
     "text": [
      "{\n",
      "    \"name\": \"John\",\n",
      "    \"age\": 30,\n",
      "    \"married\": true,\n",
      "    \"divorced\": false,\n",
      "    \"children\": [\n",
      "        \"Ann\",\n",
      "        \"Billy\"\n",
      "    ],\n",
      "    \"pets\": null,\n",
      "    \"cars\": [\n",
      "        {\n",
      "            \"model\": \"BMW 230\",\n",
      "            \"mpg\": 27.5\n",
      "        },\n",
      "        {\n",
      "            \"model\": \"Ford Edge\",\n",
      "            \"mpg\": 24.1\n",
      "        }\n",
      "    ]\n",
      "}\n"
     ]
    }
   ],
   "source": [
    "\n",
    "#The example above prints a JSON string, but it is not very easy to read, with no indentations and line breaks.\n",
    "#The json.dumps() method has parameters to make it easier to read the result:\n",
    "\n",
    "#Example\n",
    "#Use the indent parameter to define the numbers of indents:\n",
    "output = json.dumps(x, indent=4)\n",
    "print(output)"
   ]
  },
  {
   "cell_type": "code",
   "execution_count": 15,
   "id": "cb4ad486-3783-4958-a634-c211776d44a6",
   "metadata": {
    "tags": []
   },
   "outputs": [
    {
     "name": "stdout",
     "output_type": "stream",
     "text": [
      "{\n",
      "    \"name\" = \"John\". \n",
      "    \"age\" = 30. \n",
      "    \"married\" = true. \n",
      "    \"divorced\" = false. \n",
      "    \"children\" = [\n",
      "        \"Ann\". \n",
      "        \"Billy\"\n",
      "    ]. \n",
      "    \"pets\" = null. \n",
      "    \"cars\" = [\n",
      "        {\n",
      "            \"model\" = \"BMW 230\". \n",
      "            \"mpg\" = 27.5\n",
      "        }. \n",
      "        {\n",
      "            \"model\" = \"Ford Edge\". \n",
      "            \"mpg\" = 24.1\n",
      "        }\n",
      "    ]\n",
      "}\n"
     ]
    }
   ],
   "source": [
    "#You can also define the separators, default value is (\", \", \": \"), which means using a comma and a space to separate each object, \n",
    "#and a colon and a space to separate keys from values:\n",
    "\n",
    "#Example\n",
    "#Use the separators parameter to change the default separator:\n",
    "\n",
    "output = json.dumps(x, indent=4, separators=(\". \", \" = \"))\n",
    "print(output)"
   ]
  },
  {
   "cell_type": "code",
   "execution_count": 7,
   "id": "e5808d31-4903-4bb6-9558-23f6092eac91",
   "metadata": {
    "tags": []
   },
   "outputs": [
    {
     "name": "stdout",
     "output_type": "stream",
     "text": [
      "{\n",
      "    \"age\": 30,\n",
      "    \"cars\": [\n",
      "        {\n",
      "            \"model\": \"BMW 230\",\n",
      "            \"mpg\": 27.5\n",
      "        },\n",
      "        {\n",
      "            \"model\": \"Ford Edge\",\n",
      "            \"mpg\": 24.1\n",
      "        }\n",
      "    ],\n",
      "    \"children\": [\n",
      "        \"Ann\",\n",
      "        \"Billy\"\n",
      "    ],\n",
      "    \"divorced\": false,\n",
      "    \"married\": true,\n",
      "    \"name\": \"John\",\n",
      "    \"pets\": null\n",
      "}\n"
     ]
    }
   ],
   "source": [
    "#Order the Result\n",
    "#The json.dumps() method has parameters to order the keys in the result:\n",
    "\n",
    "#Example\n",
    "#Use the sort_keys parameter to specify if the result should be sorted or not:\n",
    "\n",
    "output = json.dumps(x, indent=4, sort_keys=True)\n",
    "print(output)"
   ]
  }
 ],
 "metadata": {
  "kernelspec": {
   "display_name": "Python 3 (ipykernel)",
   "language": "python",
   "name": "python3"
  },
  "language_info": {
   "codemirror_mode": {
    "name": "ipython",
    "version": 3
   },
   "file_extension": ".py",
   "mimetype": "text/x-python",
   "name": "python",
   "nbconvert_exporter": "python",
   "pygments_lexer": "ipython3",
   "version": "3.11.4"
  }
 },
 "nbformat": 4,
 "nbformat_minor": 5
}
