{
 "cells": [
  {
   "cell_type": "markdown",
   "id": "8410db72-c312-4115-a03f-c922eb7750ea",
   "metadata": {},
   "source": [
    "### Python If Else"
   ]
  },
  {
   "cell_type": "code",
   "execution_count": 1,
   "id": "65b7d991-3ecb-4800-9bd2-6d7bc9914a6f",
   "metadata": {
    "tags": []
   },
   "outputs": [
    {
     "name": "stdout",
     "output_type": "stream",
     "text": [
      "b is greater than a\n",
      "a and b are equal\n",
      "a is greater than b\n",
      "b is not greater than a\n"
     ]
    }
   ],
   "source": [
    "#An \"if statement\" is written by using the if keyword.\n",
    "\n",
    "#Example\n",
    "#If statement:\n",
    "\n",
    "a = 33\n",
    "b = 200\n",
    "if b > a:\n",
    "    print(\"b is greater than a\")\n",
    "\n",
    "\n",
    "#Elif\n",
    "#The elif keyword is pythons way of saying \"if the previous conditions were not true, then try this condition\".\n",
    "\n",
    "#Example\n",
    "a = 33\n",
    "b = 33\n",
    "if b > a:\n",
    "    print(\"b is greater than a\")\n",
    "elif a == b:\n",
    "    print(\"a and b are equal\")\n",
    "\n",
    "\n",
    "#Else\n",
    "#The else keyword catches anything which isn't caught by the preceding conditions.\n",
    "\n",
    "#Example\n",
    "a = 200\n",
    "b = 33\n",
    "if b > a:\n",
    "    print(\"b is greater than a\")\n",
    "elif a == b:\n",
    "    print(\"a and b are equal\")\n",
    "else:\n",
    "    print(\"a is greater than b\")\n",
    "\n",
    "\n",
    "#You can also have an else without the elif:\n",
    "\n",
    "#Example\n",
    "a = 200\n",
    "b = 33\n",
    "if b > a:\n",
    "    print(\"b is greater than a\")\n",
    "else:\n",
    "    print(\"b is not greater than a\")\n",
    "\n",
    "\n"
   ]
  },
  {
   "cell_type": "code",
   "execution_count": 3,
   "id": "516f858c-7789-4ab0-8f9a-08c60f3a35a2",
   "metadata": {
    "tags": []
   },
   "outputs": [
    {
     "name": "stdout",
     "output_type": "stream",
     "text": [
      "B\n",
      "=\n",
      "Both conditions are True\n",
      "At least one of the conditions is True\n",
      "Above ten,\n",
      "and also above 20!\n",
      "b is greater than a\n"
     ]
    }
   ],
   "source": [
    "#Short Hand If\n",
    "#If you have only one statement to execute, you can put it on the same line as the if statement.\n",
    "\n",
    "#Example\n",
    "#One line if statement:\n",
    "\n",
    "if a > b: print(\"a is greater than b\")\n",
    "\n",
    "#Short Hand If ... Else\n",
    "#If you have only one statement to execute, one for if, and one for else, you can put it all on the same line:\n",
    "\n",
    "#Example\n",
    "#One line if else statement:\n",
    "\n",
    "a = 2\n",
    "b = 330\n",
    "print(\"A\") if a > b else print(\"B\")\n",
    "\n",
    "#*This technique is known as Ternary Operators, or Conditional Expressions.\n",
    "\n",
    "#You can also have multiple else statements on the same line:\n",
    "\n",
    "#Example\n",
    "#One line if else statement, with 3 conditions:\n",
    "\n",
    "a = 330\n",
    "b = 330\n",
    "print(\"A\") if a > b else print(\"=\") if a == b else print(\"B\")\n",
    "\n",
    "#And\n",
    "#The and keyword is a logical operator, and is used to combine conditional statements:\n",
    "\n",
    "#Example\n",
    "#Test if a is greater than b, AND if c is greater than a:\n",
    "\n",
    "a = 200\n",
    "b = 33\n",
    "c = 500\n",
    "if a > b and c > a:\n",
    "    print(\"Both conditions are True\")\n",
    "\n",
    "#Or\n",
    "#The or keyword is a logical operator, and is used to combine conditional statements:\n",
    "\n",
    "#Example\n",
    "#Test if a is greater than b, OR if a is greater than c:\n",
    "\n",
    "a = 200\n",
    "b = 33\n",
    "c = 500\n",
    "if a > b or a > c:\n",
    "    print(\"At least one of the conditions is True\")\n",
    "\n",
    "#Nested If\n",
    "#You can have if statements inside if statements, this is called nested if statements.\n",
    "\n",
    "#Example\n",
    "x = 41\n",
    "\n",
    "if x > 10:\n",
    "    print(\"Above ten,\")\n",
    "    if x > 20:\n",
    "        print(\"and also above 20!\")\n",
    "    else:\n",
    "        print(\"but not above 20.\")\n",
    "\n",
    "    \n",
    "\n",
    "#The pass Statement\n",
    "#if statements cannot be empty, but if you for some reason have an if statement with no content, put in the pass statement to avoid getting an error.\n",
    "\n",
    "#Example\n",
    "a = 33\n",
    "b = 200\n",
    "\n",
    "if b > a:\n",
    "    print('b is greater than a')\n",
    "else:\n",
    "    pass\n"
   ]
  }
 ],
 "metadata": {
  "kernelspec": {
   "display_name": "Python 3 (ipykernel)",
   "language": "python",
   "name": "python3"
  },
  "language_info": {
   "codemirror_mode": {
    "name": "ipython",
    "version": 3
   },
   "file_extension": ".py",
   "mimetype": "text/x-python",
   "name": "python",
   "nbconvert_exporter": "python",
   "pygments_lexer": "ipython3",
   "version": "3.11.4"
  }
 },
 "nbformat": 4,
 "nbformat_minor": 5
}
