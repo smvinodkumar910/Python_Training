{
 "cells": [
  {
   "cell_type": "markdown",
   "id": "26bcb07c-3d34-4b22-b7d6-576c6312bda8",
   "metadata": {},
   "source": [
    "## Python Sets\n",
    "\n",
    "* Sets are used to store multiple items in a single variable.\n",
    "* A set is a collection which is unordered, unchangeable*, and unindexed.\n",
    "*  Note: Set items are unchangeable, but you can remove items and add new items\n",
    "*   Sets are written with curly brackets."
   ]
  },
  {
   "cell_type": "code",
   "execution_count": 1,
   "id": "c4775350-a7fd-4e2e-9c19-0ca5e861f7f7",
   "metadata": {},
   "outputs": [
    {
     "name": "stdout",
     "output_type": "stream",
     "text": [
      "{'apple', 'cherry', 'banana'}\n"
     ]
    }
   ],
   "source": [
    "thisset = {\"apple\", \"banana\", \"cherry\"}\n",
    "print(thisset) "
   ]
  },
  {
   "cell_type": "markdown",
   "id": "cb03ad99-b54a-4417-8d31-a40923603352",
   "metadata": {},
   "source": [
    "### Set Properties"
   ]
  },
  {
   "cell_type": "code",
   "execution_count": null,
   "id": "1f5a94f9-46d8-49cf-b764-0614cc0c78ad",
   "metadata": {},
   "outputs": [],
   "source": [
    "Set Items\n",
    "Set items are unordered, unchangeable, and do not allow duplicate values.\n",
    "\n",
    "Unordered\n",
    "Unordered means that the items in a set do not have a defined order.\n",
    "Set items can appear in a different order every time you use them, and cannot be referred to by index or key.\n",
    "\n",
    "Unchangeable\n",
    "Set items are unchangeable, meaning that we cannot change the items after the set has been created.\n",
    "*Once a set is created, you cannot change its items, but you can remove items and add new items.\n",
    "\n",
    "Duplicates Not Allowed\n",
    "Sets cannot have two items with the same value.\n",
    "Example\n",
    "Duplicate values will be ignored:\n",
    "thisset = {\"apple\", \"banana\", \"cherry\", \"apple\"}\n",
    "print(thisset)\n",
    "\n",
    "Get the Length of a Set:\n",
    "To determine how many items a set has, use the len() function.\n",
    "\n",
    "Example\n",
    "Get the number of items in a set:\n",
    "thisset = {\"apple\", \"banana\", \"cherry\"}\n",
    "print(len(thisset))\n",
    "\n",
    "Set Items - Data Types\n",
    "Set items can be of any data type:\n",
    "Example\n",
    "String, int and boolean data types:\n",
    "\n",
    "set1 = {\"apple\", \"banana\", \"cherry\"}\n",
    "set2 = {1, 5, 7, 9, 3}\n",
    "set3 = {True, False, False}\n",
    "\n",
    "A set can contain different data types:\n",
    "Example\n",
    "A set with strings, integers and boolean values:\n",
    "set1 = {\"abc\", 34, True, 40, \"male\"}\n",
    "\n",
    "type()\n",
    "From Python's perspective, sets are defined as objects with the data type 'set':\n",
    "<class 'set'>\n",
    "\n",
    "Example\n",
    "What is the data type of a set?\n",
    "\n",
    "myset = {\"apple\", \"banana\", \"cherry\"}\n",
    "print(type(myset))\n",
    "\n",
    "The set() Constructor:\n",
    "It is also possible to use the set() constructor to make a set.\n",
    "\n",
    "Example\n",
    "Using the set() constructor to make a set:\n",
    "\n",
    "thisset = set((\"apple\", \"banana\", \"cherry\")) # note the double round-brackets\n",
    "print(thisset)\n"
   ]
  }
 ],
 "metadata": {
  "kernelspec": {
   "display_name": "Python 3 (ipykernel)",
   "language": "python",
   "name": "python3"
  },
  "language_info": {
   "codemirror_mode": {
    "name": "ipython",
    "version": 3
   },
   "file_extension": ".py",
   "mimetype": "text/x-python",
   "name": "python",
   "nbconvert_exporter": "python",
   "pygments_lexer": "ipython3",
   "version": "3.10.11"
  }
 },
 "nbformat": 4,
 "nbformat_minor": 5
}
