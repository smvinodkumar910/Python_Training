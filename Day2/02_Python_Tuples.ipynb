{
 "cells": [
  {
   "cell_type": "markdown",
   "id": "8d3051ab-4e86-4f0a-ae5f-0928a931eb19",
   "metadata": {},
   "source": [
    "## Python Tuples\n",
    "\n",
    "* Tuples are used to store multiple items in a single variable.\n",
    "* A tuple is a collection which is ordered and unchangeable.\n",
    "  "
   ]
  },
  {
   "cell_type": "code",
   "execution_count": 1,
   "id": "6db3e8d1-e45f-432f-aa9b-204599bd98a7",
   "metadata": {},
   "outputs": [
    {
     "name": "stdout",
     "output_type": "stream",
     "text": [
      "('apple', 'banana', 'cherry')\n"
     ]
    }
   ],
   "source": [
    "#Tuples are written with round brackets.\n",
    "\n",
    "thistuple = (\"apple\", \"banana\", \"cherry\")\n",
    "print(thistuple)"
   ]
  },
  {
   "cell_type": "markdown",
   "id": "20f0589e-b2c7-4de5-88a1-045579945b5f",
   "metadata": {},
   "source": [
    "### Tuples Properties\n",
    "\n",
    "* Tuple items are ordered, unchangeable, and allow duplicate values.\n",
    "*  Tuple items are indexed, the first item has index [0], the second item has index [1] etc.\n",
    "*  When we say that tuples are ordered, it means that the items have a defined order, and that order will not chang.\n",
    "*  Tuples are unchangeable, meaning that we cannot change, add or remove items after the tuple has been created.\n",
    "\n"
   ]
  },
  {
   "cell_type": "code",
   "execution_count": 2,
   "id": "a78d2f26-cd22-4a20-a13c-f8c9ed6b5d0c",
   "metadata": {},
   "outputs": [
    {
     "name": "stdout",
     "output_type": "stream",
     "text": [
      "('apple', 'banana', 'cherry', 'apple', 'cherry')\n",
      "3\n",
      "<class 'str'>\n",
      "<class 'tuple'>\n",
      "('apple', 'banana', 'cherry')\n"
     ]
    }
   ],
   "source": [
    "#Tuples allow duplicate values:\n",
    "\n",
    "thistuple = (\"apple\", \"banana\", \"cherry\", \"apple\", \"cherry\")\n",
    "print(thistuple)\n",
    "\n",
    "#To determine how many items a tuple has, use the len() function:\n",
    "thistuple = (\"apple\", \"banana\", \"cherry\")\n",
    "print(len(thistuple))\n",
    "\n",
    "#Create Tuple With One Item\n",
    "#To create a tuple with only one item, you have to add a comma after the item, otherwise Python will not recognize it as a tuple.\n",
    "\n",
    "\n",
    "thistuple = (\"apple\")\n",
    "print(type(thistuple))\n",
    "\n",
    "#NOT a tuple\n",
    "thistuple = (\"apple\",)\n",
    "print(type(thistuple))\n",
    "\n",
    "#Tuple Items - Data Types\n",
    "#Tuple items can be of any data type:\n",
    "\n",
    "#String, int and boolean data types:\n",
    "\n",
    "tuple1 = (\"apple\", \"banana\", \"cherry\")\n",
    "tuple2 = (1, 5, 7, 9, 3)\n",
    "tuple3 = (True, False, False)\n",
    "\n",
    "#A tuple can contain different data types:\n",
    "\n",
    "#A tuple with strings, integers and boolean values:\n",
    "\n",
    "tuple1 = (\"abc\", 34, True, 40, \"male\")\n",
    "\n",
    "#The tuple() Constructor\n",
    "#It is also possible to use the tuple() constructor to make a tuple.\n",
    "#Example\n",
    "#Using the tuple() method to make a tuple:\n",
    "\n",
    "thistuple = tuple((\"apple\", \"banana\", \"cherry\")) # note the double round-brackets\n",
    "print(thistuple)"
   ]
  },
  {
   "cell_type": "markdown",
   "id": "12d0f2a4-5b4e-4898-ad69-83d1f5383d53",
   "metadata": {},
   "source": [
    "### Access Tuple Items\n",
    "\n",
    "* You can access tuple items by referring to the index number, inside square brackets."
   ]
  },
  {
   "cell_type": "code",
   "execution_count": 6,
   "id": "b09051bb-460f-4d98-bc36-009265c31b47",
   "metadata": {},
   "outputs": [
    {
     "name": "stdout",
     "output_type": "stream",
     "text": [
      "banana\n",
      "cherry\n",
      "('cherry', 'orange', 'kiwi')\n",
      "('apple', 'banana', 'cherry', 'orange')\n",
      "('cherry', 'orange', 'kiwi', 'melon', 'mango')\n",
      "('orange', 'kiwi', 'melon')\n",
      "Yes, 'apple' is in the fruits tuple\n"
     ]
    }
   ],
   "source": [
    "\n",
    "thistuple = (\"apple\", \"banana\", \"cherry\")\n",
    "print(thistuple[1])\n",
    "\n",
    "#Negative Indexing\n",
    "#Negative indexing means start from the end.\n",
    "#-1 refers to the last item, -2 refers to the second last item etc.\n",
    "\n",
    "\n",
    "thistuple = (\"apple\", \"banana\", \"cherry\")\n",
    "print(thistuple[-1])\n",
    "\n",
    "#Range of Indexes\n",
    "#You can specify a range of indexes by specifying where to start and where to end the range.\n",
    "#When specifying a range, the return value will be a new tuple with the specified items.\n",
    "\n",
    "\n",
    "thistuple = (\"apple\", \"banana\", \"cherry\", \"orange\", \"kiwi\", \"melon\", \"mango\")\n",
    "print(thistuple[2:5])\n",
    "#Note: The search will start at index 2 (included) and end at index 5 (not included).\n",
    "#Remember that the first item has index 0.\n",
    "\n",
    "#By leaving out the start value, the range will start at the first item:\n",
    "print(thistuple[:4])\n",
    "\n",
    "#By leaving out the end value, the range will go on to the end of the list:\n",
    "print(thistuple[2:])\n",
    "\n",
    "#Range of Negative Indexes\n",
    "print(thistuple[-4:-1])\n",
    "\n",
    "#Check if Item Exists\n",
    "\n",
    "thistuple = (\"apple\", \"banana\", \"cherry\")\n",
    "if \"apple\" in thistuple:\n",
    "    print(\"Yes, 'apple' is in the fruits tuple\")"
   ]
  },
  {
   "cell_type": "markdown",
   "id": "e626aa54-e093-4120-86dd-8e418c6635e6",
   "metadata": {},
   "source": [
    "### Update Tuples\n",
    "\n",
    "* Once a tuple is created, you cannot change its values. Tuples are unchangeable, or immutable.\n",
    "*  But there is a workaround. You can convert the tuple into a list, change the list, and convert the list back into a tuple.."
   ]
  },
  {
   "cell_type": "code",
   "execution_count": 7,
   "id": "2628f92d-8abd-4b34-b19d-69702baaceb4",
   "metadata": {},
   "outputs": [
    {
     "name": "stdout",
     "output_type": "stream",
     "text": [
      "('apple', 'kiwi', 'cherry')\n"
     ]
    }
   ],
   "source": [
    "x = (\"apple\", \"banana\", \"cherry\")\n",
    "y = list(x)\n",
    "y[1] = \"kiwi\"\n",
    "x = tuple(y)\n",
    "\n",
    "print(x)\n",
    "\n"
   ]
  },
  {
   "cell_type": "markdown",
   "id": "eb5a5ab8-32c2-43f1-a87d-15f4f7450cba",
   "metadata": {},
   "source": [
    "### Add Items\n",
    "\n",
    "* Since tuples are immutable, they do not have a build-in append() method, but there are other ways to add items to a tuple."
   ]
  },
  {
   "cell_type": "code",
   "execution_count": 8,
   "id": "d433e4f5-2646-4b8a-aac6-0d89ff0946c3",
   "metadata": {},
   "outputs": [
    {
     "name": "stdout",
     "output_type": "stream",
     "text": [
      "('apple', 'banana', 'cherry', 'orange')\n"
     ]
    }
   ],
   "source": [
    "\n",
    "# Add new item by converting into a list\n",
    "\n",
    "thistuple = (\"apple\", \"banana\", \"cherry\")\n",
    "y = list(thistuple)\n",
    "y.append(\"orange\")\n",
    "thistuple = tuple(y)\n",
    "\n",
    "# Add tuple to a tuple\n",
    "\n",
    "# You are allowed to add tuples to tuples.\n",
    "# so if you want to add one item, (or many), create a new tuple with the item(s), and add it to the existing tuple\n",
    "\n",
    "thistuple = (\"apple\", \"banana\", \"cherry\")\n",
    "y = (\"orange\",)\n",
    "thistuple += y\n",
    "\n",
    "print(thistuple)"
   ]
  },
  {
   "cell_type": "markdown",
   "id": "af3a60f3-4427-4b6d-a87c-87729995dd5a",
   "metadata": {},
   "source": [
    "### Remove Items\n",
    "\n",
    "* Tuples are unchangeable, so you cannot remove items from it, but you can use the same workaround as we used for changing and adding tuple items"
   ]
  },
  {
   "cell_type": "code",
   "execution_count": 9,
   "id": "293dfee6-1691-4817-a0df-188f1a6443e6",
   "metadata": {},
   "outputs": [
    {
     "name": "stdout",
     "output_type": "stream",
     "text": [
      "('banana', 'cherry')\n"
     ]
    }
   ],
   "source": [
    "thistuple = (\"apple\", \"banana\", \"cherry\")\n",
    "y = list(thistuple)\n",
    "y.remove(\"apple\")\n",
    "thistuple = tuple(y) \n",
    "print(thistuple)"
   ]
  },
  {
   "cell_type": "code",
   "execution_count": 3,
   "id": "1c0a1038-bee9-469e-afbf-7e5016c6f97f",
   "metadata": {},
   "outputs": [
    {
     "ename": "NameError",
     "evalue": "name 'thistuple' is not defined",
     "output_type": "error",
     "traceback": [
      "\u001b[1;31m---------------------------------------------------------------------------\u001b[0m",
      "\u001b[1;31mNameError\u001b[0m                                 Traceback (most recent call last)",
      "Cell \u001b[1;32mIn[3], line 3\u001b[0m\n\u001b[0;32m      1\u001b[0m thistuple \u001b[38;5;241m=\u001b[39m (\u001b[38;5;124m\"\u001b[39m\u001b[38;5;124mapple\u001b[39m\u001b[38;5;124m\"\u001b[39m, \u001b[38;5;124m\"\u001b[39m\u001b[38;5;124mbanana\u001b[39m\u001b[38;5;124m\"\u001b[39m, \u001b[38;5;124m\"\u001b[39m\u001b[38;5;124mcherry\u001b[39m\u001b[38;5;124m\"\u001b[39m)\n\u001b[0;32m      2\u001b[0m \u001b[38;5;28;01mdel\u001b[39;00m thistuple\n\u001b[1;32m----> 3\u001b[0m \u001b[38;5;28mprint\u001b[39m(\u001b[43mthistuple\u001b[49m) \u001b[38;5;66;03m#this will raise an error because the tuple no longer exists\u001b[39;00m\n",
      "\u001b[1;31mNameError\u001b[0m: name 'thistuple' is not defined"
     ]
    }
   ],
   "source": [
    "thistuple = (\"apple\", \"banana\", \"cherry\")\n",
    "del thistuple\n",
    "print(thistuple) #this will raise an error because the tuple no longer exists"
   ]
  },
  {
   "cell_type": "markdown",
   "id": "8a99806a-98f3-483b-b352-078cd6423efb",
   "metadata": {},
   "source": [
    "### Advantages of Tuple over List\n",
    "\n",
    "\n",
    "* Tuples are slightly more memory-efficient than lists because they are fixed in size and cannot grow or shrink. This can lead to better performance in scenarios where the size of the data structure is known and doesn't need to change.\n",
    "\n",
    "* Tuples are immutable, meaning their elements cannot be changed after they are created. This immutability provides several advantages, including data integrity and ensuring that the contents of a tuple remain consistent throughout its lifetime.\n",
    "\n",
    "* Because tuples are immutable, they can be used as keys in dictionaries and elements in sets. This is because Python requires hashable objects for these data structures, and tuples fit that requirement."
   ]
  }
 ],
 "metadata": {
  "kernelspec": {
   "display_name": "Python 3 (ipykernel)",
   "language": "python",
   "name": "python3"
  },
  "language_info": {
   "codemirror_mode": {
    "name": "ipython",
    "version": 3
   },
   "file_extension": ".py",
   "mimetype": "text/x-python",
   "name": "python",
   "nbconvert_exporter": "python",
   "pygments_lexer": "ipython3",
   "version": "3.10.11"
  }
 },
 "nbformat": 4,
 "nbformat_minor": 5
}
