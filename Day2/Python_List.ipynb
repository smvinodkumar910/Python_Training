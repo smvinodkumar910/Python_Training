{
 "cells": [
  {
   "cell_type": "markdown",
   "id": "769ff9f2-ee29-4066-8a86-cebe325f498a",
   "metadata": {},
   "source": [
    "## Python Lists\n",
    "\n",
    "* Lists are used to store multiple items in a single variable.\n",
    "*  Lists are one of 4 built-in data types in Python used to store collections of data, \n",
    "  the other 3 are Tuple, Set, and Dictionary, all with different qualities and usage*    Lists are created using square brackets:"
   ]
  },
  {
   "cell_type": "code",
   "execution_count": 1,
   "id": "ccdafb83-6956-4e8b-8cad-ecd71f20e20d",
   "metadata": {},
   "outputs": [
    {
     "name": "stdout",
     "output_type": "stream",
     "text": [
      "['apple', 'banana', 'cherry']\n"
     ]
    }
   ],
   "source": [
    "thislist = [\"apple\", \"banana\", \"cherry\"]\n",
    "print(thislist)"
   ]
  },
  {
   "cell_type": "markdown",
   "id": "876e5068-68a8-494b-be0f-fe37603b0991",
   "metadata": {},
   "source": [
    "### List Properties\n",
    "\n",
    "* List items are ordered, changeable, and allow duplicate values.\n",
    "*  List items are indexed, the first item has index [0], the second item has index [1] etc."
   ]
  },
  {
   "cell_type": "code",
   "execution_count": 3,
   "id": "88b98598-84ed-4c57-81bc-9e9ab5fac5f1",
   "metadata": {},
   "outputs": [
    {
     "name": "stdout",
     "output_type": "stream",
     "text": [
      "['apple', 'banana', 'cherry', 'apple', 'cherry']\n",
      "cherry\n",
      "3\n",
      "<class 'list'>\n",
      "['apple', 'banana', 'cherry']\n"
     ]
    }
   ],
   "source": [
    "thislist = [\"apple\", \"banana\", \"cherry\", \"apple\", \"cherry\"]\n",
    "print(thislist)\n",
    "\n",
    "print(thislist[2])\n",
    "\n",
    "#List Length\n",
    "#To determine how many items a list has, use the len() function: \n",
    "#Print the number of items in the list:\n",
    "thislist = [\"apple\", \"banana\", \"cherry\"]\n",
    "print(len(thislist))\n",
    "\n",
    "#List Items - Data Types:\n",
    "#List items can be of any data type:\n",
    "#String, int and boolean data types:\n",
    "\n",
    "list1 = [\"apple\", \"banana\", \"cherry\"]\n",
    "list2 = [1, 5, 7, 9, 3]\n",
    "list3 = [True, False, False]\n",
    "\n",
    "#A list can contain different data types:\n",
    "#A list with strings, integers and boolean values:\n",
    "list1 = [\"abc\", 34, True, 40, \"male\"]\n",
    " \n",
    "#type():\n",
    "mylist = [\"apple\", \"banana\", \"cherry\"]\n",
    "print(type(mylist))\n",
    "\n",
    "#The list() Constructor:\n",
    "#It is also possible to use the list() constructor when creating a new list.\n",
    "#Using the list() constructor to make a List:\n",
    "\n",
    "thislist = list((\"apple\", \"banana\", \"cherry\")) # note the double round-brackets\n",
    "print(thislist)"
   ]
  },
  {
   "cell_type": "markdown",
   "id": "066db345-f7bf-4cca-b179-53944ee0dcad",
   "metadata": {},
   "source": [
    "### Access List Items\n",
    "\n",
    " * List items are indexed and you can access them by referring to the index number"
   ]
  },
  {
   "cell_type": "code",
   "execution_count": 5,
   "id": "93db742a-0585-4f1d-aee9-6f8a507feed0",
   "metadata": {},
   "outputs": [
    {
     "name": "stdout",
     "output_type": "stream",
     "text": [
      "apple\n",
      "cherry\n",
      "['cherry', 'orange', 'kiwi']\n",
      "['apple', 'banana', 'cherry', 'orange']\n",
      "['cherry', 'orange', 'kiwi', 'melon', 'mango']\n",
      "['orange', 'kiwi', 'melon']\n",
      "Yes, 'apple' is in the fruits list\n"
     ]
    }
   ],
   "source": [
    "\n",
    "thislist = [\"apple\", \"banana\", \"cherry\"]\n",
    "print(thislist[0])\n",
    "\n",
    "#Negative Indexing:\n",
    "#Negative indexing means start from the end\n",
    "\n",
    "#-1 refers to the last item, -2 refers to the second last item etc.\n",
    "\n",
    "thislist = [\"apple\", \"banana\", \"cherry\"]\n",
    "print(thislist[-1])\n",
    "\n",
    "#Range of Indexes:\n",
    "#You can specify a range of indexes by specifying where to start and where to end the range.\n",
    "#When specifying a range, the return value will be a new list with the specified items.\n",
    "\n",
    "thislist = [\"apple\", \"banana\", \"cherry\", \"orange\", \"kiwi\", \"melon\", \"mango\"]\n",
    "print(thislist[2:5])\n",
    "\n",
    "#Note: The search will start at index 2 (included) and end at index 5 (not included).\n",
    "\n",
    "#By leaving out the start value, the range will start at the first item:            \n",
    "#This example returns the items from the beginning to, but NOT including, \"kiwi\":\n",
    "thislist = [\"apple\", \"banana\", \"cherry\", \"orange\", \"kiwi\", \"melon\", \"mango\"]\n",
    "print(thislist[:4])\n",
    "\n",
    "#By leaving out the end value, the range will go on to the end of the list:\n",
    "#Example\n",
    "#This example returns the items from \"cherry\" to the end:\n",
    "\n",
    "thislist = [\"apple\", \"banana\", \"cherry\", \"orange\", \"kiwi\", \"melon\", \"mango\"]\n",
    "print(thislist[2:])\n",
    "\n",
    "#Range of Negative Indexes\n",
    "#Specify negative indexes if you want to start the search from the end of the list:\n",
    "#Example\n",
    "#This example returns the items from \"orange\" (-4) to, but NOT including \"mango\" (-1):\n",
    "\n",
    "thislist = [\"apple\", \"banana\", \"cherry\", \"orange\", \"kiwi\", \"melon\", \"mango\"]\n",
    "print(thislist[-4:-1])\n",
    "\n",
    "#Check if Item Exists:\n",
    "#To determine if a specified item is present in a list use the in keyword:\n",
    "\n",
    "#Example\n",
    "#Check if \"apple\" is present in the list:\n",
    "\n",
    "thislist = [\"apple\", \"banana\", \"cherry\"]\n",
    "if \"apple\" in thislist:\n",
    "  print(\"Yes, 'apple' is in the fruits list\")\n"
   ]
  },
  {
   "cell_type": "markdown",
   "id": "b0937dd2-e680-410b-81ad-91e2f5db18f7",
   "metadata": {},
   "source": [
    "### Change List Items"
   ]
  },
  {
   "cell_type": "code",
   "execution_count": 7,
   "id": "4d5e8460-60ed-4f77-a419-6e135dd52061",
   "metadata": {},
   "outputs": [
    {
     "name": "stdout",
     "output_type": "stream",
     "text": [
      "['apple', 'blackcurrant', 'cherry']\n",
      "['apple', 'blackcurrant', 'watermelon', 'orange', 'kiwi', 'mango']\n",
      "['apple', 'blackcurrant', 'watermelon', 'cherry']\n",
      "['apple', 'watermelon']\n"
     ]
    }
   ],
   "source": [
    "\n",
    "#To change the value of a specific item, refer to the index number:\n",
    "\n",
    "thislist = [\"apple\", \"banana\", \"cherry\"]\n",
    "thislist[1] = \"blackcurrant\"\n",
    "print(thislist)\n",
    "\n",
    "#Change a Range of Item Values\n",
    "#To change the value of items within a specific range, \n",
    "#define a list with the new values, and refer to the range of index numbers where you want to insert the new values:\n",
    "\n",
    "thislist = [\"apple\", \"banana\", \"cherry\", \"orange\", \"kiwi\", \"mango\"]\n",
    "thislist[1:3] = [\"blackcurrant\", \"watermelon\"]\n",
    "print(thislist)\n",
    "\n",
    "#If you insert more items than you replace, \n",
    "#the new items will be inserted where you specified, and the remaining items will move accordingly:\n",
    "\n",
    "thislist = [\"apple\", \"banana\", \"cherry\"]\n",
    "thislist[1:2] = [\"blackcurrant\", \"watermelon\"]\n",
    "print(thislist)\n",
    "#Note: The length of the list will change when the number of items inserted does not match the number of items replaced.\n",
    "\n",
    "#If you insert less items than you replace, the new items will be inserted where you specified, \n",
    "#and the remaining items will move accordingly:\n",
    "\n",
    "thislist = [\"apple\", \"banana\", \"cherry\"]\n",
    "thislist[1:3] = [\"watermelon\"]\n",
    "print(thislist)\n"
   ]
  },
  {
   "cell_type": "markdown",
   "id": "cd1ae00a-aa90-42e8-8e1d-2d1394d70cbc",
   "metadata": {},
   "source": [
    "### Add List Items"
   ]
  },
  {
   "cell_type": "code",
   "execution_count": 9,
   "id": "b037693b-09e9-4a99-b586-4dc29c5ac3ba",
   "metadata": {},
   "outputs": [
    {
     "name": "stdout",
     "output_type": "stream",
     "text": [
      "['apple', 'banana', 'cherry', 'orange']\n",
      "['apple', 'orange', 'banana', 'cherry']\n",
      "['apple', 'banana', 'cherry', 'mango', 'pineapple', 'papaya']\n",
      "['apple', 'banana', 'cherry', 'kiwi', 'orange', 'key']\n"
     ]
    }
   ],
   "source": [
    "#Append Items\n",
    "#To add an item to the end of the list, use the append() method:\n",
    "\n",
    "#Example\n",
    "#Using the append() method to append an item:\n",
    "\n",
    "thislist = [\"apple\", \"banana\", \"cherry\"]\n",
    "thislist.append(\"orange\")\n",
    "print(thislist)\n",
    "\n",
    "#Insert Items\n",
    "#To insert a list item at a specified index, use the insert() method.\n",
    "#The insert() method inserts an item at the specified index:\n",
    "\n",
    "#Example\n",
    "#Insert an item as the second position:\n",
    "\n",
    "thislist = [\"apple\", \"banana\", \"cherry\"]\n",
    "thislist.insert(1, \"orange\")\n",
    "print(thislist)\n",
    "#Note: As a result of the examples above, the lists will now contain 4 items.\n",
    "\n",
    "#Extend List\n",
    "#To append elements from another list to the current list, use the extend() method.\n",
    "\n",
    "#Example\n",
    "#Add the elements of tropical to thislist:\n",
    "\n",
    "thislist = [\"apple\", \"banana\", \"cherry\"]\n",
    "tropical = [\"mango\", \"pineapple\", \"papaya\"]\n",
    "thislist.extend(tropical)\n",
    "print(thislist)\n",
    "#The elements will be added to the end of the list.\n",
    "\n",
    "#Add Any Iterable\n",
    "#The extend() method does not have to append lists, you can add any iterable object (tuples, sets, dictionaries etc.).\n",
    "\n",
    "#Example\n",
    "#Add elements of a tuple to a list:\n",
    "\n",
    "thislist = [\"apple\", \"banana\", \"cherry\"]\n",
    "thistuple = (\"kiwi\", \"orange\")\n",
    "thisdict = {'key':'value'}\n",
    "thislist.extend(thistuple)\n",
    "thislist.extend(thisdict)\n",
    "print(thislist)"
   ]
  },
  {
   "cell_type": "markdown",
   "id": "f7f28f64-f354-40a4-8dff-627a04d68e1f",
   "metadata": {},
   "source": [
    "### Remove List Items"
   ]
  },
  {
   "cell_type": "code",
   "execution_count": 10,
   "id": "3ca244b6-b294-46ab-9737-89e303b14116",
   "metadata": {},
   "outputs": [
    {
     "name": "stdout",
     "output_type": "stream",
     "text": [
      "['apple', 'cherry']\n",
      "['apple', 'cherry']\n",
      "['apple', 'banana']\n",
      "['banana', 'cherry']\n",
      "[]\n"
     ]
    }
   ],
   "source": [
    "#Remove Specified Item\n",
    "#The remove() method removes the specified item.\n",
    "#Example\n",
    "#Remove \"banana\":\n",
    "\n",
    "thislist = [\"apple\", \"banana\", \"cherry\"]\n",
    "thislist.remove(\"banana\")\n",
    "print(thislist)\n",
    "\n",
    "#Remove Specified Index\n",
    "#The pop() method removes the specified index.\n",
    "#Example\n",
    "#Remove the second item:\n",
    "\n",
    "thislist = [\"apple\", \"banana\", \"cherry\"]\n",
    "thislist.pop(1)\n",
    "print(thislist)\n",
    "\n",
    "#If you do not specify the index, the pop() method removes the last item.\n",
    "#Example\n",
    "#Remove the last item:\n",
    "\n",
    "thislist = [\"apple\", \"banana\", \"cherry\"]\n",
    "thislist.pop()\n",
    "print(thislist)\n",
    "\n",
    "#The del keyword also removes the specified index:\n",
    "#Example\n",
    "#Remove the first item:\n",
    "\n",
    "thislist = [\"apple\", \"banana\", \"cherry\"]\n",
    "del thislist[0]\n",
    "print(thislist)\n",
    "        \n",
    "#The del keyword can also delete the list completely.\n",
    "#Example\n",
    "#Delete the entire list:\n",
    "\n",
    "thislist = [\"apple\", \"banana\", \"cherry\"]\n",
    "del thislist\n",
    "\n",
    "#Clear the List\n",
    "#The clear() method empties the list.\n",
    "#The list still remains, but it has no content.\n",
    "\n",
    "#Example\n",
    "#Clear the list content:\n",
    "\n",
    "thislist = [\"apple\", \"banana\", \"cherry\"]\n",
    "thislist.clear()\n",
    "print(thislist)"
   ]
  },
  {
   "cell_type": "markdown",
   "id": "44e9eb77-27f0-4f0e-9ef6-48dee7f04f2b",
   "metadata": {},
   "source": [
    "### Loop Lists"
   ]
  },
  {
   "cell_type": "code",
   "execution_count": 14,
   "id": "40e77ce8-7fa6-4517-ac36-ed39e82c20b3",
   "metadata": {},
   "outputs": [
    {
     "name": "stdout",
     "output_type": "stream",
     "text": [
      "apple\n",
      "apple\n",
      "apple\n",
      "cherry\n",
      "cherry\n",
      "cherry\n",
      "apple\n",
      "banana\n",
      "cherry\n"
     ]
    },
    {
     "data": {
      "text/plain": [
       "[None, None, None]"
      ]
     },
     "execution_count": 14,
     "metadata": {},
     "output_type": "execute_result"
    }
   ],
   "source": [
    "#You can loop through the list items by using a for loop:\n",
    "#Example\n",
    "#Print all items in the list, one by one:\n",
    "\n",
    "thislist = [\"apple\", \"banana\", \"cherry\"]\n",
    "#for x in thislist:\n",
    "#    print(x)\n",
    "\n",
    "\n",
    "#Loop Through the Index Numbers\n",
    "#You can also loop through the list items by referring to their index number.\n",
    "#Use the range() and len() functions to create a suitable iterable.\n",
    "\n",
    "#Example\n",
    "#Print all items by referring to their index number:\n",
    "\n",
    "thislist = [\"apple\", \"banana\", \"cherry\"]\n",
    "\n",
    "#print(range(len(thislist)))\n",
    "\n",
    "for i in range(len(thislist)):\n",
    "    print(thislist[0])\n",
    "#The iterable created in the example above is [0, 1, 2].\n",
    "\n",
    "#Using a While Loop\n",
    "#You can loop through the list items by using a while loop.\n",
    "#Use the len() function to determine the length of the list, \n",
    "#then start at 0 and loop your way through the list items by refering to their indexes.\n",
    "#Remember to increase the index by 1 after each iteration.\n",
    "\n",
    "#Example\n",
    "#Print all items, using a while loop to go through all the index numbers\n",
    "\n",
    "thislist = [\"apple\", \"banana\", \"cherry\"]\n",
    "i = 0\n",
    "while i < len(thislist):\n",
    "    print(thislist[2])\n",
    "    i = i + 1\n",
    "\n",
    "\n",
    "#Looping Using List Comprehension\n",
    "#List Comprehension offers the shortest syntax for looping through lists:\n",
    "#Example\n",
    "#A short hand for loop that will print all items in a list:\n",
    "\n",
    "thislist = [\"apple\", \"banana\", \"cherry\"]\n",
    "[print(x) for x in thislist]\n"
   ]
  },
  {
   "cell_type": "markdown",
   "id": "245299fa-4633-48a2-bb6a-c954595a8057",
   "metadata": {},
   "source": [
    "### List Comprehension"
   ]
  },
  {
   "cell_type": "code",
   "execution_count": 20,
   "id": "2aff38f5-da53-4ba9-b286-7884a62d826c",
   "metadata": {},
   "outputs": [
    {
     "name": "stdout",
     "output_type": "stream",
     "text": [
      "['apple', 'banana', 'mango']\n",
      "['apple', 'banana', 'mango']\n",
      "['less than 5', 'less than 5', 'less than 5', 'less than 5', 'less than 5']\n",
      "[0, 1, 2, 3, 4]\n",
      "['apple', 'orange', 'cherry', 'kiwi', 'mango']\n"
     ]
    }
   ],
   "source": [
    "#List comprehension offers a shorter syntax when you want to create a new list based on the values of an existing list.\n",
    "#Example:\n",
    "#Based on a list of fruits, you want a new list, containing only the fruits with the letter \"a\" in the name.\n",
    "#Without list comprehension you will have to write a for statement with a conditional test inside:\n",
    "\n",
    "fruits = [\"apple\", \"banana\", \"cherry\", \"kiwi\", \"mango\"]\n",
    "newlist = []\n",
    "\n",
    "for x in fruits:\n",
    "    if \"a\" in x:\n",
    "        newlist.append(x)\n",
    "\n",
    "print(newlist)\n",
    "\n",
    "#With list comprehension you can do all that with only one line of code:\n",
    "\n",
    "fruits = [\"apple\", \"banana\", \"cherry\", \"kiwi\", \"mango\"]\n",
    "newlist = [x for x in fruits if \"a\" in x]\n",
    "\n",
    "print(newlist)\n",
    "\n",
    "#The Syntax:\n",
    "#newlist = [expression for item in iterable if condition == True]\n",
    "#The return value is a new list, leaving the old list unchanged.\n",
    "\n",
    "#Example\n",
    "#Only accept items that are not \"apple\":\n",
    "\n",
    "newlist = [x for x in fruits if x != \"apple\"]\n",
    "\n",
    "#The condition is optional and can be omitted:\n",
    "#With no if statement:\n",
    "newlist = [x for x in fruits]\n",
    "\n",
    "#Iterable:\n",
    "#The iterable can be any iterable object, like a list, tuple, set etc.\n",
    "\n",
    "\n",
    "#You can use the range() function to create an iterable:\n",
    "\n",
    "\n",
    "newlist = ['less than 5' if x<5 else 'greater than 5' for x in range(10) if x<5]\n",
    "\n",
    "print(newlist)\n",
    "\n",
    "#Example\n",
    "#Accept only numbers lower than 5:\n",
    "\n",
    "newlist = [x for x in range(10) if x < 5]\n",
    "\n",
    "print(newlist)\n",
    "\n",
    "#Expression:\n",
    "#The expression is the current item in the iteration, but it is also the outcome, \n",
    "#which you can manipulate before it ends up like a list item in the new list:\n",
    "\n",
    "#Example\n",
    "#Set the values in the new list to upper case:\n",
    "\n",
    "#newlist = [x.upper() for x in fruits]\n",
    "\n",
    "#You can set the outcome to whatever you like:\n",
    "#Example\n",
    "#Set all values in the new list to 'hello':\n",
    "\n",
    "#newlist = ['hello' for x in fruits]\n",
    "\n",
    "#The expression can also contain conditions, not like a filter, but as a way to manipulate the outcome:\n",
    "\n",
    "#Example\n",
    "#Return \"orange\" instead of \"banana\":\n",
    "\n",
    "newlist = [x if x != \"banana\" else \"orange\" for x in fruits]\n",
    "print(newlist)\n",
    "#The expression in the example above says:\n",
    "#\"Return the item if it is not banana, if it is banana return orange\".\n"
   ]
  },
  {
   "cell_type": "markdown",
   "id": "48dba3bb-b293-47b5-9bae-a9ad133baf90",
   "metadata": {},
   "source": [
    "### Sort Lists\n",
    "\n",
    "* Sort List Alphanumerically\n",
    "* List objects have a sort() method that will sort the list alphanumerically, ascending, by default."
   ]
  },
  {
   "cell_type": "code",
   "execution_count": 23,
   "id": "14397470-8f13-4de0-97ab-09f1a6ac969e",
   "metadata": {},
   "outputs": [
    {
     "name": "stdout",
     "output_type": "stream",
     "text": [
      "['banana', 'kiwi', 'mango', 'orange', 'pineapple']\n",
      "[23, 50, 65, 82, 100]\n",
      "['pineapple', 'orange', 'mango', 'kiwi', 'banana']\n",
      "[100, 82, 65, 50, 23]\n",
      "[50, 65, 23, 82, 100]\n",
      "['banana', 'cherry', 'Kiwi', 'Orange']\n",
      "['cherry', 'Kiwi', 'Orange', 'banana']\n"
     ]
    }
   ],
   "source": [
    "\n",
    "#Sort the list alphabetically:\n",
    "\n",
    "thislist = [\"orange\", \"mango\", \"kiwi\", \"pineapple\", \"banana\"]\n",
    "thislist.sort()\n",
    "print(thislist)\n",
    "\n",
    "\n",
    "#Sort the list numerically:\n",
    "\n",
    "thislist = [100, 50, 65, 82, 23]\n",
    "thislist.sort()\n",
    "print(thislist)\n",
    "\n",
    "#Sort Descending:\n",
    "\n",
    "thislist = [\"orange\", \"mango\", \"kiwi\", \"pineapple\", \"banana\"]\n",
    "thislist.sort(reverse = True)\n",
    "print(thislist)\n",
    "\n",
    "thislist = [100, 50, 65, 82, 23]\n",
    "thislist.sort(reverse = True)\n",
    "print(thislist)\n",
    "\n",
    "#Customize Sort Function:\n",
    "#You can also customize your own function by using the keyword argument key = function.\n",
    "#The function will return a number that will be used to sort the list (the lowest number first):\n",
    "\n",
    "#Example\n",
    "#Sort the list based on how close the number is to 50:\n",
    "\n",
    "def myfunc(n):\n",
    "    return abs(n - 50)\n",
    "\n",
    "thislist = [100, 50, 65, 82, 23]\n",
    "thislist.sort(key = myfunc)\n",
    "print(thislist)\n",
    "\n",
    "#Case Insensitive Sort:\n",
    "#Example\n",
    "#Perform a case-insensitive sort of the list:\n",
    "\n",
    "thislist = [\"banana\", \"Orange\", \"Kiwi\", \"cherry\"]\n",
    "thislist.sort(key = str.lower)\n",
    "print(thislist)\n",
    "\n",
    "#Reverse Order:\n",
    "#What if you want to reverse the order of a list, regardless of the alphabet?\n",
    "#The reverse() method reverses the current sorting order of the elements.\n",
    "\n",
    "#Example\n",
    "#Reverse the order of the list items:\n",
    "\n",
    "thislist = [\"banana\", \"Orange\", \"Kiwi\", \"cherry\"]\n",
    "thislist.reverse()\n",
    "print(thislist)"
   ]
  },
  {
   "cell_type": "markdown",
   "id": "bba6e019-56ca-46b8-bd78-33bf22a00d82",
   "metadata": {},
   "source": [
    "### Copy Lists\n",
    "\n",
    "* You cannot copy a list simply by typing list2 = list1.\n",
    "*  because: list2 will only be a reference to list1, and changes made in list1 will automatically also be made in list2\n",
    "*   There are ways to make a copy, one way is to use the built-in List method copy().\n"
   ]
  },
  {
   "cell_type": "code",
   "execution_count": 24,
   "id": "395ae3a6-0a3b-4c30-a06d-fa93e9492e59",
   "metadata": {},
   "outputs": [
    {
     "name": "stdout",
     "output_type": "stream",
     "text": [
      "['CHENNAI', 'MUMBAI', 'DELHI', 'INDIA']\n",
      "['apple', 'banana', 'cherry']\n",
      "['apple', 'banana', 'cherry']\n"
     ]
    }
   ],
   "source": [
    "a = ['CHENNAI','MUMBAI','DELHI']\n",
    "b = a\n",
    "\n",
    "x = 2\n",
    "y = x\n",
    "\n",
    "a.append(\"INDIA\")\n",
    "\n",
    "print(b)\n",
    "\n",
    "#Make a copy of a list with the copy() method:\n",
    "\n",
    "thislist = [\"apple\", \"banana\", \"cherry\"]\n",
    "mylist = thislist.copy()\n",
    "print(mylist)\n",
    "\n",
    "#Another way to make a copy is to use the built-in method list().\n",
    "#Example\n",
    "#Make a copy of a list with the list() method:\n",
    "\n",
    "thislist = [\"apple\", \"banana\", \"cherry\"]\n",
    "mylist = list(thislist)\n",
    "print(mylist)"
   ]
  },
  {
   "cell_type": "code",
   "execution_count": 27,
   "id": "784e09d0-85c5-4133-ab23-7e167daa0371",
   "metadata": {
    "tags": []
   },
   "outputs": [
    {
     "name": "stdout",
     "output_type": "stream",
     "text": [
      "2\n",
      "2\n",
      "140720277853000\n",
      "140720277853000\n",
      "140720277853064\n",
      "140720277853000\n"
     ]
    }
   ],
   "source": [
    "\n",
    "x = 2\n",
    "y = x\n",
    "\n",
    "print(x)\n",
    "print(y)\n",
    "print(id(x))\n",
    "print(id(y))\n",
    "\n",
    "x = 4\n",
    "\n",
    "print(id(x))\n",
    "print(id(y))\n",
    "\n"
   ]
  },
  {
   "cell_type": "markdown",
   "id": "aab29e61-a8c4-4093-8500-b03e3b75449e",
   "metadata": {},
   "source": [
    "### Join List"
   ]
  },
  {
   "cell_type": "code",
   "execution_count": 28,
   "id": "fd61c58e-1c99-446e-916c-3694a5bba553",
   "metadata": {},
   "outputs": [
    {
     "name": "stdout",
     "output_type": "stream",
     "text": [
      "['a', 'b', 'c', 1, 2, 3]\n",
      "['a', 'b', 'c', 1, 2, 3]\n",
      "['a', 'b', 'c', 1, 2, 3]\n"
     ]
    }
   ],
   "source": [
    "#There are several ways to join, or concatenate, two or more lists in Python.\n",
    "#One of the easiest ways are by using the + operator.\n",
    "\n",
    "\n",
    "list1 = [\"a\", \"b\", \"c\"]\n",
    "list2 = [1, 2, 3]\n",
    "\n",
    "list3 = list1 + list2\n",
    "print(list3)    \n",
    "\n",
    "#Another way to join two lists is by appending all the items from list2 into list1, one by one:\n",
    "\n",
    "list1 = [\"a\", \"b\" , \"c\"]\n",
    "list2 = [1, 2, 3]\n",
    "\n",
    "for x in list2:\n",
    "    list1.append(x)\n",
    "\n",
    "print(list1)\n",
    "\n",
    "#Or you can use the extend() method, which purpose is to add elements from one list to another list:\n",
    "#Example\n",
    "#Use the extend() method to add list2 at the end of list1:\n",
    "\n",
    "list1 = [\"a\", \"b\" , \"c\"]\n",
    "list2 = [1, 2, 3]\n",
    "\n",
    "list1.extend(list2)\n",
    "print(list1)"
   ]
  }
 ],
 "metadata": {
  "kernelspec": {
   "display_name": "Python 3 (ipykernel)",
   "language": "python",
   "name": "python3"
  },
  "language_info": {
   "codemirror_mode": {
    "name": "ipython",
    "version": 3
   },
   "file_extension": ".py",
   "mimetype": "text/x-python",
   "name": "python",
   "nbconvert_exporter": "python",
   "pygments_lexer": "ipython3",
   "version": "3.11.4"
  }
 },
 "nbformat": 4,
 "nbformat_minor": 5
}
