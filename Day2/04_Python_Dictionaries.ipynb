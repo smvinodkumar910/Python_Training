{
 "cells": [
  {
   "cell_type": "markdown",
   "id": "e1fee825-48dc-473c-bc4d-d9993717538b",
   "metadata": {},
   "source": [
    "## Python Dictionaries\n",
    "\n",
    "* Dictionaries are used to store data values in key:value pairs.\n",
    "*  A dictionary is a collection which is ordered, changeable and do not allow duplicates\n",
    "* from Python version 3.7, dictionaries are ordered. In Python 3.6 and earlier, dictionaries are unorderd.ues:"
   ]
  },
  {
   "cell_type": "code",
   "execution_count": 1,
   "id": "728ab866-4e1e-4109-8cef-6b4adc20be86",
   "metadata": {},
   "outputs": [
    {
     "name": "stdout",
     "output_type": "stream",
     "text": [
      "{'brand': 'Ford', 'model': 'Mustang', 'year': 1964}\n"
     ]
    }
   ],
   "source": [
    "#Dictionaries are written with curly brackets, and have keys and values:\n",
    "\n",
    "#Example\n",
    "\n",
    "thisdict = {\n",
    "\"brand\": \"Ford\",\n",
    "\"model\": \"Mustang\",\n",
    "\"year\": 1964\n",
    "}\n",
    "print(thisdict)"
   ]
  },
  {
   "cell_type": "markdown",
   "id": "7ae63b8a-d13c-49c1-bfb7-e652a768f68f",
   "metadata": {},
   "source": [
    "### Dictionary Properties\n",
    "\n",
    "* Dictionary items are ordered, changeable, and does not allow duplicates.\n",
    "* Dictionary items are presented in key:value pairs, and can be referred to by using the key name."
   ]
  },
  {
   "cell_type": "code",
   "execution_count": 8,
   "id": "cc803c07-01ae-4591-8676-29ee3e813ca6",
   "metadata": {
    "tags": []
   },
   "outputs": [
    {
     "name": "stdout",
     "output_type": "stream",
     "text": [
      "Ford\n",
      "{'brand': 'Ford', 'model': 'Mustang', 'year': 2020}\n",
      "3\n",
      "{1: 'Ford', 2: False, 'year': 1964, 'colors': ['red', 'white', 'blue']}\n",
      "<class 'dict'>\n"
     ]
    }
   ],
   "source": [
    "#Print the \"brand\" value of the dictionary:\n",
    "\n",
    "thisdict = {\n",
    "  \"brand\": \"Ford\",\n",
    "  \"model\": \"Mustang\",\n",
    "  \"year\": 1964\n",
    "}\n",
    "print(thisdict[\"brand\"])\n",
    "\n",
    "\n",
    "#Ordered or Unordered?:\n",
    "#As of Python version 3.7, dictionaries are ordered. In Python 3.6 and earlier, dictionaries are unordered.\n",
    "#When we say that dictionaries are ordered, it means that the items have a defined order, and that order will not change.\n",
    "#Unordered means that the items does not have a defined order, you cannot refer to an item by using an index.\n",
    "\n",
    "#Changeable\n",
    "#Dictionaries are changeable, meaning that we can change, add or remove items after the dictionary has been created.\n",
    "\n",
    "#Duplicates Not Allowed\n",
    "#Dictionaries cannot have two items with the same key:\n",
    "\n",
    "#Example\n",
    "#Duplicate values will overwrite existing values:\n",
    "\n",
    "thisdict = {\n",
    "  \"brand\": \"Ford\",\n",
    "  \"model\": \"Mustang\",\n",
    "  \"year\": 1964,\n",
    "  \"year\": 2020\n",
    "}\n",
    "print(thisdict)\n",
    "\n",
    "#Dictionary Length\n",
    "#To determine how many items a dictionary has, use the len() function:\n",
    "\n",
    "print(len(thisdict))\n",
    "\n",
    "#Dictionary Items - Data Types\n",
    "#The values in dictionary items can be of any data type:\n",
    "\n",
    "#Example\n",
    "#String, int, boolean, and list data types:\n",
    "\n",
    "thisdict = {\n",
    "\"brand\": \"Ford\",\n",
    "\"electric\": False,\n",
    "\"year\": 1964,\n",
    "\"colors\": [\"red\", \"white\", \"blue\"]\n",
    "}\n",
    "\n",
    "thisdict = {\n",
    "1: \"Ford\",\n",
    "2: False,\n",
    "\"year\": 1964,\n",
    "\"colors\": [\"red\", \"white\", \"blue\"]\n",
    "}\n",
    "\n",
    "print(thisdict)\n",
    "\n",
    "#type()\n",
    "#From Python's perspective, dictionaries are defined as objects with the data type 'dict':\n",
    "\n",
    "#<class 'dict'>\n",
    "\n",
    "#Example\n",
    "#Print the data type of a dictionary:\n",
    "\n",
    "thisdict = {\n",
    "\"brand\": \"Ford\",\n",
    "\"model\": \"Mustang\",\n",
    "\"year\": 1964\n",
    "}\n",
    "print(type(thisdict))"
   ]
  },
  {
   "cell_type": "markdown",
   "id": "4a8bcf46-c289-4fe7-9eab-2b93951e50bb",
   "metadata": {},
   "source": [
    "### Access Dictionary Items\n",
    "\n",
    "* You can access the items of a dictionary by referring to its key name, inside square brackets"
   ]
  },
  {
   "cell_type": "code",
   "execution_count": 1,
   "id": "2ea4e6b8-bcbf-42d8-b3c2-e2ee92db58e2",
   "metadata": {
    "tags": []
   },
   "outputs": [
    {
     "name": "stdout",
     "output_type": "stream",
     "text": [
      "Mustang\n",
      "dict_keys(['brand', 'model', 'year'])\n",
      "dict_keys(['brand', 'model', 'year', 'color'])\n",
      "dict_values(['Ford', 'Mustang', 1964])\n",
      "dict_items([('brand', 'Ford'), ('model', 'Mustang'), ('year', 1964)])\n",
      "Yes, 'model' is one of the keys in the thisdict dictionary\n"
     ]
    }
   ],
   "source": [
    "#Get the value of the \"model\" key:\n",
    "\n",
    "thisdict = {\n",
    "\"brand\": \"Ford\",\n",
    "\"model\": \"Mustang\",\n",
    "\"year\": 1964\n",
    "}\n",
    "x = thisdict[\"model\"]\n",
    "print(x)\n",
    "\n",
    "#There is also a method called get() that will give you the same result:\n",
    "\n",
    "#Example\n",
    "#Get the value of the \"model\" key:\n",
    "\n",
    "x = thisdict.get(\"model\")\n",
    "\n",
    "#Get Keys\n",
    "#The keys() method will return a list of all the keys in the dictionary.\n",
    "\n",
    "#Example\n",
    "#Get a list of the keys:\n",
    "\n",
    "x = thisdict.keys()\n",
    "\n",
    "#The list of the keys is a view of the dictionary, meaning that any changes done\n",
    "#to the dictionary will be reflected in the keys list.\n",
    "\n",
    "#Example\n",
    "#Add a new item to the original dictionary, and see that the keys list gets updated as well:\n",
    "\n",
    "car = {\n",
    "\"brand\": \"Ford\",\n",
    "\"model\": \"Mustang\",\n",
    "\"year\": 1964\n",
    "}\n",
    "\n",
    "x = car.keys()\n",
    "\n",
    "print(x) #before the change\n",
    "\n",
    "car[\"color\"] = \"white\"\n",
    "\n",
    "print(x) #after the change\n",
    "\n",
    "#Get Values\n",
    "#The values() method will return a list of all the values in the dictionary.\n",
    "\n",
    "#Example\n",
    "#Get a list of the values:\n",
    "\n",
    "x = thisdict.values()\n",
    "print(x)\n",
    "#Get Items\n",
    "#The items() method will return each item in a dictionary, as tuples in a list.\n",
    "\n",
    "#Example\n",
    "#Get a list of the key:value pairs\n",
    "\n",
    "x = thisdict.items()\n",
    "print(x)\n",
    "\n",
    "#Check if Key Exists\n",
    "#To determine if a specified key is present in a dictionary use the in keyword:\n",
    "\n",
    "#Example\n",
    "#Check if \"model\" is present in the dictionary:\n",
    "\n",
    "thisdict = {\n",
    "\"brand\": \"Ford\",\n",
    "\"model\": \"Mustang\",\n",
    "\"year\": 1964\n",
    "}\n",
    "\n",
    "if \"model\" in thisdict:\n",
    "    print(\"Yes, 'model' is one of the keys in the thisdict dictionary\")"
   ]
  },
  {
   "cell_type": "markdown",
   "id": "e4e0c984-01bd-4c77-b874-43b8b8966b6e",
   "metadata": {},
   "source": [
    "### Change Dictionary Items\n",
    "\n",
    "* You can change the value of a specific item by referring to its key name"
   ]
  },
  {
   "cell_type": "code",
   "execution_count": 15,
   "id": "61340a5a-c230-44f8-9ba9-f88b618bb4e4",
   "metadata": {
    "tags": []
   },
   "outputs": [
    {
     "name": "stdout",
     "output_type": "stream",
     "text": [
      "{'brand': 'Ford', 'model': 'Mustang', 'year': 2018}\n",
      "{'brand': 'Ford', 'model': 'Mustang', 'year': 2020}\n",
      "{'brand': 'Ford', 'model': 'Mustang', 'year': 1964, 'color': 'red'}\n"
     ]
    }
   ],
   "source": [
    "thisdict = {\n",
    "\"brand\": \"Ford\",\n",
    "\"model\": \"Mustang\",\n",
    "\"year\": 1964\n",
    "}\n",
    "\n",
    "thisdict[\"year\"] = 2018\n",
    "\n",
    "print(thisdict)\n",
    "\n",
    "#Update Dictionary\n",
    "#The update() method will update the dictionary with the items from the given argument.\n",
    "#The argument must be a dictionary, or an iterable object with key:value pairs.\n",
    "\n",
    "#Example\n",
    "#Update the \"year\" of the car by using the update() method:\n",
    "\n",
    "thisdict = {\n",
    "\"brand\": \"Ford\",\n",
    "\"model\": \"Mustang\",\n",
    "\"year\": 1964\n",
    "}\n",
    "thisdict.update({\"year\": 2020})\n",
    "print(thisdict)\n",
    "\n",
    "\n",
    "#The update() method will update the dictionary with the items from a given argument. \n",
    "#If the item does not exist, the item will be added.\n",
    "#The argument must be a dictionary, or an iterable object with key:value pairs.\n",
    "\n",
    "\n",
    "thisdict = {\n",
    "\"brand\": \"Ford\",\n",
    "\"model\": \"Mustang\",\n",
    "\"year\": 1964\n",
    "}\n",
    "\n",
    "thisdict.update({\"color\": \"red\"})\n",
    "print(thisdict)"
   ]
  },
  {
   "cell_type": "markdown",
   "id": "b8a798f9-4fc2-4ad9-b05b-0e8e2daebfa1",
   "metadata": {},
   "source": [
    "### Adding Items\n",
    "\n",
    "* Adding an item to the dictionary is done by using a new index key and assigning a value to it"
   ]
  },
  {
   "cell_type": "code",
   "execution_count": 16,
   "id": "96c07472-0a9f-4467-9a5a-5d5711a7db83",
   "metadata": {
    "tags": []
   },
   "outputs": [
    {
     "name": "stdout",
     "output_type": "stream",
     "text": [
      "{'brand': 'Ford', 'model': 'Mustang', 'year': 1964, 'color': 'red'}\n"
     ]
    }
   ],
   "source": [
    "\n",
    "thisdict = {\n",
    "\"brand\": \"Ford\",\n",
    "\"model\": \"Mustang\",\n",
    "\"year\": 1964\n",
    "}\n",
    "thisdict[\"color\"] = \"red\"\n",
    "print(thisdict)"
   ]
  },
  {
   "cell_type": "markdown",
   "id": "479f891e-379c-4339-8494-6ef4b3927bf2",
   "metadata": {},
   "source": [
    "### Removing Items"
   ]
  },
  {
   "cell_type": "code",
   "execution_count": 2,
   "id": "cb65ac08-f906-46e3-83ca-631e69f41b1e",
   "metadata": {
    "tags": []
   },
   "outputs": [
    {
     "name": "stdout",
     "output_type": "stream",
     "text": [
      "{'brand': 'Ford', 'year': 1964}\n",
      "{'brand': 'Ford', 'model': 'Mustang'}\n",
      "{'brand': 'Ford', 'year': 1964}\n",
      "{}\n"
     ]
    }
   ],
   "source": [
    "#There are several methods to remove items from a dictionary:\n",
    "\n",
    "#Example\n",
    "#The pop() method removes the item with the specified key name:\n",
    "\n",
    "thisdict = {\n",
    "\"brand\": \"Ford\",\n",
    "\"model\": \"Mustang\",\n",
    "\"year\": 1964\n",
    "}\n",
    "thisdict.pop(\"model\")\n",
    "print(thisdict)\n",
    "\n",
    "#Example\n",
    "#The popitem() method removes the last inserted item (in versions before 3.7, a random item is removed instead):\n",
    "\n",
    "thisdict = {\n",
    "\"brand\": \"Ford\",\n",
    "\"model\": \"Mustang\",\n",
    "\"year\": 1964\n",
    "}\n",
    "thisdict.popitem()\n",
    "print(thisdict)\n",
    "\n",
    "#Example\n",
    "#The del keyword removes the item with the specified key name:\n",
    "\n",
    "thisdict = {\n",
    "\"brand\": \"Ford\",\n",
    "\"model\": \"Mustang\",\n",
    "\"year\": 1964\n",
    "}\n",
    "del thisdict[\"model\"]\n",
    "print(thisdict)\n",
    "\n",
    "#Example\n",
    "#The del keyword can also delete the dictionary completely:\n",
    "\n",
    "thisdict = {\n",
    "\"brand\": \"Ford\",\n",
    "\"model\": \"Mustang\",\n",
    "\"year\": 1964\n",
    "}\n",
    "del thisdict\n",
    "#print(thisdict) #this will cause an error because \"thisdict\" no longer exists.\n",
    "\n",
    "#Example\n",
    "#The clear() method empties the dictionary:\n",
    "\n",
    "thisdict = {\n",
    "\"brand\": \"Ford\",\n",
    "\"model\": \"Mustang\",\n",
    "\"year\": 1964\n",
    "}\n",
    "thisdict.clear()\n",
    "print(thisdict)"
   ]
  },
  {
   "cell_type": "markdown",
   "id": "b0248439-8c7e-4267-9e58-28539ea85b53",
   "metadata": {},
   "source": [
    "### Loop Dictionaries\n",
    "\n",
    "* You can loop through a dictionary by using a for loop.\n",
    "*  When looping through a dictionary, the return value are the keys of the dictionar.\n",
    "*   but there are methods to return the values as wel\n",
    "l."
   ]
  },
  {
   "cell_type": "code",
   "execution_count": 20,
   "id": "3fb0e03c-f0ff-4c9d-99ad-a01b622b1f9e",
   "metadata": {
    "tags": []
   },
   "outputs": [
    {
     "name": "stdout",
     "output_type": "stream",
     "text": [
      "brand\n",
      "model\n",
      "year\n"
     ]
    }
   ],
   "source": [
    "#Example\n",
    "#Print all key names in the dictionary, one by one:\n",
    "\n",
    "thisdict = {\n",
    "          \"brand\": \"Ford\",\n",
    "          \"model\": \"Mustang\",\n",
    "          \"year\": 1964\n",
    "        }\n",
    "\n",
    "for x in thisdict:\n",
    "    print(x)\n"
   ]
  },
  {
   "cell_type": "code",
   "execution_count": 22,
   "id": "b7c40aa8-1d17-4c30-ad2a-e1b35acb7eec",
   "metadata": {
    "tags": []
   },
   "outputs": [
    {
     "name": "stdout",
     "output_type": "stream",
     "text": [
      "brand\n",
      "model\n",
      "year\n",
      "Ford\n",
      "Mustang\n",
      "1964\n",
      "Ford\n",
      "Mustang\n",
      "1964\n",
      "brand\n",
      "model\n",
      "year\n",
      "brand Ford\n",
      "model Mustang\n",
      "year 1964\n"
     ]
    }
   ],
   "source": [
    "#Example\n",
    "#Print all key names in the dictionary, one by one:\n",
    "\n",
    "thisdict = {\n",
    "          \"brand\": \"Ford\",\n",
    "          \"model\": \"Mustang\",\n",
    "          \"year\": 1964\n",
    "        }\n",
    "\n",
    "for x in thisdict:\n",
    "    print(x)\n",
    "\n",
    "#Example\n",
    "#Print all values in the dictionary, one by one:\n",
    "\n",
    "for x in thisdict:\n",
    "    print(thisdict[x])\n",
    "\n",
    "#Example\n",
    "#You can also use the values() method to return values of a dictionary:\n",
    "\n",
    "for x in thisdict.values():\n",
    "    print(x)\n",
    "\n",
    "#Example\n",
    "#You can use the keys() method to return the keys of a dictionary:\n",
    "\n",
    "for x in thisdict.keys():\n",
    "    print(x)\n",
    "\n",
    "\n",
    "#Example\n",
    "#Loop through both keys and values, by using the items() method:\n",
    "\n",
    "for x, y in thisdict.items():\n",
    "    print(x, y)"
   ]
  },
  {
   "cell_type": "markdown",
   "id": "2b699498-4256-41ad-8445-e74ffc9d681e",
   "metadata": {},
   "source": [
    "### Copy Dictionaris\n",
    "\n",
    "* You cannot copy a dictionary simply by typing dict2 = dict1, because: dict2 will only be a reference to dict1,\n",
    "   and changes made in dict1 will automatically also be made in dict2\n",
    "*   There are ways to make a copy, one way is to use the built-in Dictionary method copy()."
   ]
  },
  {
   "cell_type": "code",
   "execution_count": 23,
   "id": "7b923166-2111-4e8e-9c6e-3e5abe7bc830",
   "metadata": {
    "tags": []
   },
   "outputs": [
    {
     "name": "stdout",
     "output_type": "stream",
     "text": [
      "{'brand': 'Ford', 'model': 'Mustang', 'year': 1964}\n",
      "{'brand': 'Ford', 'model': 'Mustang', 'year': 1964}\n"
     ]
    }
   ],
   "source": [
    "#Make a copy of a dictionary with the copy() method:\n",
    "\n",
    "thisdict = {\n",
    "\"brand\": \"Ford\",\n",
    "\"model\": \"Mustang\",\n",
    "\"year\": 1964\n",
    "}\n",
    "\n",
    "mydict = thisdict.copy()\n",
    "print(mydict)\n",
    "\n",
    "#Another way to make a copy is to use the built-in function dict().\n",
    "#Example\n",
    "#Make a copy of a dictionary with the dict() function:\n",
    "\n",
    "thisdict = {\n",
    "\"brand\": \"Ford\",\n",
    "\"model\": \"Mustang\",\n",
    "\"year\": 1964\n",
    "}\n",
    "mydict = dict(thisdict)\n",
    "print(mydict)"
   ]
  },
  {
   "cell_type": "markdown",
   "id": "423dbc30-cbf8-4e20-8390-0a19fa1e607c",
   "metadata": {},
   "source": [
    "### Nested Dictionaries\n",
    "\n",
    "* A dictionary can contain dictionaries, this is called nested dictionaries"
   ]
  },
  {
   "cell_type": "code",
   "execution_count": 25,
   "id": "7941d57b-58b2-4bfb-9e3c-176332d16085",
   "metadata": {},
   "outputs": [],
   "source": [
    "#Create a dictionary that contain three dictionaries:\n",
    "\n",
    "myfamily = {\n",
    "\"child1\" : {\n",
    "            \"name\" : \"Emil\",\n",
    "            \"year\" : 2004\n",
    "            },\n",
    "\"child2\" : {\n",
    "        \"name\" : \"Tobias\",\n",
    "        \"year\" : 2007\n",
    "        },\n",
    "\"child3\" : {\n",
    "        \"name\" : \"Linus\",\n",
    "        \"year\" : 2011\n",
    "        }\n",
    "}\n",
    "\n",
    "#Or, if you want to add three dictionaries into a new dictionary:\n",
    "#Example\n",
    "#Create three dictionaries, then create one dictionary that will contain the other three dictionaries:\n",
    "\n",
    "child1 = {\n",
    "\"name\" : \"Emil\",\n",
    "\"year\" : 2004\n",
    "}\n",
    "child2 = {\n",
    "\"name\" : \"Tobias\",\n",
    "\"year\" : 2007\n",
    "}\n",
    "child3 = {\n",
    "\"name\" : \"Linus\",\n",
    "\"year\" : 2011\n",
    "}\n",
    "\n",
    "myfamily = {\n",
    "\"child1\" : child1,\n",
    "\"child2\" : child2,\n",
    "\"child3\" : child3\n",
    "}\n"
   ]
  }
 ],
 "metadata": {
  "kernelspec": {
   "display_name": "Python 3 (ipykernel)",
   "language": "python",
   "name": "python3"
  },
  "language_info": {
   "codemirror_mode": {
    "name": "ipython",
    "version": 3
   },
   "file_extension": ".py",
   "mimetype": "text/x-python",
   "name": "python",
   "nbconvert_exporter": "python",
   "pygments_lexer": "ipython3",
   "version": "3.10.11"
  }
 },
 "nbformat": 4,
 "nbformat_minor": 5
}
