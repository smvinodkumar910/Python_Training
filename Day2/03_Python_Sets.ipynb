{
 "cells": [
  {
   "cell_type": "markdown",
   "id": "26bcb07c-3d34-4b22-b7d6-576c6312bda8",
   "metadata": {},
   "source": [
    "## Python Sets\n",
    "\n",
    "* Sets are used to store multiple items in a single variable.\n",
    "* A set is a collection which is unordered, unchangeable*, and unindexed.\n",
    "*  Note: Set items are unchangeable, but you can remove items and add new items\n",
    "*   Sets are written with curly brackets."
   ]
  },
  {
   "cell_type": "code",
   "execution_count": 3,
   "id": "c4775350-a7fd-4e2e-9c19-0ca5e861f7f7",
   "metadata": {
    "tags": []
   },
   "outputs": [
    {
     "name": "stdout",
     "output_type": "stream",
     "text": [
      "{'banana', 'cherry', 'apple'}\n"
     ]
    }
   ],
   "source": [
    "thisset = {\"apple\", \"banana\", \"cherry\"}\n",
    "print(thisset) "
   ]
  },
  {
   "cell_type": "markdown",
   "id": "cb03ad99-b54a-4417-8d31-a40923603352",
   "metadata": {},
   "source": [
    "### Set Properties"
   ]
  },
  {
   "cell_type": "code",
   "execution_count": 8,
   "id": "1f5a94f9-46d8-49cf-b764-0614cc0c78ad",
   "metadata": {
    "tags": []
   },
   "outputs": [
    {
     "name": "stdout",
     "output_type": "stream",
     "text": [
      "{'banana', 'cherry', 'apple'}\n",
      "3\n",
      "<class 'set'>\n",
      "{'country', 'city'}\n"
     ]
    }
   ],
   "source": [
    "\n",
    "# Set items are unordered, unchangeable, and do not allow duplicate values.\n",
    "\n",
    "#Unordered\n",
    "\n",
    "#Unordered means that the items in a set do not have a defined order.\n",
    "#Set items can appear in a different order every time you use them,\n",
    "#and cannot be referred to by index or key.\n",
    "\n",
    "#Unchangeable\n",
    "#Set items are unchangeable, meaning that we cannot change the items after the set has been created.\n",
    "\n",
    "#*Once a set is created, you cannot change its items, but you can remove items and add new items.\n",
    "\n",
    "#Duplicates Not Allowed\n",
    "#Sets cannot have two items with the same value.\n",
    "#Duplicate values will be ignored:\n",
    "\n",
    "thisset = {\"apple\", \"banana\", \"cherry\", \"apple\"}\n",
    "print(thisset)\n",
    "\n",
    "#Get the Length of a Set:\n",
    "#To determine how many items a set has, use the len() function.\n",
    "\n",
    "#Example\n",
    "#Get the number of items in a set:\n",
    "thisset = {\"apple\", \"banana\", \"cherry\"}\n",
    "print(len(thisset))\n",
    "\n",
    "#Set Items - Data Types\n",
    "#Set items can be of any data type:\n",
    "\n",
    "set1 = {\"apple\", \"banana\", \"cherry\"}\n",
    "set2 = {1, 5, 7, 9, 3}\n",
    "set3 = {True, False, False}\n",
    "\n",
    "#A set can contain different data types:\n",
    "#Example\n",
    "#A set with strings, integers and boolean values:\n",
    "set1 = {\"abc\", 34, True, 40, \"male\"}\n",
    "\n",
    "#type()\n",
    "#From Python's perspective, sets are defined as objects with the data type 'set':\n",
    "#<class 'set'>\n",
    "\n",
    "myset = {\"apple\", \"banana\", \"cherry\"}\n",
    "print(type(myset))\n",
    "\n",
    "#The set() Constructor:\n",
    "#It is also possible to use the set() constructor to make a set.\n",
    "\n",
    "#Example\n",
    "x = ['country','country','city']\n",
    "thisset = set(x) # note the double round-brackets\n",
    "print(thisset)\n"
   ]
  },
  {
   "cell_type": "markdown",
   "id": "450ca51f-5840-4f0f-8730-416cf9ea936d",
   "metadata": {},
   "source": [
    "### Access Set Items\n",
    "\n",
    "* You cannot access items in a set by referring to an index or a key.\n",
    "*  But you can loop through the set items using a for loop,   or ask if a specified value is present in a set, by using the in keyword."
   ]
  },
  {
   "cell_type": "code",
   "execution_count": 9,
   "id": "ed31f660-54a0-4cb9-a864-de46872dee4d",
   "metadata": {
    "tags": []
   },
   "outputs": [
    {
     "name": "stdout",
     "output_type": "stream",
     "text": [
      "banana\n",
      "cherry\n",
      "apple\n",
      "True\n"
     ]
    }
   ],
   "source": [
    "# Loop through the set, and print the values:\n",
    "\n",
    "thisset = {\"apple\", \"banana\", \"cherry\"}\n",
    "\n",
    "for x in thisset:\n",
    "    print(x)\n",
    "\n",
    "\n",
    "#Check if \"banana\" is present in the set:\n",
    "\n",
    "thisset = {\"apple\", \"banana\", \"cherry\"}\n",
    "\n",
    "print(\"banana\" in thisset)"
   ]
  },
  {
   "cell_type": "markdown",
   "id": "f9a57637-913b-4317-bfe6-5c9d2588aa02",
   "metadata": {},
   "source": [
    "### Change Items\n",
    "\n",
    "* Once a set is created, you cannot change its items, but you can add new items."
   ]
  },
  {
   "cell_type": "markdown",
   "id": "665f0601-d108-40d9-856b-a7d65ee94bfc",
   "metadata": {},
   "source": [
    "### Add Items\n",
    "\n",
    "* Once a set is created, you cannot change its items, but you can add new items."
   ]
  },
  {
   "cell_type": "code",
   "execution_count": 10,
   "id": "bdadc095-bf1c-48f1-bec7-0c84578b0de6",
   "metadata": {
    "tags": []
   },
   "outputs": [
    {
     "name": "stdout",
     "output_type": "stream",
     "text": [
      "{'banana', 'cherry', 'apple', 'orange'}\n",
      "{'papaya', 'mango', 'apple', 'pineapple', 'banana', 'cherry'}\n",
      "{'apple', 'orange', 'banana', 'kiwi', 'cherry'}\n"
     ]
    }
   ],
   "source": [
    "#To add one item to a set use the add() method.\n",
    "\n",
    "#Example\n",
    "#Add an item to a set, using the add() method:\n",
    "\n",
    "thisset = {\"apple\", \"banana\", \"cherry\"}\n",
    "thisset.add(\"orange\")\n",
    "print(thisset)\n",
    "\n",
    "\n",
    "#Add Sets\n",
    "#To add items from another set into the current set, use the update() method.\n",
    "\n",
    "#Example\n",
    "#Add elements from tropical into thisset:\n",
    "\n",
    "thisset = {\"apple\", \"banana\", \"cherry\"}\n",
    "tropical = {\"pineapple\", \"mango\", \"papaya\"}\n",
    "thisset.update(tropical)\n",
    "print(thisset)\n",
    "\n",
    "#Add Any Iterable\n",
    "#The object in the update() method does not have to be a set, it can be any iterable object (tuples, lists, dictionaries etc.).\n",
    "\n",
    "#Example\n",
    "#Add elements of a list to at set:\n",
    "\n",
    "thisset = {\"apple\", \"banana\", \"cherry\"}\n",
    "mylist = [\"kiwi\", \"orange\"]\n",
    "thisset.update(mylist)\n",
    "print(thisset)"
   ]
  },
  {
   "cell_type": "markdown",
   "id": "a6e31545-cb78-4afc-abef-727ebbcdc880",
   "metadata": {},
   "source": [
    "### Remove Set Items\n",
    "\n",
    "* To remove an item in a set, use the remove(), or the discard() method."
   ]
  },
  {
   "cell_type": "code",
   "execution_count": 14,
   "id": "95e4e443-9829-4515-818a-f9e1715e4c13",
   "metadata": {
    "tags": []
   },
   "outputs": [
    {
     "name": "stdout",
     "output_type": "stream",
     "text": [
      "{'cherry', 'apple'}\n",
      "{'cherry', 'apple'}\n",
      "banana\n",
      "{'cherry', 'apple'}\n",
      "set()\n"
     ]
    },
    {
     "ename": "NameError",
     "evalue": "name 'thisset' is not defined",
     "output_type": "error",
     "traceback": [
      "\u001b[1;31m---------------------------------------------------------------------------\u001b[0m",
      "\u001b[1;31mNameError\u001b[0m                                 Traceback (most recent call last)",
      "Cell \u001b[1;32mIn[14], line 45\u001b[0m\n\u001b[0;32m     43\u001b[0m thisset \u001b[38;5;241m=\u001b[39m {\u001b[38;5;124m\"\u001b[39m\u001b[38;5;124mapple\u001b[39m\u001b[38;5;124m\"\u001b[39m, \u001b[38;5;124m\"\u001b[39m\u001b[38;5;124mbanana\u001b[39m\u001b[38;5;124m\"\u001b[39m, \u001b[38;5;124m\"\u001b[39m\u001b[38;5;124mcherry\u001b[39m\u001b[38;5;124m\"\u001b[39m}\n\u001b[0;32m     44\u001b[0m \u001b[38;5;28;01mdel\u001b[39;00m thisset\n\u001b[1;32m---> 45\u001b[0m \u001b[38;5;28mprint\u001b[39m(thisset)\n",
      "\u001b[1;31mNameError\u001b[0m: name 'thisset' is not defined"
     ]
    }
   ],
   "source": [
    "\n",
    "#Remove \"banana\" by using the remove() method:\n",
    "\n",
    "thisset = {\"apple\", \"banana\", \"cherry\"}\n",
    "thisset.remove(\"banana\")\n",
    "print(thisset)\n",
    "#Note: If the item to remove does not exist, remove() will raise an error.\n",
    "\n",
    "#Example\n",
    "#Remove \"banana\" by using the discard() method:\n",
    "\n",
    "thisset = {\"apple\", \"banana\", \"cherry\"}\n",
    "thisset.discard(\"banana\")\n",
    "print(thisset)\n",
    "#Note: If the item to remove does not exist, discard() will NOT raise an error.\n",
    "    \n",
    "\n",
    "#You can also use the pop() method to remove an item, but this method will remove the last item.\n",
    "#Remember that sets are unordered, so you will not know what item that gets removed.\n",
    "#The return value of the pop() method is the removed item.\n",
    "\n",
    "#Example\n",
    "#Remove the last item by using the pop() method:\n",
    "\n",
    "thisset = {\"apple\", \"banana\", \"cherry\"}\n",
    "\n",
    "x = thisset.pop()\n",
    "print(x)\n",
    "print(thisset)\n",
    "#Note: Sets are unordered, so when using the pop() method, you do not know which item that gets removed.\n",
    "\n",
    "#Example\n",
    "#The clear() method empties the set:\n",
    "\n",
    "thisset = {\"apple\", \"banana\", \"cherry\"}\n",
    "thisset.clear()\n",
    "print(thisset)\n",
    "\n",
    "\n",
    "#The del keyword will delete the set completely:\n",
    "#Example\n",
    "#The del keyword will delete the set completely:\n",
    "\n",
    "thisset = {\"apple\", \"banana\", \"cherry\"}\n",
    "del thisset\n",
    "print(thisset)"
   ]
  },
  {
   "cell_type": "markdown",
   "id": "6d93ce66-681c-4571-b697-69e2481638c1",
   "metadata": {},
   "source": [
    "### Loop Sets\n",
    "\n",
    "* You can loop through the set items by using a for loop"
   ]
  },
  {
   "cell_type": "code",
   "execution_count": 15,
   "id": "d5bfdd6e-0d04-459b-8e14-f0680a319294",
   "metadata": {
    "tags": []
   },
   "outputs": [
    {
     "name": "stdout",
     "output_type": "stream",
     "text": [
      "banana\n",
      "cherry\n",
      "apple\n"
     ]
    }
   ],
   "source": [
    "thisset = {\"apple\", \"banana\", \"cherry\"}\n",
    "\n",
    "for x in thisset:\n",
    "    print(x)"
   ]
  },
  {
   "cell_type": "markdown",
   "id": "bc2df0f6-4a5a-4729-8477-6baa466e6109",
   "metadata": {},
   "source": [
    "### Join Sets"
   ]
  },
  {
   "cell_type": "code",
   "execution_count": 20,
   "id": "4cf6f731-3475-4049-84dc-013f46473c7f",
   "metadata": {
    "tags": []
   },
   "outputs": [
    {
     "name": "stdout",
     "output_type": "stream",
     "text": [
      "{'c', 1, 'a', 2, 3, 'b'}\n",
      "{'c', 1, 'a', 2, 3, 'b'}\n",
      "{'apple'}\n",
      "{'apple'}\n",
      "{'google', 'banana', 'microsoft', 'cherry'}\n",
      "{'google', 'banana', 'microsoft', 'cherry'}\n"
     ]
    }
   ],
   "source": [
    "\n",
    "#There are several ways to join two or more sets in Python.\n",
    "\n",
    "#You can use the union() method that returns a new set containing all items from both sets, \n",
    "#or the update() method that inserts all the items from one set into another:\n",
    "\n",
    "#Example\n",
    "#The union() method returns a new set with all items from both sets:\n",
    "\n",
    "set1 = {\"a\", \"b\" , \"c\"}\n",
    "set2 = {1, 2, 3}\n",
    "\n",
    "set3 = set1.union(set2)\n",
    "print(set3)\n",
    "\n",
    "#Example\n",
    "#The update() method inserts the items in set2 into set1:\n",
    "\n",
    "set1 = {\"a\", \"b\" , \"c\"}\n",
    "set2 = {1, 2, 3, \"a\"}\n",
    "\n",
    "set1.update(set2)\n",
    "print(set1)                   \n",
    "#Note: Both union() and update() will exclude any duplicate items.\n",
    "\n",
    "#Keep ONLY the Duplicates\n",
    "#The intersection_update() method will keep only the items that are present in both sets.\n",
    "\n",
    "#Example\n",
    "#Keep the items that exist in both set x, and set y:\n",
    "\n",
    "x = {\"apple\", \"banana\", \"cherry\"}\n",
    "y = {\"google\", \"microsoft\", \"apple\"}\n",
    "\n",
    "x.intersection_update(y)\n",
    "\n",
    "print(x)\n",
    "\n",
    "#The intersection() method will return a new set, that only contains the items that are present in both sets.\n",
    "#Example\n",
    "#Return a set that contains the items that exist in both set x, and set y:\n",
    "\n",
    "x = {\"apple\", \"banana\", \"cherry\"}\n",
    "y = {\"google\", \"microsoft\", \"apple\"}\n",
    "\n",
    "z = x.intersection(y)\n",
    "\n",
    "print(z)\n",
    "\n",
    "#Keep All, But NOT the Duplicates\n",
    "#The symmetric_difference_update() method will keep only the elements that are NOT present in both sets.\n",
    "\n",
    "#Example\n",
    "#Keep the items that are not present in both sets:\n",
    "\n",
    "x = {\"apple\", \"banana\", \"cherry\"}\n",
    "y = {\"google\", \"microsoft\", \"apple\"}\n",
    "\n",
    "x.symmetric_difference_update(y)\n",
    "\n",
    "print(x)\n",
    "\n",
    "#The symmetric_difference() method will return a new set, \n",
    "#that contains only the elements that are NOT present in both sets.\n",
    "\n",
    "#Example\n",
    "#Return a set that contains all items from both sets, except items that are present in both:\n",
    "\n",
    "x = {\"apple\", \"banana\", \"cherry\"}\n",
    "y = {\"google\", \"microsoft\", \"apple\"}\n",
    "\n",
    "z = x.symmetric_difference(y)\n",
    "\n",
    "print(z)"
   ]
  }
 ],
 "metadata": {
  "kernelspec": {
   "display_name": "Python 3 (ipykernel)",
   "language": "python",
   "name": "python3"
  },
  "language_info": {
   "codemirror_mode": {
    "name": "ipython",
    "version": 3
   },
   "file_extension": ".py",
   "mimetype": "text/x-python",
   "name": "python",
   "nbconvert_exporter": "python",
   "pygments_lexer": "ipython3",
   "version": "3.10.11"
  }
 },
 "nbformat": 4,
 "nbformat_minor": 5
}
