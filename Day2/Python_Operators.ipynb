{
 "cells": [
  {
   "cell_type": "markdown",
   "id": "3f617017-7894-4d06-b95c-45e8977a12b7",
   "metadata": {},
   "source": [
    "## Python Operators\n",
    "\n",
    "* Operators are used to perform operations on variables and values.\n",
    "* Python divides the operators in the following groups:\n",
    "  \n",
    "  1. Arithmetic Operators\n",
    "  2. Assignment Operators\n",
    "  3. Comparison Operators\n",
    "  4. Logical Operators\n",
    "  5. Identity Operators\n",
    "  6. Membership Operators\n",
    "  7. Bitwise Operators"
   ]
  },
  {
   "cell_type": "markdown",
   "id": "9aa0d47f-d255-4276-8e5a-9f7d775404e8",
   "metadata": {},
   "source": [
    "### Arithmetic Operators\n",
    "\n",
    "* Arithmetic operators are used with numeric values to perform common mathematical operations:\n",
    "\n",
    "| Operator | Name           |\r\n",
    "|----------|----------------|\r\n",
    "| +        | Addition       |\r\n",
    "| -        | Substraction   |\r\n",
    "| *        | Multiplication |\r\n",
    "| /        | Division       |\r\n",
    "| %        | Modulus        |\r\n",
    "| **       | Exponential    |\r\n",
    "| //       | Floor division |    |"
   ]
  },
  {
   "cell_type": "code",
   "execution_count": 9,
   "id": "c48b8110-ae6b-42da-94e5-4ef08c67c142",
   "metadata": {},
   "outputs": [
    {
     "data": {
      "text/plain": [
       "3"
      ]
     },
     "execution_count": 9,
     "metadata": {},
     "output_type": "execute_result"
    }
   ],
   "source": [
    "# Examples\n",
    "\n",
    "10//3"
   ]
  },
  {
   "cell_type": "markdown",
   "id": "5bfb6aad-072c-4e85-8a60-3b94b27f3091",
   "metadata": {},
   "source": [
    "### Bitwise Operators\n",
    "\n",
    "* Bitwise operators are used to compare (binary) numbers\n",
    "* They are often used in low-level programming, hardware interactions, and for various other tasks where bit-level manipulation is required.\n",
    "\n",
    "| Operator | Name                  | Description                                         |\r\n",
    "|----------|-----------------------|-----------------------------------------------------|\r\n",
    "| &        | AND                   | Sets each bit 1 if both bits are 1                  |\r\n",
    "| \\|       | OR                    | Sets each bit 1 if one of the two bits is 1         |\r\n",
    "| ^        | XOR                   | Sets each bit as 1 if only one of the two bits is 1 |\r\n",
    "| ~        | NOT                   | Inverts all the bits                                |\r\n",
    "| <<       | Zero fill left Shift  | Shift left by pushing zeros from right              |\r\n",
    "| >>       | Zero fill right Shift | Shift right by pushing zeros from left              |"
   ]
  },
  {
   "cell_type": "code",
   "execution_count": 63,
   "id": "f013e08b-33be-4d14-8133-9eb3677c74fb",
   "metadata": {},
   "outputs": [
    {
     "name": "stdout",
     "output_type": "stream",
     "text": [
      "7\n",
      "User has read permission\n"
     ]
    }
   ],
   "source": [
    "#Example of using bitwise operators\n",
    "\n",
    "READ_PERMISSION = 1  # 0001\n",
    "WRITE_PERMISSION = 2  # 0010\n",
    "EXECUTE_PERMISSION = 4  # 0100\n",
    "\n",
    "user_permissions = 0\n",
    "user_permissions |= READ_PERMISSION  # Add read permission\n",
    "user_permissions |= WRITE_PERMISSION  # Add write permission\n",
    "user_permissions |= EXECUTE_PERMISSION  # Add write permission\n",
    "\n",
    "print(user_permissions)\n",
    "# Check if user has read permission\n",
    "if user_permissions & READ_PERMISSION:\n",
    "    print(\"User has read permission\")"
   ]
  },
  {
   "cell_type": "code",
   "execution_count": 67,
   "id": "24c5c41c-823c-41de-a329-deb8a8c991a2",
   "metadata": {},
   "outputs": [
    {
     "name": "stdout",
     "output_type": "stream",
     "text": [
      "8\n",
      "8\n"
     ]
    }
   ],
   "source": [
    "# Right shift by 1 position\n",
    "x = 16  # Binary: 10000\n",
    "y = x >> 1  # Binary: 01000, Decimal: 8\n",
    "print(y)\n",
    "\n",
    "# Right shift by 2 positions\n",
    "x = 32  # Binary: 100000\n",
    "y = x >> 2  # Binary: 001000, Decimal: 8\n",
    "print(y)"
   ]
  },
  {
   "cell_type": "markdown",
   "id": "3102a1e1-07e4-4034-aa1b-b45c783d0aed",
   "metadata": {},
   "source": [
    "### Assignment Operators\n",
    "\n",
    "* Assignment operators are used to assign values to variables.\n",
    "* = is the Assignment operator, which can be used in comination of Arithmetic operators / Bitwise Operators to assign values to variables."
   ]
  },
  {
   "cell_type": "code",
   "execution_count": 19,
   "id": "3e105d05-0fa9-4fa2-bb60-d683987f9dc9",
   "metadata": {},
   "outputs": [
    {
     "name": "stdout",
     "output_type": "stream",
     "text": [
      "1\n"
     ]
    }
   ],
   "source": [
    "x = 2\n",
    "\n",
    "x//=2\n",
    "\n",
    "print(x)"
   ]
  },
  {
   "cell_type": "markdown",
   "id": "c2439451-0c3a-48a5-953a-0a1eb369a26e",
   "metadata": {},
   "source": [
    "### Comparison Operators\n",
    "\n",
    "* Comparison operators are used to compare two values\n",
    "\n",
    "| Operator | Name                  |\r\n",
    "|----------|-----------------------|\r\n",
    "| ==       | Equal                 |\r\n",
    "| !        | Not Equal             |\r\n",
    "| >        | Greater Than          |\r\n",
    "| <        | Less Than             |\r\n",
    "| >=       | Greater than or Equal |\r\n",
    "| <=       | Less than or Equal    |"
   ]
  },
  {
   "cell_type": "code",
   "execution_count": 23,
   "id": "b3ef00a5-b42c-4d7f-abd8-55aa6d76d546",
   "metadata": {},
   "outputs": [
    {
     "data": {
      "text/plain": [
       "False"
      ]
     },
     "execution_count": 23,
     "metadata": {},
     "output_type": "execute_result"
    }
   ],
   "source": [
    "x = 10\n",
    "y = 2\n",
    "x < y"
   ]
  },
  {
   "cell_type": "markdown",
   "id": "77111d22-1e00-411f-ae10-d88958480047",
   "metadata": {},
   "source": [
    "### Logical Operators\n",
    "\n",
    "* Logical operators are used to combine conditional statements\n",
    "\n",
    "| Operator | Name                                              |\r\n",
    "|----------|---------------------------------------------------|\r\n",
    "| and      | Returns True if all conditinos are True           |\r\n",
    "| or       | Returns True if any one of the conditions is True |\r\n",
    "| not      | Reverse the resulet                               |"
   ]
  },
  {
   "cell_type": "code",
   "execution_count": 24,
   "id": "8a459503-c7f6-4bff-a985-484dfdcfc2be",
   "metadata": {},
   "outputs": [
    {
     "data": {
      "text/plain": [
       "True"
      ]
     },
     "execution_count": 24,
     "metadata": {},
     "output_type": "execute_result"
    }
   ],
   "source": [
    "x < 5 and  x < 10\n",
    "\n",
    "x < 5 or x < 4\n",
    "\n",
    "not(x < 5 and x < 10)"
   ]
  },
  {
   "cell_type": "markdown",
   "id": "9bcf5a07-f3d9-4ec2-9d75-7259e0c10716",
   "metadata": {},
   "source": [
    "### Identity Operator\n",
    "\n",
    "* Identity operators are used to compare the objects, not if they are equal, but if they are actually the same object, with the same memory location.\n",
    "\n",
    "| Operator | Name                                                       |\r\n",
    "|----------|------------------------------------------------------------|\r\n",
    "| is       | Returns true if both variables are the same object         |\r\n",
    "| is not   | Returns True if both the variables are not the same object |"
   ]
  },
  {
   "cell_type": "code",
   "execution_count": 70,
   "id": "94ccaa21-922a-4b6e-97d4-174c8c96cc95",
   "metadata": {},
   "outputs": [
    {
     "name": "stdout",
     "output_type": "stream",
     "text": [
      "False\n",
      "2080331923984\n",
      "2080331923984\n"
     ]
    }
   ],
   "source": [
    "\n",
    "x = 10\n",
    "y = 10\n",
    "\n",
    "print(x is not y)\n",
    "#x+=1\n",
    "print(id(y))\n",
    "print(id(x))\n",
    "\n",
    "# The copy() and deepcopy() functions in Python are used to create copies of objects. \n",
    "# The copy() function creates a shallow copy of an object, while the deepcopy() function creates a deep copy."
   ]
  },
  {
   "cell_type": "markdown",
   "id": "16b87d4a-1c85-437a-8183-c4aa9a72944d",
   "metadata": {},
   "source": [
    "### Membership Operator\n",
    "\n",
    "* Membership operators are used to test if a sequence is presented in an object\n",
    "\n",
    "| Operator | Name                                                                           |\r\n",
    "|----------|--------------------------------------------------------------------------------|\r\n",
    "| in       | Returns true if Sequence with the specified value is present in the object     |\r\n",
    "| is not   | Returns true if Sequence with the specified value is not present in the object |"
   ]
  },
  {
   "cell_type": "code",
   "execution_count": 53,
   "id": "892e55e2-5392-43cb-88f2-d196db80f354",
   "metadata": {},
   "outputs": [
    {
     "name": "stdout",
     "output_type": "stream",
     "text": [
      "True\n"
     ]
    }
   ],
   "source": [
    "# String check\n",
    "\n",
    "x = \"hellow\"\n",
    "y = \" hellow world!\"\n",
    "\n",
    "if x in y:\n",
    "    print(True)"
   ]
  },
  {
   "cell_type": "markdown",
   "id": "08ff9bc7-735c-4e3b-80ed-bb8a40715f65",
   "metadata": {},
   "source": [
    "### Operator Precedence\n",
    "\n",
    "* Operator precedence describes the order in which operations are performed\n",
    "\n",
    "  \n",
    "|Operators|Description|\r\n",
    "|--------|-------------|\r\n",
    "|()|Parentheses|\r\n",
    "|**|Exponentiation|\r\n",
    "|+x  -x  ~x|Unary plus, unary minus, and bitwise NOT|\r\n",
    "|*  /  //  %|Multiplication, division, floor division, and modulus|\r\n",
    "|+  -|Addition and subtraction|\r\n",
    "|<<  >>|Bitwise left and right shifts|\r\n",
    "|&|Bitwise AND|\r\n",
    "|^|Bitwise XOR|\r\n",
    "|||Bitwise OR|\r\n",
    "|==  !=  >  >=  <  <=  is  is not  in  not in |Comparisons, identity, and membership operators|\r\n",
    "|not|Logical NOT|\r\n",
    "|and|AND|\r\n",
    "|or|OR|\tAND\t\r\n",
    "or\tOR"
   ]
  },
  {
   "cell_type": "code",
   "execution_count": 69,
   "id": "1a7f409a-2511-4560-9cd5-7c7e7b39a889",
   "metadata": {},
   "outputs": [
    {
     "name": "stdout",
     "output_type": "stream",
     "text": [
      "0\n",
      "115\n"
     ]
    }
   ],
   "source": [
    "print((6 + 3) - (6 + 3))\n",
    "\n",
    "print(100 + 5 * 3)"
   ]
  }
 ],
 "metadata": {
  "kernelspec": {
   "display_name": "Python 3 (ipykernel)",
   "language": "python",
   "name": "python3"
  },
  "language_info": {
   "codemirror_mode": {
    "name": "ipython",
    "version": 3
   },
   "file_extension": ".py",
   "mimetype": "text/x-python",
   "name": "python",
   "nbconvert_exporter": "python",
   "pygments_lexer": "ipython3",
   "version": "3.10.11"
  }
 },
 "nbformat": 4,
 "nbformat_minor": 5
}
