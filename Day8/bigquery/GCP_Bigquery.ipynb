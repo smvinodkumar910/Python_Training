{
 "cells": [
  {
   "cell_type": "markdown",
   "id": "120a67fa-a983-47c9-93aa-45cd52bfdb87",
   "metadata": {},
   "source": [
    "## Bigquery\n",
    "\n",
    "* BigQuery is a fully managed data warehouse that helps you manage and analyze your data with built-in features like machine learning, geospatial analysis, and business intelligence.\n",
    "* BigQuery is a serverless and cost-effective data warehouse that works across clouds and scales with your data.\n",
    "* Developers and data scientists can use client libraries with familiar programming including Python, Java, JavaScript, and Go, as well as BigQuery's REST API and RPC API to transform and manage data."
   ]
  },
  {
   "cell_type": "code",
   "execution_count": 2,
   "id": "a69b6e29",
   "metadata": {},
   "outputs": [],
   "source": [
    "# Install google-cloud-bigquery client library for python\n",
    "#pip install google-cloud-bigquery\n",
    "\n",
    "# install google CLI \n",
    "# Authenticate using ur id\n",
    "# gcloud auth application-default login"
   ]
  },
  {
   "cell_type": "markdown",
   "id": "397f7f12",
   "metadata": {},
   "source": [
    "https://cloud.google.com/bigquery/docs/samples/?language=python\n",
    "\n",
    "https://github.com/GoogleCloudPlatform/python-docs-samples"
   ]
  }
 ],
 "metadata": {
  "kernelspec": {
   "display_name": "Python 3 (ipykernel)",
   "language": "python",
   "name": "python3"
  },
  "language_info": {
   "codemirror_mode": {
    "name": "ipython",
    "version": 3
   },
   "file_extension": ".py",
   "mimetype": "text/x-python",
   "name": "python",
   "nbconvert_exporter": "python",
   "pygments_lexer": "ipython3",
   "version": "3.10.11"
  }
 },
 "nbformat": 4,
 "nbformat_minor": 5
}
