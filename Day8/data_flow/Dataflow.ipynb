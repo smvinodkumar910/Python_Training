{
 "cells": [
  {
   "cell_type": "markdown",
   "metadata": {},
   "source": [
    "## Dataflow\n",
    "\n",
    "* Dataflow is a Google Cloud service that provides unified stream and batch data processing at scale. Use Dataflow to create data pipelines that read from one or more sources, transform the data, and write the data to a destination.\n",
    "* Typical use cases for Dataflow include the following:\n",
    "* Data movement: Ingesting data or replicating data across subsystems.\n",
    "* ETL (extract-transform-load) workflows that ingest data into a data warehouse such as BigQuery.\n",
    "* Built with Apache Beam SDK.\n",
    "\n",
    "https://beam.apache.org/documentation/programming-guide/\n",
    "\n",
    "https://cloud.google.com/dataflow/docs/concepts/beam-programming-model?hl=en\n",
    "\n",
    "https://drive.google.com/drive/folders/1L5WxS5ptjHUfwOpcD0jlITsqbWS9VgoS"
   ]
  }
 ],
 "metadata": {
  "kernelspec": {
   "display_name": "Python 3 (ipykernel)",
   "language": "python",
   "name": "python3"
  },
  "language_info": {
   "codemirror_mode": {
    "name": "ipython",
    "version": 3
   },
   "file_extension": ".py",
   "mimetype": "text/x-python",
   "name": "python",
   "nbconvert_exporter": "python",
   "pygments_lexer": "ipython3",
   "version": "3.10.11"
  }
 },
 "nbformat": 4,
 "nbformat_minor": 4
}
