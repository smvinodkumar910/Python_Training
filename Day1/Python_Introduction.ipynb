{
 "cells": [
  {
   "cell_type": "markdown",
   "id": "1a89091b-3333-40e0-af26-39f88d5cf061",
   "metadata": {
    "tags": []
   },
   "source": [
    "# Python for Data Engineering\n",
    "\n",
    "# Introduction\n",
    "\n",
    "* Python is a very popular general-purpose interpreted, interactive, object-oriented, and high-level programming language.<br>\n",
    "* Python supports multiple programming paradigms, including Procedural, Object Oriented and Functional programming language.<br>\n",
    "\n",
    "## Applications\n",
    "\n",
    " 1. web applications\n",
    " 2. softwares / applications\n",
    " 3. Automate server side operations/maintenance\n",
    " 4. work with Data Science, AI, and ML technologies\n",
    " \n",
    "\n",
    "## Environment Setup\n",
    "\n",
    "Step 1: Download python for windows https://www.python.org/downloads/ or go to Windows Store and search for python to install. \\\n",
    "Step 2: Download Install your IDE : Visual Studio Code - https://code.visualstudio.com/download \\\n",
    "\n",
    "## Executing Python code\n",
    "\n",
    "1. Executing python in command prompt.\n",
    "2. Executing python code by storing in the .py file.\n",
    "\n",
    "## Python Syntax\n",
    "\n",
    "**Indentation :**\n",
    "* Python uses indentation to indicate a block of code.\n",
    "* Python will give you an error if you skip the indentation.\n",
    "* use the same number of spaces in the same block of code\n",
    "* There is no ; required \n",
    "\n",
    "**Comments :**\n",
    "* Single line comments\n",
    "* Multi line comments"
   ]
  },
  {
   "cell_type": "code",
   "execution_count": 9,
   "id": "a0ca8817",
   "metadata": {},
   "outputs": [
    {
     "ename": "IndentationError",
     "evalue": "unexpected indent (1818258538.py, line 4)",
     "output_type": "error",
     "traceback": [
      "\u001b[1;36m  Cell \u001b[1;32mIn[9], line 4\u001b[1;36m\u001b[0m\n\u001b[1;33m    print(\"next line\")\u001b[0m\n\u001b[1;37m    ^\u001b[0m\n\u001b[1;31mIndentationError\u001b[0m\u001b[1;31m:\u001b[0m unexpected indent\n"
     ]
    }
   ],
   "source": [
    "print(\"hellow world!\")\n",
    "if 5>2:\n",
    "    print(\"Five is greater\")\n",
    "    print(\"next line\")\n",
    "\n",
    "# This is single line comment\n",
    "\n",
    "#Multi line comment starts\n",
    "#Line 2\n",
    "\n",
    "\"\"\"\n",
    "This is a comment\n",
    "written in\n",
    "more than just one line\n",
    "\"\"\""
   ]
  }
 ],
 "metadata": {
  "kernelspec": {
   "display_name": "Python 3 (ipykernel)",
   "language": "python",
   "name": "python3"
  },
  "language_info": {
   "codemirror_mode": {
    "name": "ipython",
    "version": 3
   },
   "file_extension": ".py",
   "mimetype": "text/x-python",
   "name": "python",
   "nbconvert_exporter": "python",
   "pygments_lexer": "ipython3",
   "version": "3.10.11"
  }
 },
 "nbformat": 4,
 "nbformat_minor": 5
}
