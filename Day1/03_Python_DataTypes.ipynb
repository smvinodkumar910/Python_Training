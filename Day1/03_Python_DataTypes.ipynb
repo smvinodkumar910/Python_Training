{
 "cells": [
  {
   "cell_type": "markdown",
   "id": "5c46b94e-c408-4396-9203-0e69f721a9dd",
   "metadata": {},
   "source": [
    "# Python DataTypes\n",
    "\n",
    "## Built-in Data Types:\n",
    "\n",
    "* Python has the following data types built-in by default, in these categories:\n",
    "\n",
    "    |Category|data type|\n",
    "    |--------|---------|\n",
    "    |Text Type|str|\n",
    "    |Numeric Types|int, float, complex|\n",
    "    |Sequence Types|list, tuple, range|\n",
    "    |Mapping Type|dict|\n",
    "    |Set Types|set, frozenset|\n",
    "    |Boolean Type|bool|\n",
    "    |Binary Types|bytes, bytearray, memoryview|\n",
    "    |None Type|NoneType|\n"
   ]
  },
  {
   "cell_type": "markdown",
   "id": "f07e6d66",
   "metadata": {},
   "source": [
    "## Creating different data type of variables"
   ]
  },
  {
   "cell_type": "code",
   "execution_count": 1,
   "id": "110f1e4a",
   "metadata": {},
   "outputs": [],
   "source": [
    "x = \"Hello World\"\t#str\t\n",
    "x = 20\t#int\t\n",
    "x = 20.5\t#float\t\n",
    "x = 1j\t#complex\t\n",
    "x = [\"apple\", \"banana\", \"cherry\"]\t#list\t\n",
    "x = (\"apple\", \"banana\", \"cherry\")\t#tuple\t\n",
    "x = range(6)\t#range\t\n",
    "x = {\"name\" : \"John\", \"age\" : 36}\t#dict\t\n",
    "x = {\"apple\", \"banana\", \"cherry\"}\t#set\t\n",
    "x = frozenset({\"apple\", \"banana\", \"cherry\"})\t#frozenset\t\n",
    "x = True\t#bool\t\n",
    "x = b\"Hello\"\t#bytes\t\n",
    "x = bytearray(5)\t#bytearray\t\n",
    "x = memoryview(bytes(5))\t#memoryview\t\n",
    "x = None\t#NoneType\n"
   ]
  },
  {
   "cell_type": "markdown",
   "id": "ae3b0514",
   "metadata": {},
   "source": [
    "## Creating different types of variables with constructor"
   ]
  },
  {
   "cell_type": "code",
   "execution_count": 2,
   "id": "1519cc87",
   "metadata": {},
   "outputs": [],
   "source": [
    "x = str(\"Hello World\")\t#str\t\n",
    "x = int(20)\t#int\t\n",
    "x = float(20.5)\t#float\t\n",
    "x = complex(1j)\t#complex\t\n",
    "x = list((\"apple\", \"banana\", \"cherry\"))\t#list\t\n",
    "x = tuple((\"apple\", \"banana\", \"cherry\"))\t#tuple\t\n",
    "x = range(6)\t#range\t\n",
    "x = dict(name=\"John\", age=36)\t#dict\t\n",
    "x = set((\"apple\", \"banana\", \"cherry\"))\t#set\t\n",
    "x = frozenset({\"apple\", \"banana\", \"cherry\"})\t#frozenset\t\n",
    "x = bool(5)\t#bool\t\n",
    "x = bytes(5)\t#bytes\t\n",
    "x = bytearray(5)\t#bytearray\t\n",
    "x = memoryview(bytes(5))\t#memoryview\t"
   ]
  },
  {
   "cell_type": "markdown",
   "id": "c703cf98",
   "metadata": {},
   "source": [
    "## Casting in Pyton\n",
    "\n",
    "* Sometime we need to specify a type on to a variable or to convert from one data type to another.\n",
    "* This can be done with casting. \n",
    "* Python is an object-orientated language, and as such it uses classes to define data types, including its primitive types.\n",
    "\n",
    "1. **int()** - constructs an integer number from an integer literal, a float literal (by removing all decimals), or a string literal (providing the string represents a whole number)\n",
    "2. **float()** - constructs a float number from an integer literal, a float literal or a string literal (providing the string represents a float or an integer)\n",
    "3. **str()** - constructs a string from a wide variety of data types, including strings, integer literals and float literals"
   ]
  },
  {
   "cell_type": "code",
   "execution_count": 5,
   "id": "d04eb852",
   "metadata": {},
   "outputs": [
    {
     "name": "stdout",
     "output_type": "stream",
     "text": [
      "2\n"
     ]
    }
   ],
   "source": [
    "x = int(1)   # x will be 1\n",
    "y = int(2.8) # y will be 2\n",
    "z = int(\"3\") # z will be 3\n",
    "\n",
    "print(y)\n",
    "\n",
    "x = float(1)     # x will be 1.0\n",
    "y = float(2.8)   # y will be 2.8\n",
    "z = float(\"3\")   # z will be 3.0\n",
    "w = float(\"4.2\") # w will be 4.2\n",
    "\n",
    "x = str(\"s1\") # x will be 's1'\n",
    "y = str(2)    # y will be '2'\n",
    "z = str(3.0)  # z will be '3.0'"
   ]
  },
  {
   "cell_type": "code",
   "execution_count": 6,
   "id": "87752e8b",
   "metadata": {},
   "outputs": [
    {
     "name": "stdout",
     "output_type": "stream",
     "text": [
      "['I', 'N', 'D', 'I', 'A']\n"
     ]
    }
   ],
   "source": [
    "x = list('INDIA')\n",
    "print(x)\n"
   ]
  }
 ],
 "metadata": {
  "kernelspec": {
   "display_name": "Python 3 (ipykernel)",
   "language": "python",
   "name": "python3"
  },
  "language_info": {
   "codemirror_mode": {
    "name": "ipython",
    "version": 3
   },
   "file_extension": ".py",
   "mimetype": "text/x-python",
   "name": "python",
   "nbconvert_exporter": "python",
   "pygments_lexer": "ipython3",
   "version": "3.10.11"
  }
 },
 "nbformat": 4,
 "nbformat_minor": 5
}
