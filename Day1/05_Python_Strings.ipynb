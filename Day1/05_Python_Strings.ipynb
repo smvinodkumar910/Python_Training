{
 "cells": [
  {
   "cell_type": "markdown",
   "metadata": {},
   "source": [
    "## Python Strings\n",
    "\n",
    "* Intro to String\n",
    "* Basic operations on String\n",
    "* Slicing Strings\n",
    "* Modify Strings\n",
    "* Concatenate Strings\n",
    "* Format Strings\n",
    "* Escape Characters\n",
    "* String Methods"
   ]
  },
  {
   "cell_type": "markdown",
   "metadata": {},
   "source": [
    "### String Basics"
   ]
  },
  {
   "cell_type": "code",
   "execution_count": 2,
   "metadata": {},
   "outputs": [],
   "source": [
    "# String in python can be represented inside \"\" or '' \n",
    "\n",
    "a = \"COUNTRY\"\n",
    "a = 'COUNTRY'\n",
    "#Both are same"
   ]
  },
  {
   "cell_type": "code",
   "execution_count": 2,
   "metadata": {},
   "outputs": [
    {
     "name": "stdout",
     "output_type": "stream",
     "text": [
      "Lorem ipsum dolor sit amet,\n",
      "consectetur adipiscing elit,\n",
      "sed do eiusmod tempor incididunt\n",
      "ut labore et dolore magna aliqua.\n"
     ]
    }
   ],
   "source": [
    "#Multiline Strings:\n",
    "\n",
    "#You can assign a multiline string to a variable by using three quotes:\n",
    "#You can use three double quotes Or three single quotes:\n",
    "\n",
    "a = \"\"\"Lorem ipsum dolor sit amet,\n",
    "consectetur adipiscing elit,\n",
    "sed do eiusmod tempor incididunt\n",
    "ut labore et dolore magna aliqua.\"\"\"\n",
    "print(a)\n"
   ]
  },
  {
   "cell_type": "code",
   "execution_count": 3,
   "metadata": {},
   "outputs": [
    {
     "name": "stdout",
     "output_type": "stream",
     "text": [
      "H\n",
      "b\n",
      "a\n",
      "n\n",
      "a\n",
      "n\n",
      "a\n"
     ]
    }
   ],
   "source": [
    "# Strings are Arrays:\n",
    "\n",
    "# Like many other popular programming languages, strings in Python are arrays of bytes representing \n",
    "# unicode characters.\n",
    "\n",
    "# However, Python does not have a character data type, a single character is simply a string \n",
    "# with a length of 1.\n",
    "\n",
    "# Square brackets can be used to access elements of the string, like accessing an Array\n",
    "\n",
    "#Get the character at position 1 (remember that the first character has the position 0):\n",
    "a = \"Hello, World!\"\n",
    "print(a[0])\n",
    "\n",
    "#Looping Through a String:\n",
    "#Loop through the letters in the word \"banana\":\n",
    "for x in \"banana\":\n",
    "    print(x)"
   ]
  },
  {
   "cell_type": "markdown",
   "metadata": {},
   "source": [
    "### Basic operations on String\n",
    "\n",
    "* using len() function with String\n",
    "* using \"in\" keyword operator\n",
    "* using \"not in\" keyword operator"
   ]
  },
  {
   "cell_type": "code",
   "execution_count": 5,
   "metadata": {},
   "outputs": [
    {
     "name": "stdout",
     "output_type": "stream",
     "text": [
      "13\n",
      "True\n",
      "Yes, 'free' is present.\n",
      "True\n",
      "No, 'expensive' is NOT present.\n"
     ]
    }
   ],
   "source": [
    "# The len() function returns the length of a string:\n",
    "a = \"Hello, World!\"\n",
    "print(len(a))\n",
    "        \n",
    "\n",
    "# Check String:\n",
    "txt = \"The best things in life are free!\"\n",
    "print(\"free\" in txt)\n",
    "\n",
    "\n",
    "#Use it in an if statement:\n",
    "txt = \"The best things in life are free!\"\n",
    "if \"free\" in txt:\n",
    "    print(\"Yes, 'free' is present.\")\n",
    "        \n",
    "\n",
    "#Check if NOT:\n",
    "#Check if \"expensive\" is NOT present in the following text:\n",
    "txt = \"The best things in life are free!\"\n",
    "print(\"expensive\" not in txt)\n",
    "    \n",
    "#print only if \"expensive\" is NOT present:\n",
    "txt = \"The best things in life are free!\"\n",
    "if \"expensive\" not in txt:\n",
    "    print(\"No, 'expensive' is NOT present.\")"
   ]
  },
  {
   "cell_type": "markdown",
   "metadata": {},
   "source": [
    "### Slicing Strings"
   ]
  },
  {
   "cell_type": "code",
   "execution_count": 4,
   "metadata": {},
   "outputs": [
    {
     "name": "stdout",
     "output_type": "stream",
     "text": [
      "llo\n",
      "Hello\n",
      "llo, World!\n",
      "orl\n",
      "!dlroW ,olleH\n"
     ]
    }
   ],
   "source": [
    "\n",
    "#You can return a range of characters by using the slice syntax.\n",
    "#Specify the start index and the end index, separated by a colon, \n",
    "#to return a part of the string.\n",
    "\n",
    "# [start:stop:step] \n",
    "'''\n",
    "STRING\n",
    "012345\n",
    "-6-5-4-3-2-1\n",
    "'''\n",
    "\n",
    "#Get the characters from position 2 to position 5 (not included):\n",
    "b = \"Hello, World!\"\n",
    "print(b[2:5])\n",
    "    \n",
    "#Slice From the Start:\n",
    "b = \"Hello, World!\"\n",
    "print(b[:5])\n",
    "\n",
    "#Slice To the End:\n",
    "b = \"Hello, World!\"\n",
    "print(b[2:])\n",
    "\n",
    "#Negative Indexing:\n",
    "#Get the characters From: \"o\" in \"World!\" (position -5)\n",
    "#To, but not included: \"d\" in \"World!\" (position -2):\n",
    "\n",
    "b = \"Hello, World!\"\n",
    "print(b[-5:-2])\n",
    "\n",
    "\n",
    "#Reverse the string\n",
    "print(b[::-1])"
   ]
  },
  {
   "cell_type": "markdown",
   "metadata": {},
   "source": [
    "### Modify Strings\n",
    "\n",
    "* Upper()\n",
    "* lower()\n",
    "* strip()\n",
    "* replace()\n",
    "* split()"
   ]
  },
  {
   "cell_type": "code",
   "execution_count": 6,
   "metadata": {},
   "outputs": [
    {
     "name": "stdout",
     "output_type": "stream",
     "text": [
      "HELLO, WORLD!\n",
      "hello, world!\n",
      "Hello, World!\n",
      "Jello, World!\n",
      "['Hello', ' World!']\n",
      "['Hello,', 'World!']\n"
     ]
    }
   ],
   "source": [
    "#Python has a set of built-in methods that you can use on strings.\n",
    "#Upper Case:\n",
    "#The upper() method returns the string in upper case:\n",
    "a = \"Hello, World!\"\n",
    "print(a.upper())\n",
    "\n",
    "#Lower Case:\n",
    "#The lower() method returns the string in lower case:\n",
    "a = \"Hello, World!\"\n",
    "print(a.lower())\n",
    "\n",
    "#Remove Whitespace: like trim() in Excel\n",
    "#Whitespace is the space before and/or after the actual text, and very often you \n",
    "# want to remove this space.\n",
    "#The strip() method removes any whitespace from the beginning or the end:\n",
    "a = \" Hello, World! \"\n",
    "print(a.strip()) # returns \"Hello, World!\"\n",
    "\n",
    "#Replace String:\n",
    "#The replace() method replaces a string with another string:\n",
    "a = \"Hello, World!\"\n",
    "print(a.replace(\"H\", \"J\"))\n",
    "\n",
    "#Split String:\n",
    "#The split() method returns a list where the text between the specified separator becomes the list items.\n",
    "#The split() method splits the string into substrings if it finds instances of the separator:\n",
    "a = \"Hello, World!\"\n",
    "print(a.split(\",\")) # returns ['Hello', ' World!']\n",
    "\n",
    "print(a.split())\n"
   ]
  },
  {
   "cell_type": "markdown",
   "metadata": {},
   "source": [
    "### Concatenate Strings"
   ]
  },
  {
   "cell_type": "code",
   "execution_count": 7,
   "metadata": {},
   "outputs": [
    {
     "name": "stdout",
     "output_type": "stream",
     "text": [
      "HelloWorld\n",
      "Hello World\n"
     ]
    }
   ],
   "source": [
    "#To concatenate, or combine, two strings you can use the + operator.\n",
    "    \n",
    "#Merge variable a with variable b into variable c:\n",
    "a = \"Hello\"\n",
    "b = \"World\"\n",
    "c = a + b\n",
    "print(c)\n",
    "\n",
    "#To add a space between them, add a \" \":\n",
    "a = \"Hello\"\n",
    "b = \"World\"\n",
    "c = a + \" \" + b\n",
    "print(c)"
   ]
  },
  {
   "cell_type": "markdown",
   "metadata": {},
   "source": [
    "### String Format\n",
    "\n",
    "* Using format() function with String\n",
    "* Using format() function with placeholders {}.\n",
    "* Format string with % placeholder"
   ]
  },
  {
   "cell_type": "code",
   "execution_count": 11,
   "metadata": {},
   "outputs": [
    {
     "name": "stdout",
     "output_type": "stream",
     "text": [
      "My name is John, and I am 36\n",
      "I want 3 pieces of item 567 for 49.95 dollars.\n",
      "I want to pay 49.95 dollars for 3 pieces of item 567.\n",
      "age of John is 5\n",
      "num = 1.45\n",
      "2010-07-04 12:15:58\n"
     ]
    },
    {
     "data": {
      "text/plain": [
       "'10-Sunday-04 12:15:58'"
      ]
     },
     "execution_count": 11,
     "metadata": {},
     "output_type": "execute_result"
    }
   ],
   "source": [
    "\n",
    "#As we learned in the Python Variables chapter, we cannot combine strings and numbers like this:\n",
    "#age = 36\n",
    "#txt = \"My name is John, I am \" + age\n",
    "#print(txt)\n",
    "\n",
    "#But we can combine strings and numbers by using the format() method!\n",
    "#The format() method takes the passed arguments, formats them, and places them in the string where the placeholders {} are:\n",
    "#Use the format() method to insert numbers into strings:\n",
    "\n",
    "age = 36\n",
    "txt = \"My name is John, and I am {}\"\n",
    "print(txt.format(age))\n",
    "\n",
    "#The format() method takes unlimited number of arguments, and are placed into the \n",
    "# respective placeholders:\n",
    "\n",
    "quantity = 3\n",
    "itemno = 567\n",
    "price = 49.95\n",
    "myorder = \"I want {} pieces of item {} for {} dollars.\"\n",
    "print(myorder.format(quantity, itemno, price))\n",
    "\n",
    "#You can use index numbers {0} to be sure the arguments are placed in the correct placeholders:\n",
    "quantity = 3\n",
    "itemno = 567\n",
    "price = 49.95\n",
    "myorder = \"I want to pay {2} dollars for {0} pieces of item {1}.\"\n",
    "print(myorder.format(quantity, itemno, price))\n",
    "\n",
    "\n",
    "\n",
    "#Using placeholders {} and format()\n",
    "x = 5\n",
    "y = \"John\"\n",
    "print(\"age of {name} is {age}\".format(name=y, age=x))\n",
    "\n",
    "\n",
    "# Usng format strings\n",
    "z = \"num = {:.2f}\".format(1.45234524)\n",
    "print(z)\n",
    "\n",
    "import datetime\n",
    "d = datetime.datetime(2010, 7, 4, 12, 15, 58)\n",
    "print(d)\n",
    "'{:%Y-%m-%d %H:%M:%S}'.format(d)\n",
    "\n",
    "'{:%y-%A-%d %H:%M:%S}'.format(d)\n",
    "\n"
   ]
  },
  {
   "cell_type": "markdown",
   "metadata": {},
   "source": [
    "https://docs.python.org/3/library/datetime.html"
   ]
  },
  {
   "cell_type": "markdown",
   "metadata": {},
   "source": [
    "### Python Escape Characters\n",
    "\n",
    "* To insert characters that are illegal in a string, use an escape character.\n",
    "* An escape character is a backslash \\ followed by the character you want to insert."
   ]
  },
  {
   "cell_type": "code",
   "execution_count": 13,
   "metadata": {},
   "outputs": [
    {
     "name": "stdout",
     "output_type": "stream",
     "text": [
      "We are the so-called \"Vikings\" from \n",
      " the north.\n"
     ]
    }
   ],
   "source": [
    "#You will get an error if you use double quotes inside a string that is surrounded by double quotes:\n",
    "\n",
    "#txt = \"We are the so-called \"Vikings\" from the north.\"\n",
    "\n",
    "#To fix this problem, use the escape character \\\":\n",
    "#The escape character allows you to use double quotes when you normally would not be allowed:\n",
    "txt = \"We are the so-called \\\"Vikings\\\" from \\n the north.\"\n",
    "print(txt)\n",
    "            "
   ]
  },
  {
   "cell_type": "markdown",
   "metadata": {},
   "source": [
    "Other escape characters used in Python: <br>\n",
    "    \\\\'\tSingle Quote\t<br>\n",
    "    \\\\\\\tBackslash\t<br>\n",
    "    \\n\tNew Line\t<br>\n",
    "    \\r\tCarriage Return\t<br>\n",
    "    \\t\tTab\t<br>"
   ]
  }
 ],
 "metadata": {
  "kernelspec": {
   "display_name": "Python 3 (ipykernel)",
   "language": "python",
   "name": "python3"
  },
  "language_info": {
   "codemirror_mode": {
    "name": "ipython",
    "version": 3
   },
   "file_extension": ".py",
   "mimetype": "text/x-python",
   "name": "python",
   "nbconvert_exporter": "python",
   "pygments_lexer": "ipython3",
   "version": "3.10.11"
  }
 },
 "nbformat": 4,
 "nbformat_minor": 4
}
