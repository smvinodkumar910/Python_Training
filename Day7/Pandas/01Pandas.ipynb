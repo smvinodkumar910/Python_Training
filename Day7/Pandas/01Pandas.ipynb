{
 "cells": [
  {
   "cell_type": "markdown",
   "id": "f4da4272-b447-4cc9-805e-355f5b7545a4",
   "metadata": {},
   "source": [
    "## Pandas\n",
    "\n",
    "* Pandas is a Python library used for working with data sets.\n",
    "* It has functions for analyzing, cleaning, exploring, and manipulating data."
   ]
  },
  {
   "cell_type": "code",
   "execution_count": 4,
   "id": "b707dd41-f3e0-4a47-aeab-75fd13bf268a",
   "metadata": {
    "tags": []
   },
   "outputs": [
    {
     "name": "stdout",
     "output_type": "stream",
     "text": [
      "    cars  passings\n",
      "0    BMW         3\n",
      "1  Volvo         7\n",
      "2   Ford         2\n"
     ]
    }
   ],
   "source": [
    "import pandas\n",
    "\n",
    "mydataset = {\n",
    "  'cars': [\"BMW\", \"Volvo\", \"Ford\"],\n",
    "  'passings': [3, 7, 2]\n",
    "}\n",
    "\n",
    "myvar = pandas.DataFrame(mydataset)\n",
    "\n",
    "print(myvar)"
   ]
  },
  {
   "cell_type": "markdown",
   "id": "d4c96984-7435-4593-b780-9b4b472dee2a",
   "metadata": {},
   "source": [
    "### Pandas Series\n",
    "\n",
    "* A Pandas Series is like a column in a table.\n",
    "* It is a one-dimensional array holding data of any type"
   ]
  },
  {
   "cell_type": "code",
   "execution_count": 5,
   "id": "1e84edff-4196-466f-9594-9030763dc79b",
   "metadata": {
    "tags": []
   },
   "outputs": [
    {
     "name": "stdout",
     "output_type": "stream",
     "text": [
      "0    1\n",
      "1    7\n",
      "2    2\n",
      "dtype: int64\n"
     ]
    }
   ],
   "source": [
    "import pandas as pd\n",
    "\n",
    "a = [1, 7, 2]\n",
    "\n",
    "myvar = pd.Series(a)\n",
    "\n",
    "print(myvar)"
   ]
  },
  {
   "cell_type": "markdown",
   "id": "994929a4-ae39-4cbc-8403-0d6c23a6c5f1",
   "metadata": {
    "tags": []
   },
   "source": [
    "#### Labels\n",
    "\n",
    "* If nothing else is specified, the values are labeled with their index number. \n",
    "* First value has index 0, second value has index 1 etc.\n",
    "* This label can be used to access a specified value."
   ]
  },
  {
   "cell_type": "code",
   "execution_count": 2,
   "id": "a23f4f61-c0a3-4515-9091-5fce3cd9b47d",
   "metadata": {
    "tags": []
   },
   "outputs": [
    {
     "name": "stdout",
     "output_type": "stream",
     "text": [
      "1\n"
     ]
    }
   ],
   "source": [
    "print(myvar[0])"
   ]
  },
  {
   "cell_type": "code",
   "execution_count": 6,
   "id": "898eff84-a26e-4845-bfb6-1f973a6b2ebf",
   "metadata": {
    "tags": []
   },
   "outputs": [
    {
     "name": "stdout",
     "output_type": "stream",
     "text": [
      "x    1\n",
      "y    7\n",
      "z    2\n",
      "dtype: int64\n",
      "1\n"
     ]
    }
   ],
   "source": [
    "import pandas as pd\n",
    "\n",
    "a = [1, 7, 2]\n",
    "\n",
    "myvar = pd.Series(a, index = [\"x\", \"y\", \"z\"])\n",
    "\n",
    "print(myvar)\n",
    "\n",
    "print(myvar['x'])"
   ]
  },
  {
   "cell_type": "markdown",
   "id": "7ed22e3a-8ec2-418b-a1f9-81f7d1a44878",
   "metadata": {},
   "source": [
    "### Key/Value Objects as Series"
   ]
  },
  {
   "cell_type": "code",
   "execution_count": 7,
   "id": "b0d919af-4635-48a1-9a56-2feacbff3b7e",
   "metadata": {
    "tags": []
   },
   "outputs": [
    {
     "name": "stdout",
     "output_type": "stream",
     "text": [
      "day1    420\n",
      "day2    380\n",
      "day3    390\n",
      "dtype: int64\n"
     ]
    }
   ],
   "source": [
    "#Create a simple Pandas Series from a dictionary\n",
    "\n",
    "import pandas as pd\n",
    "\n",
    "calories = {\"day1\": 420, \"day2\": 380, \"day3\": 390}\n",
    "\n",
    "myvar = pd.Series(calories)\n",
    "\n",
    "print(myvar)"
   ]
  },
  {
   "cell_type": "code",
   "execution_count": 8,
   "id": "2d02b639-f45f-43d4-8da1-4b74cc8ec1ed",
   "metadata": {
    "tags": []
   },
   "outputs": [
    {
     "name": "stdout",
     "output_type": "stream",
     "text": [
      "day1    420\n",
      "day2    380\n",
      "dtype: int64\n"
     ]
    }
   ],
   "source": [
    "import pandas as pd\n",
    "\n",
    "calories = {\"day1\": 420, \"day2\": 380, \"day3\": 390}\n",
    "\n",
    "myvar = pd.Series(calories, index = [\"day1\", \"day2\"])\n",
    "\n",
    "print(myvar)"
   ]
  },
  {
   "cell_type": "markdown",
   "id": "aaf26142-437f-4018-92a0-36d2633ecab2",
   "metadata": {},
   "source": [
    "### Pandas Dataframe\n",
    "\n",
    "* Data sets in Pandas are usually multi-dimensional tables, called DataFrames.\n",
    "* Series is like a column, a DataFrame is the whole table.\n",
    "* A Pandas DataFrame is a 2 dimensional data structure, like a 2 dimensional array, or a table with rows and columns."
   ]
  },
  {
   "cell_type": "code",
   "execution_count": 9,
   "id": "413ed099-22fc-4a17-8709-5a7c5776cb98",
   "metadata": {
    "tags": []
   },
   "outputs": [
    {
     "name": "stdout",
     "output_type": "stream",
     "text": [
      "<class 'dict'>\n",
      "   calories  duration\n",
      "0       420        50\n",
      "1       380        40\n",
      "2       390        45\n"
     ]
    }
   ],
   "source": [
    "import pandas as pd\n",
    "\n",
    "data = {\n",
    "  \"calories\": [420, 380, 390],\n",
    "  \"duration\": [50, 40, 45]\n",
    "}\n",
    "\n",
    "print(type(data))\n",
    "\n",
    "myvar = pd.DataFrame(data)\n",
    "\n",
    "print(myvar)"
   ]
  }
 ],
 "metadata": {
  "kernelspec": {
   "display_name": "Python 3 (ipykernel)",
   "language": "python",
   "name": "python3"
  },
  "language_info": {
   "codemirror_mode": {
    "name": "ipython",
    "version": 3
   },
   "file_extension": ".py",
   "mimetype": "text/x-python",
   "name": "python",
   "nbconvert_exporter": "python",
   "pygments_lexer": "ipython3",
   "version": "3.10.11"
  }
 },
 "nbformat": 4,
 "nbformat_minor": 5
}
