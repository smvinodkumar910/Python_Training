{
 "cells": [
  {
   "cell_type": "markdown",
   "id": "8858c788-4fbb-47da-bfb2-12effb382b03",
   "metadata": {},
   "source": [
    "## Numpy Split Arrays\n",
    "\n",
    "* Splitting is reverse operation of Joining.\n",
    "* Joining merges multiple arrays into one and Splitting breaks one array into multiple.\n",
    "* We use array_split() for splitting arrays, we pass it the array we want to split and the number of splits."
   ]
  },
  {
   "cell_type": "markdown",
   "id": "aa46ccd0-38a6-448a-8f2d-4cb8b1c00c6b",
   "metadata": {},
   "source": [
    "### Splitting 1D Arrays"
   ]
  },
  {
   "cell_type": "code",
   "execution_count": 16,
   "id": "ef4ed006-3247-4031-960b-38707fbd1991",
   "metadata": {
    "tags": []
   },
   "outputs": [
    {
     "name": "stdout",
     "output_type": "stream",
     "text": [
      "[array([1, 2]), array([3, 4]), array([5, 6])]\n",
      "[5 6]\n"
     ]
    }
   ],
   "source": [
    "import numpy as np\n",
    "\n",
    "arr = np.array([1, 2, 3, 4, 5, 6])\n",
    "\n",
    "newarr = np.array_split(arr, 3)\n",
    "\n",
    "print(newarr)\n",
    "\n",
    "#The return value of the array_split() method is an array containing each of the split as an array.\n",
    "#If you split an array into 3 arrays, you can access them from the result just like any array element:\n",
    "print(newarr[2])"
   ]
  },
  {
   "cell_type": "code",
   "execution_count": 18,
   "id": "7e683134-5acb-4d97-9d92-abd6d7a0acf0",
   "metadata": {
    "tags": []
   },
   "outputs": [
    {
     "name": "stdout",
     "output_type": "stream",
     "text": [
      "[array([1, 2]), array([3, 4]), array([5]), array([6])]\n"
     ]
    }
   ],
   "source": [
    "# If the array has less elements than required, it will adjust from the end accordingly.\n",
    "\n",
    "import numpy as np\n",
    "\n",
    "arr = np.array([1, 2, 3, 4, 5, 6])\n",
    "\n",
    "newarr = np.array_split(arr, 4)\n",
    "\n",
    "print(newarr)\n",
    "\n",
    "# Note: We also have the method split() available but it will not adjust the elements when elements are less in source array \n",
    "# for splitting like in example above, array_split() worked properly but split() would fail."
   ]
  },
  {
   "cell_type": "markdown",
   "id": "6e575c5b-42fc-4a1f-a138-509deecd9eea",
   "metadata": {},
   "source": [
    "### Splitting 2D Arrays"
   ]
  },
  {
   "cell_type": "code",
   "execution_count": 5,
   "id": "515db2ca-bd8e-418f-8157-a54ac470f02e",
   "metadata": {
    "tags": []
   },
   "outputs": [
    {
     "name": "stdout",
     "output_type": "stream",
     "text": [
      "[array([[1, 2, 3],\n",
      "       [4, 5, 6]]), array([[ 7,  8,  9],\n",
      "       [10, 11, 12]]), array([[13, 14, 15],\n",
      "       [16, 17, 18]])]\n"
     ]
    }
   ],
   "source": [
    "import numpy as np\n",
    "\n",
    "arr1 = np.array([[1, 2], \n",
    "                 [3, 4], \n",
    "                 [5, 6], \n",
    "                 [7, 8], \n",
    "                 [9, 10], \n",
    "                 [11, 12]])\n",
    "\n",
    "arr2 = np.array([[1, 2, 3], \n",
    "                [4, 5, 6], \n",
    "                [7, 8, 9], \n",
    "                [10, 11, 12], \n",
    "                [13, 14, 15], \n",
    "                [16, 17, 18]])\n",
    "\n",
    "\n",
    "newarr = np.array_split(arr2, 3)\n",
    "\n",
    "print(newarr)"
   ]
  },
  {
   "cell_type": "code",
   "execution_count": 12,
   "id": "2a680a16-dea3-4e3c-995f-a95d8ddeb741",
   "metadata": {
    "tags": []
   },
   "outputs": [
    {
     "name": "stdout",
     "output_type": "stream",
     "text": [
      "[array([[1, 2, 3],\n",
      "       [4, 5, 6]]), array([[ 7,  8,  9],\n",
      "       [10, 11, 12]]), array([[13, 14, 15],\n",
      "       [16, 17, 18]])]\n"
     ]
    }
   ],
   "source": [
    "# In addition, you can specify which axis you want to do the split around.\n",
    "# The example below also returns three 2-D arrays, but they are split along  (axis=1).\n",
    "\n",
    "import numpy as np\n",
    "\n",
    "arr = np.array([[1, 2, 3], \n",
    "                [4, 5, 6], \n",
    "                [7, 8, 9], \n",
    "                [10, 11, 12], \n",
    "                [13, 14, 15], \n",
    "                [16, 17, 18]])\n",
    "\n",
    "newarr = np.array_split(arr, 3, axis=0)\n",
    "\n",
    "print(newarr)"
   ]
  },
  {
   "cell_type": "code",
   "execution_count": 19,
   "id": "b52cbb5b-8ec7-4bb0-812b-c59315e18737",
   "metadata": {
    "tags": []
   },
   "outputs": [
    {
     "name": "stdout",
     "output_type": "stream",
     "text": [
      "[[ 1  2  3]\n",
      " [ 4  5  6]\n",
      " [ 7  8  9]\n",
      " [10 11 12]\n",
      " [13 14 15]\n",
      " [16 17 18]]\n",
      "[array([[1, 2, 3],\n",
      "       [4, 5, 6]]), array([[ 7,  8,  9],\n",
      "       [10, 11, 12]]), array([[13, 14, 15],\n",
      "       [16, 17, 18]])]\n"
     ]
    }
   ],
   "source": [
    "#hsplit() / vsplit()\n",
    "import numpy as np\n",
    "\n",
    "arr = np.array([[1, 2, 3], [4, 5, 6], [7, 8, 9], [10, 11, 12], [13, 14, 15], [16, 17, 18]])\n",
    "\n",
    "print(arr)\n",
    "#newarr = np.hsplit(arr, 3)\n",
    "newarr = np.vsplit(arr, 3)\n",
    "\n",
    "\n",
    "print(newarr)"
   ]
  }
 ],
 "metadata": {
  "kernelspec": {
   "display_name": "Python 3 (ipykernel)",
   "language": "python",
   "name": "python3"
  },
  "language_info": {
   "codemirror_mode": {
    "name": "ipython",
    "version": 3
   },
   "file_extension": ".py",
   "mimetype": "text/x-python",
   "name": "python",
   "nbconvert_exporter": "python",
   "pygments_lexer": "ipython3",
   "version": "3.10.11"
  }
 },
 "nbformat": 4,
 "nbformat_minor": 5
}
