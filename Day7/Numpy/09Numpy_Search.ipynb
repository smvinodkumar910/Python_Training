{
 "cells": [
  {
   "cell_type": "markdown",
   "id": "099c829c-efda-4a89-8bda-7837a07b263e",
   "metadata": {},
   "source": [
    "## Numpy Searching\n",
    "\n",
    "* You can search an array for a certain value, and return the indexes that get a match.\n",
    "* To search an array, use the where() method."
   ]
  },
  {
   "cell_type": "code",
   "execution_count": 15,
   "id": "853a3081-e9a2-4000-845d-b507bf8c877f",
   "metadata": {
    "tags": []
   },
   "outputs": [
    {
     "name": "stdout",
     "output_type": "stream",
     "text": [
      "(array([3, 5, 6], dtype=int64),)\n"
     ]
    }
   ],
   "source": [
    "import numpy as np\n",
    "\n",
    "arr = np.array([1, 2, 3, 4, 5, 4, 4])\n",
    "\n",
    "x = np.where(arr == 4)\n",
    "\n",
    "print(x)\n",
    "\n",
    "#The example above will return a tuple: (array([3, 5, 6],)\n",
    "\n",
    "#Which means that the value 4 is present at index 3, 5, and 6."
   ]
  },
  {
   "cell_type": "code",
   "execution_count": 17,
   "id": "09679903-2e46-4474-b97f-7d7a97258934",
   "metadata": {
    "tags": []
   },
   "outputs": [
    {
     "name": "stdout",
     "output_type": "stream",
     "text": [
      "(array([1, 3, 5, 7], dtype=int64),)\n"
     ]
    }
   ],
   "source": [
    "import numpy as np\n",
    "\n",
    "arr = np.array([1, 2, 3, 4, 5, 6, 7, 8])\n",
    "\n",
    "x = np.where(arr%2 == 0)\n",
    "\n",
    "print(x)"
   ]
  },
  {
   "cell_type": "markdown",
   "id": "8e026edc-dd90-4fd6-b075-bc4b4bb7ed18",
   "metadata": {},
   "source": [
    "### Search Sorted\n",
    "\n",
    "* There is a method called searchsorted() which performs a binary search in the array, and returns the index where the specified value would be inserted to maintain the search order."
   ]
  },
  {
   "cell_type": "code",
   "execution_count": 18,
   "id": "6b4404d1-2bef-42f5-beb4-fe6177ca3c0c",
   "metadata": {
    "tags": []
   },
   "outputs": [
    {
     "name": "stdout",
     "output_type": "stream",
     "text": [
      "4\n"
     ]
    }
   ],
   "source": [
    "#The method starts the search from the left and returns the first index where the number 7 is no longer larger than the next valu\n",
    "\n",
    "import numpy as np\n",
    "\n",
    "arr = np.array([ 6, 8, 9, 5])\n",
    "\n",
    "x = np.searchsorted(arr, 10)\n",
    "\n",
    "print(x)"
   ]
  },
  {
   "cell_type": "code",
   "execution_count": 22,
   "id": "f7a03e7f-0161-4b6c-8a16-0cc5ec085a86",
   "metadata": {
    "tags": []
   },
   "outputs": [
    {
     "name": "stdout",
     "output_type": "stream",
     "text": [
      "2\n"
     ]
    }
   ],
   "source": [
    "# side option can be used if you need to search from right\n",
    "\n",
    "import numpy as np\n",
    "\n",
    "arr = np.array([6, 7, 8, 9, 10])\n",
    "\n",
    "x = np.searchsorted(arr, 7, side='right')\n",
    "\n",
    "print(x)"
   ]
  },
  {
   "cell_type": "markdown",
   "id": "6d4941ce-b87e-4297-bf04-03366f7e96b2",
   "metadata": {
    "tags": []
   },
   "source": [
    "### Multiple Values\n",
    "\n",
    "* To search for more than one value, use an array with the specified values."
   ]
  },
  {
   "cell_type": "code",
   "execution_count": 23,
   "id": "4045a7ec-887a-419a-8880-0c1953c4c11e",
   "metadata": {
    "tags": []
   },
   "outputs": [
    {
     "name": "stdout",
     "output_type": "stream",
     "text": [
      "[1 2 3]\n"
     ]
    }
   ],
   "source": [
    "import numpy as np\n",
    "\n",
    "arr = np.array([1, 3, 5, 7])\n",
    "\n",
    "x = np.searchsorted(arr, [2, 4, 6])\n",
    "\n",
    "print(x)"
   ]
  }
 ],
 "metadata": {
  "kernelspec": {
   "display_name": "Python 3 (ipykernel)",
   "language": "python",
   "name": "python3"
  },
  "language_info": {
   "codemirror_mode": {
    "name": "ipython",
    "version": 3
   },
   "file_extension": ".py",
   "mimetype": "text/x-python",
   "name": "python",
   "nbconvert_exporter": "python",
   "pygments_lexer": "ipython3",
   "version": "3.11.4"
  }
 },
 "nbformat": 4,
 "nbformat_minor": 5
}
