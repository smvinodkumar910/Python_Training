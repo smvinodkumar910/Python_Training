{
 "cells": [
  {
   "cell_type": "markdown",
   "id": "b5232811-77fa-49b7-b9c8-449929ab5c03",
   "metadata": {
    "tags": []
   },
   "source": [
    "## Indexing Numpy Arrays"
   ]
  },
  {
   "cell_type": "code",
   "execution_count": 8,
   "id": "fcab127b-48aa-4fd7-b965-f35c4eae755e",
   "metadata": {
    "tags": []
   },
   "outputs": [],
   "source": [
    "import numpy as np"
   ]
  },
  {
   "cell_type": "markdown",
   "id": "2360e7e0-e523-49a1-a5b7-75a267092b96",
   "metadata": {},
   "source": [
    "### 1-dimentional Arrays"
   ]
  },
  {
   "cell_type": "code",
   "execution_count": 9,
   "id": "3f8f63f0-f0bf-4a36-844c-e7f49fd49ef6",
   "metadata": {
    "tags": []
   },
   "outputs": [
    {
     "name": "stdout",
     "output_type": "stream",
     "text": [
      "3\n"
     ]
    }
   ],
   "source": [
    "#just as with Python lists:\n",
    "x = np.array([5, 0, 3, 3, 7, 9])\n",
    "print(x[2])"
   ]
  },
  {
   "cell_type": "markdown",
   "id": "a67143fd-f1c9-455b-bc74-ee134738a267",
   "metadata": {
    "tags": []
   },
   "source": [
    "### 2-Dimentional Arrays"
   ]
  },
  {
   "cell_type": "code",
   "execution_count": 10,
   "id": "fd45ee20-eb63-4331-99e8-61fc6296bc0b",
   "metadata": {
    "tags": []
   },
   "outputs": [
    {
     "name": "stdout",
     "output_type": "stream",
     "text": [
      "[[10 16  4]\n",
      " [ 7 10 17]\n",
      " [ 1 10 10]]\n"
     ]
    }
   ],
   "source": [
    "x1 = np.random.randint(0,20,(3,3))\n",
    "print(x1)"
   ]
  },
  {
   "cell_type": "code",
   "execution_count": 14,
   "id": "fdecfd79-c813-42f2-8bc0-04ab1bf47dfd",
   "metadata": {
    "tags": []
   },
   "outputs": [
    {
     "data": {
      "text/plain": [
       "17"
      ]
     },
     "execution_count": 14,
     "metadata": {},
     "output_type": "execute_result"
    }
   ],
   "source": [
    "x1[1, 2]"
   ]
  },
  {
   "cell_type": "code",
   "execution_count": 15,
   "id": "6424118b-4230-40db-8045-c1ebe1793f7b",
   "metadata": {
    "tags": []
   },
   "outputs": [
    {
     "data": {
      "text/plain": [
       "array([[10, 16,  4],\n",
       "       [12, 10, 17],\n",
       "       [ 1, 10, 10]])"
      ]
     },
     "execution_count": 15,
     "metadata": {},
     "output_type": "execute_result"
    }
   ],
   "source": [
    "#Assign new value with indexing\n",
    "x1[1, 0] = 12\n",
    "x1"
   ]
  },
  {
   "cell_type": "markdown",
   "id": "fec13940-576d-4b50-ae45-95d9eb5efbe1",
   "metadata": {
    "tags": []
   },
   "source": [
    "### 3-Dimentional Arrays"
   ]
  },
  {
   "cell_type": "code",
   "execution_count": 16,
   "id": "ada4520e-bf81-47de-a22f-4bb1fc88660f",
   "metadata": {
    "tags": []
   },
   "outputs": [
    {
     "name": "stdout",
     "output_type": "stream",
     "text": [
      "[[[11 10]\n",
      "  [15 17]\n",
      "  [ 9  8]\n",
      "  [14 16]]\n",
      "\n",
      " [[ 8  0]\n",
      "  [ 7 10]\n",
      "  [10 15]\n",
      "  [ 5 17]]\n",
      "\n",
      " [[ 8  9]\n",
      "  [15  9]\n",
      "  [ 2 11]\n",
      "  [15 10]]]\n"
     ]
    }
   ],
   "source": [
    "x2 = np.random.randint(0,20,(3,4,2))\n",
    "print(x2)"
   ]
  },
  {
   "cell_type": "code",
   "execution_count": 17,
   "id": "ef981878-104d-4d97-b2a5-f1657eb159ac",
   "metadata": {
    "tags": []
   },
   "outputs": [
    {
     "data": {
      "text/plain": [
       "8"
      ]
     },
     "execution_count": 17,
     "metadata": {},
     "output_type": "execute_result"
    }
   ],
   "source": [
    "x2[0,2,1]"
   ]
  },
  {
   "cell_type": "markdown",
   "id": "5c515977-2d14-447f-998a-fbed7099008b",
   "metadata": {},
   "source": [
    "## Slicing Numpy Arrays"
   ]
  },
  {
   "cell_type": "markdown",
   "id": "c334f7ba-c9dc-4fef-b320-e70da199b1d9",
   "metadata": {
    "tags": []
   },
   "source": [
    "### 1-Dimentional Arrays"
   ]
  },
  {
   "cell_type": "code",
   "execution_count": null,
   "id": "ebb04dcf-6b43-47b4-ae2d-d7ae7dad3a64",
   "metadata": {},
   "outputs": [],
   "source": [
    "#We can use the same syntax used for list\n",
    "# x[start:stop:step]"
   ]
  },
  {
   "cell_type": "code",
   "execution_count": 18,
   "id": "b27924f5-db27-4f51-991b-1d4a6a794e7b",
   "metadata": {
    "tags": []
   },
   "outputs": [
    {
     "data": {
      "text/plain": [
       "array([0, 1, 2, 3, 4, 5, 6, 7, 8, 9])"
      ]
     },
     "execution_count": 18,
     "metadata": {},
     "output_type": "execute_result"
    }
   ],
   "source": [
    "x = np.arange(10)\n",
    "x"
   ]
  },
  {
   "cell_type": "code",
   "execution_count": 31,
   "id": "dd5b50d3-0166-4959-aca5-4480c44507ca",
   "metadata": {
    "tags": []
   },
   "outputs": [
    {
     "data": {
      "text/plain": [
       "array([0, 1, 2, 3, 4])"
      ]
     },
     "execution_count": 31,
     "metadata": {},
     "output_type": "execute_result"
    }
   ],
   "source": [
    "x[:5]  # first five elements"
   ]
  },
  {
   "cell_type": "markdown",
   "id": "52130546-254d-4c08-957b-8240e9860fa6",
   "metadata": {},
   "source": [
    "### 2-Dimentional Arrays"
   ]
  },
  {
   "cell_type": "code",
   "execution_count": 19,
   "id": "7cfe3ae4-b3e8-4f54-b0af-4e87e88430d6",
   "metadata": {
    "tags": []
   },
   "outputs": [
    {
     "name": "stdout",
     "output_type": "stream",
     "text": [
      "[[12 12 17]\n",
      " [ 2 13  3]\n",
      " [18  0 10]]\n"
     ]
    }
   ],
   "source": [
    "x1 = np.random.randint(0,20,(3,3))\n",
    "print(x1)"
   ]
  },
  {
   "cell_type": "code",
   "execution_count": 21,
   "id": "356e69e3-3c30-4d6d-8816-78e94ce8118b",
   "metadata": {
    "tags": []
   },
   "outputs": [
    {
     "data": {
      "text/plain": [
       "array([[12, 12, 17],\n",
       "       [ 2, 13,  3]])"
      ]
     },
     "execution_count": 21,
     "metadata": {},
     "output_type": "execute_result"
    }
   ],
   "source": [
    "x1[:2, :]  # two rows, three columns"
   ]
  },
  {
   "cell_type": "code",
   "execution_count": 23,
   "id": "9a494969-f5ea-498a-a16a-88a592249a4f",
   "metadata": {
    "tags": []
   },
   "outputs": [
    {
     "data": {
      "text/plain": [
       "array([[12, 17],\n",
       "       [ 0, 10]])"
      ]
     },
     "execution_count": 23,
     "metadata": {},
     "output_type": "execute_result"
    }
   ],
   "source": [
    "x1[0::2, 1::]"
   ]
  },
  {
   "cell_type": "code",
   "execution_count": 51,
   "id": "bcfda3bc-b5b6-4dbb-94be-841cc7852365",
   "metadata": {
    "tags": []
   },
   "outputs": [
    {
     "data": {
      "text/plain": [
       "array([ 3, 15,  6])"
      ]
     },
     "execution_count": 51,
     "metadata": {},
     "output_type": "execute_result"
    }
   ],
   "source": [
    "x1[:,0]"
   ]
  },
  {
   "cell_type": "code",
   "execution_count": 25,
   "id": "e3067366-4064-4f94-9fd3-4b2c8ea5bcab",
   "metadata": {
    "tags": []
   },
   "outputs": [
    {
     "data": {
      "text/plain": [
       "array([18,  0, 10])"
      ]
     },
     "execution_count": 25,
     "metadata": {},
     "output_type": "execute_result"
    }
   ],
   "source": [
    "x1[2,:]"
   ]
  },
  {
   "cell_type": "code",
   "execution_count": 57,
   "id": "1eae62f2-de87-4ebf-a06b-70265d3090d7",
   "metadata": {
    "tags": []
   },
   "outputs": [
    {
     "name": "stdout",
     "output_type": "stream",
     "text": [
      "[ 1 42  3  4  5]\n",
      "[1 2 3 4 5]\n"
     ]
    }
   ],
   "source": []
  },
  {
   "cell_type": "code",
   "execution_count": 56,
   "id": "efb55b97-db81-4af1-a2e6-e92122895ccb",
   "metadata": {
    "tags": []
   },
   "outputs": [
    {
     "name": "stdout",
     "output_type": "stream",
     "text": [
      "[42  2  3  4  5]\n",
      "[42  2  3  4  5]\n"
     ]
    }
   ],
   "source": [
    "\n"
   ]
  }
 ],
 "metadata": {
  "kernelspec": {
   "display_name": "Python 3 (ipykernel)",
   "language": "python",
   "name": "python3"
  },
  "language_info": {
   "codemirror_mode": {
    "name": "ipython",
    "version": 3
   },
   "file_extension": ".py",
   "mimetype": "text/x-python",
   "name": "python",
   "nbconvert_exporter": "python",
   "pygments_lexer": "ipython3",
   "version": "3.11.4"
  }
 },
 "nbformat": 4,
 "nbformat_minor": 5
}
