{
 "cells": [
  {
   "cell_type": "markdown",
   "id": "291eb621-4470-4912-afec-80e5629a8d81",
   "metadata": {},
   "source": [
    "https://jakevdp.github.io/PythonDataScienceHandbook/"
   ]
  },
  {
   "cell_type": "markdown",
   "id": "8b17e963-0e08-4bf1-9f27-9ce0c4f2686f",
   "metadata": {},
   "source": [
    "## Numpy\n",
    "\n",
    "* NumPy is a Python library.\n",
    "* NumPy is used for working with arrays.\n",
    "* NumPy is short for \"Numerical Python\".\n",
    "* Lists in Python serve the same purpose as arrays, but they are slower to process.\n",
    "* NumPy strives to provide array objects that are up to 50 times faster than typical Python lists.\n",
    "* The array object in NumPy is named ndarray, and it comes with several helper methods that make working with ndarray.\n",
    "* Arrays are often utilized in data science, where speed and resources are critical."
   ]
  },
  {
   "cell_type": "markdown",
   "id": "8ccedc8e-92b6-4bf7-86e1-fc3f22ecd72f",
   "metadata": {
    "tags": []
   },
   "source": [
    "* NumPy arrays are stored at one continuous place in memory unlike lists, so processes can access and manipulate them very efficiently.\n",
    "* This behavior is called locality of reference in computer science.\n",
    "* This is the main reason why NumPy is faster than lists. Also it is optimized to work with latest CPU architectures."
   ]
  },
  {
   "cell_type": "markdown",
   "id": "71f54cba-9123-4367-b59c-45c8f4501bd2",
   "metadata": {
    "tags": []
   },
   "source": [
    "### Creating Numpy Arrays with List"
   ]
  },
  {
   "cell_type": "code",
   "execution_count": 15,
   "id": "5ea47058-23cc-4b72-84a6-abbd668fe312",
   "metadata": {
    "tags": []
   },
   "outputs": [
    {
     "data": {
      "text/plain": [
       "array([1, 4, 2, 5, 3])"
      ]
     },
     "execution_count": 15,
     "metadata": {},
     "output_type": "execute_result"
    }
   ],
   "source": [
    "import numpy as np\n",
    "\n",
    "# integer array:\n",
    "np.array([1, 4, 2, 5, 3])\n",
    "\n"
   ]
  },
  {
   "cell_type": "code",
   "execution_count": 16,
   "id": "6b7d9deb-a41d-400b-ac7a-e8ca0ec4ff19",
   "metadata": {
    "tags": []
   },
   "outputs": [
    {
     "data": {
      "text/plain": [
       "array([3.14, 4.  , 2.  , 3.  ])"
      ]
     },
     "execution_count": 16,
     "metadata": {},
     "output_type": "execute_result"
    }
   ],
   "source": [
    "\n",
    "#unlike Python lists, NumPy is constrained to arrays that all contain the same type. \n",
    "#If types do not match, NumPy will upcast if possible\n",
    "\n",
    "np.array([3.14, 4, 2, 3])"
   ]
  },
  {
   "cell_type": "code",
   "execution_count": 19,
   "id": "23e50287-668b-459a-ad59-80d3a1f958a3",
   "metadata": {
    "tags": []
   },
   "outputs": [
    {
     "data": {
      "text/plain": [
       "array([3, 2, 3, 4])"
      ]
     },
     "execution_count": 19,
     "metadata": {},
     "output_type": "execute_result"
    }
   ],
   "source": [
    "#If we want to explicitly set the data type of the resulting array, we can use the dtype keyword\n",
    "\n",
    "np.array([3.14, 2, 3, 4], dtype='int')"
   ]
  },
  {
   "cell_type": "code",
   "execution_count": 23,
   "id": "82d60734-e862-496c-9ba6-1660c209c339",
   "metadata": {
    "tags": []
   },
   "outputs": [
    {
     "data": {
      "text/plain": [
       "array([[2, 3, 4],\n",
       "       [4, 5, 6],\n",
       "       [6, 7, 8]])"
      ]
     },
     "execution_count": 23,
     "metadata": {},
     "output_type": "execute_result"
    }
   ],
   "source": [
    "#Finally, unlike Python lists, \n",
    "#NumPy arrays can explicitly be multi-dimensional; \n",
    "#here's one way of initializing a multidimensional array using a list of lists\n",
    "2,5\n",
    "4,7\n",
    "\n",
    "ar = np.array([range(i, i + 3) for i in [2, 4, 6]])\n",
    "\n",
    "\n",
    "ar.ndim\n",
    "ar"
   ]
  },
  {
   "cell_type": "markdown",
   "id": "c7112e61-f600-4b75-8e71-59f34eec8ec6",
   "metadata": {
    "tags": []
   },
   "source": [
    "### Creating Numpy Arrays from Scratch"
   ]
  },
  {
   "cell_type": "code",
   "execution_count": 14,
   "id": "100fc585-e88b-4538-9133-be98f817146a",
   "metadata": {
    "tags": []
   },
   "outputs": [],
   "source": [
    "#Especially for larger arrays, \n",
    "#it is more efficient to create arrays from scratch \n",
    "#using routines built into NumPy. Here are several examples"
   ]
  },
  {
   "cell_type": "code",
   "execution_count": 24,
   "id": "a47c920e-9730-4d37-9a87-2f905c035ed4",
   "metadata": {
    "tags": []
   },
   "outputs": [
    {
     "data": {
      "text/plain": [
       "array([0, 0, 0, 0, 0, 0, 0, 0, 0, 0])"
      ]
     },
     "execution_count": 24,
     "metadata": {},
     "output_type": "execute_result"
    }
   ],
   "source": [
    "np.zeros(10, dtype=int)"
   ]
  },
  {
   "cell_type": "code",
   "execution_count": 7,
   "id": "a6d6a2e5-9818-4841-9fae-4b571487feb5",
   "metadata": {
    "tags": []
   },
   "outputs": [
    {
     "data": {
      "text/plain": [
       "array([[1, 1, 1, 1, 1],\n",
       "       [1, 1, 1, 1, 1],\n",
       "       [1, 1, 1, 1, 1]])"
      ]
     },
     "execution_count": 7,
     "metadata": {},
     "output_type": "execute_result"
    }
   ],
   "source": [
    "np.ones((3, 5), dtype=int)"
   ]
  },
  {
   "cell_type": "code",
   "execution_count": 17,
   "id": "07d09b2f-80e8-48f4-8d91-cc7f33427e17",
   "metadata": {
    "tags": []
   },
   "outputs": [
    {
     "data": {
      "text/plain": [
       "array([[3.14, 3.14, 3.14, 3.14, 3.14],\n",
       "       [3.14, 3.14, 3.14, 3.14, 3.14],\n",
       "       [3.14, 3.14, 3.14, 3.14, 3.14]])"
      ]
     },
     "execution_count": 17,
     "metadata": {},
     "output_type": "execute_result"
    }
   ],
   "source": [
    "np.full((3, 5), 3.14)"
   ]
  },
  {
   "cell_type": "code",
   "execution_count": 25,
   "id": "f8bc9a39-4414-4bd7-bb22-1985dde5cbe3",
   "metadata": {
    "tags": []
   },
   "outputs": [
    {
     "data": {
      "text/plain": [
       "array([ 0,  3,  6,  9, 12, 15, 18])"
      ]
     },
     "execution_count": 25,
     "metadata": {},
     "output_type": "execute_result"
    }
   ],
   "source": [
    "# Create an array filled with a linear sequence\n",
    "# Starting at 0, ending at 20, stepping by 2\n",
    "# (this is similar to the built-in range() function)\n",
    "np.arange(0, 20, 3)"
   ]
  },
  {
   "cell_type": "code",
   "execution_count": 26,
   "id": "77d2533a-b1bc-460a-836a-3b402d9b6055",
   "metadata": {
    "tags": []
   },
   "outputs": [
    {
     "data": {
      "text/plain": [
       "array([  0.        ,  11.11111111,  22.22222222,  33.33333333,\n",
       "        44.44444444,  55.55555556,  66.66666667,  77.77777778,\n",
       "        88.88888889, 100.        ])"
      ]
     },
     "execution_count": 26,
     "metadata": {},
     "output_type": "execute_result"
    }
   ],
   "source": [
    "# Create an array of five values evenly spaced between 0 and 1\n",
    "np.linspace(0, 100, 10)"
   ]
  },
  {
   "cell_type": "code",
   "execution_count": 14,
   "id": "753dbc8a-541a-4edb-964d-2d9cf47acd55",
   "metadata": {
    "tags": []
   },
   "outputs": [
    {
     "data": {
      "text/plain": [
       "array([[0.41339935, 0.3354023 , 0.16427381],\n",
       "       [0.51627815, 0.26013539, 0.35846064],\n",
       "       [0.57670808, 0.25748775, 0.78995719]])"
      ]
     },
     "execution_count": 14,
     "metadata": {},
     "output_type": "execute_result"
    }
   ],
   "source": [
    "# Create a 3x3 array of uniformly distributed\n",
    "# random values between 0 and 1\n",
    "np.random.random((3, 3))\n"
   ]
  },
  {
   "cell_type": "code",
   "execution_count": 27,
   "id": "033f209a-0c4e-4e2f-aed5-4d6f42018e15",
   "metadata": {
    "tags": []
   },
   "outputs": [
    {
     "data": {
      "text/plain": [
       "array([[ 0.38742991, -0.17112274,  0.46926784],\n",
       "       [ 1.93146889,  0.77906277,  0.91966708],\n",
       "       [-0.57982161, -1.25247021,  0.88970938]])"
      ]
     },
     "execution_count": 27,
     "metadata": {},
     "output_type": "execute_result"
    }
   ],
   "source": [
    "# Create a 3x3 array of normally distributed random values\n",
    "# with mean 0 and standard deviation 1\n",
    "np.random.normal(0, 1, (3, 3))"
   ]
  },
  {
   "cell_type": "code",
   "execution_count": 22,
   "id": "fb5ce7c9-277a-497e-90bc-a1f5804b650c",
   "metadata": {
    "tags": []
   },
   "outputs": [
    {
     "data": {
      "text/plain": [
       "array([[2, 1, 7],\n",
       "       [2, 5, 8],\n",
       "       [9, 4, 9]])"
      ]
     },
     "execution_count": 22,
     "metadata": {},
     "output_type": "execute_result"
    }
   ],
   "source": [
    "# Create a 3x3 array of random integers in the interval [0, 10)\n",
    "np.random.randint(0, 10, (3, 3))"
   ]
  },
  {
   "cell_type": "code",
   "execution_count": 28,
   "id": "aea21baa-a3f0-45b6-89f0-f5574baf6a06",
   "metadata": {
    "tags": []
   },
   "outputs": [
    {
     "data": {
      "text/plain": [
       "array([[1., 0., 0.],\n",
       "       [0., 1., 0.],\n",
       "       [0., 0., 1.]])"
      ]
     },
     "execution_count": 28,
     "metadata": {},
     "output_type": "execute_result"
    }
   ],
   "source": [
    "# Create a 3x3 identity matrix\n",
    "np.eye(3)"
   ]
  }
 ],
 "metadata": {
  "kernelspec": {
   "display_name": "Python 3 (ipykernel)",
   "language": "python",
   "name": "python3"
  },
  "language_info": {
   "codemirror_mode": {
    "name": "ipython",
    "version": 3
   },
   "file_extension": ".py",
   "mimetype": "text/x-python",
   "name": "python",
   "nbconvert_exporter": "python",
   "pygments_lexer": "ipython3",
   "version": "3.10.11"
  }
 },
 "nbformat": 4,
 "nbformat_minor": 5
}
