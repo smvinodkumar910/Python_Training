{
 "cells": [
  {
   "cell_type": "markdown",
   "id": "dc7490ed-a219-4632-81e0-08d951b719d5",
   "metadata": {},
   "source": [
    "## Reshaping arrays\n",
    "\n",
    "* Reshaping means changing the shape of an array.\n",
    "* The shape of an array is the number of elements in each dimension.\n",
    "* By reshaping we can add or remove dimensions or change number of elements in each dimension."
   ]
  },
  {
   "cell_type": "code",
   "execution_count": 13,
   "id": "ef6f5a19-c1ed-4757-ad66-7db926a68a96",
   "metadata": {
    "tags": []
   },
   "outputs": [
    {
     "ename": "ValueError",
     "evalue": "cannot reshape array of size 12 into shape (3,3)",
     "output_type": "error",
     "traceback": [
      "\u001b[1;31m---------------------------------------------------------------------------\u001b[0m",
      "\u001b[1;31mValueError\u001b[0m                                Traceback (most recent call last)",
      "Cell \u001b[1;32mIn[13], line 7\u001b[0m\n\u001b[0;32m      3\u001b[0m arr \u001b[38;5;241m=\u001b[39m np\u001b[38;5;241m.\u001b[39marray([\u001b[38;5;241m1\u001b[39m, \u001b[38;5;241m2\u001b[39m, \u001b[38;5;241m3\u001b[39m, \u001b[38;5;241m4\u001b[39m, \u001b[38;5;241m5\u001b[39m, \u001b[38;5;241m6\u001b[39m, \u001b[38;5;241m7\u001b[39m, \u001b[38;5;241m8\u001b[39m, \u001b[38;5;241m9\u001b[39m, \u001b[38;5;241m10\u001b[39m, \u001b[38;5;241m11\u001b[39m, \u001b[38;5;241m12\u001b[39m])\n\u001b[0;32m      5\u001b[0m \u001b[38;5;66;03m#newarr = arr.reshape(4, 3)\u001b[39;00m\n\u001b[0;32m      6\u001b[0m \u001b[38;5;66;03m#newarr = arr.reshape(2, 3, 2)\u001b[39;00m\n\u001b[1;32m----> 7\u001b[0m newarr \u001b[38;5;241m=\u001b[39m \u001b[43marr\u001b[49m\u001b[38;5;241;43m.\u001b[39;49m\u001b[43mreshape\u001b[49m\u001b[43m(\u001b[49m\u001b[38;5;241;43m3\u001b[39;49m\u001b[43m,\u001b[49m\u001b[43m \u001b[49m\u001b[38;5;241;43m3\u001b[39;49m\u001b[43m)\u001b[49m\n\u001b[0;32m      9\u001b[0m \u001b[38;5;28mprint\u001b[39m(newarr)\n",
      "\u001b[1;31mValueError\u001b[0m: cannot reshape array of size 12 into shape (3,3)"
     ]
    }
   ],
   "source": [
    "import numpy as np\n",
    "\n",
    "arr = np.array([1, 2, 3, 4, 5, 6, 7, 8, 9, 10, 11, 12])\n",
    "\n",
    "#newarr = arr.reshape(4, 3)\n",
    "#newarr = arr.reshape(2, 3, 2)\n",
    "newarr = arr.reshape(3, 3)\n",
    "\n",
    "print(newarr)"
   ]
  },
  {
   "cell_type": "code",
   "execution_count": 4,
   "id": "de3da3d5-d7ca-4b66-915d-9df73684bf9a",
   "metadata": {
    "tags": []
   },
   "outputs": [
    {
     "name": "stdout",
     "output_type": "stream",
     "text": [
      "[ 1  2  3  4  5  6  7  8  9 10 11 12]\n",
      "[[ 1  2  3]\n",
      " [ 4  5  6]\n",
      " [ 7  8  9]\n",
      " [10 11 12]]\n"
     ]
    }
   ],
   "source": [
    "# you can reshape an array if the no. of elements matching with the expected new dimentions\n",
    "import numpy as np\n",
    "\n",
    "arr = np.array([1, 2, 3, 4, 5, 6, 7, 8, 9, 10, 11, 12])\n",
    "\n",
    "newarr = arr.reshape(4, 3)\n",
    "#newarr = arr.reshape(2, 3, 2)\n",
    "#newarr = arr.reshape(3, 3)\n",
    "print(arr)\n",
    "print(newarr)\n",
    "\n"
   ]
  },
  {
   "cell_type": "code",
   "execution_count": 14,
   "id": "5220e79a-7d30-4737-bf6b-8b5bbc0e9634",
   "metadata": {
    "tags": []
   },
   "outputs": [
    {
     "name": "stdout",
     "output_type": "stream",
     "text": [
      "before change:\n",
      "\n",
      "[ 1  2  3  4  5  6  7  8  9 10 11 12]\n",
      "[[ 1  2  3]\n",
      " [ 4  5  6]\n",
      " [ 7  8  9]\n",
      " [10 11 12]]\n",
      "\n",
      "after change:\n",
      "\n",
      "[23  2  3  4  5  6 12  8  9 10 11 12]\n",
      "[[23  2  3]\n",
      " [ 4  5  6]\n",
      " [12  8  9]\n",
      " [10 11 12]]\n"
     ]
    }
   ],
   "source": [
    "# reshaping is not actually creating a new array - its a view - any changes in base array will reflect in new one\n",
    "import numpy as np\n",
    "\n",
    "arr = np.array([1, 2, 3, 4, 5, 6, 7, 8, 9, 10, 11, 12])\n",
    "\n",
    "newarr = arr.reshape(4, 3)\n",
    "#newarr = arr.reshape(2, 3, 2)\n",
    "#newarr = arr.reshape(3, 3)\n",
    "print('before change:\\n')\n",
    "print(arr)\n",
    "print(newarr)\n",
    "\n",
    "arr[0]=23\n",
    "newarr[2,0]=12\n",
    "\n",
    "print('\\nafter change:\\n')\n",
    "print(arr)\n",
    "print(newarr)\n"
   ]
  },
  {
   "cell_type": "markdown",
   "id": "45897716-bcf8-4d3d-8ebb-f980159308d2",
   "metadata": {},
   "source": [
    "## Flattening Arrays"
   ]
  },
  {
   "cell_type": "code",
   "execution_count": 16,
   "id": "1ddde79f-3940-410a-beab-9239925ab399",
   "metadata": {
    "tags": []
   },
   "outputs": [
    {
     "name": "stdout",
     "output_type": "stream",
     "text": [
      "3\n",
      "[1 2 3 4 5 6 1 2 3 4 5 6]\n"
     ]
    }
   ],
   "source": [
    "import numpy as np\n",
    "\n",
    "#arr = np.array([[1, 2, 3], [4, 5, 6]])\n",
    "\n",
    "arr = np.array([[[1, 2, 3], [4, 5, 6]], [[1, 2, 3], [4, 5, 6]]])\n",
    "\n",
    "print(arr.ndim)\n",
    "\n",
    "newarr = arr.reshape(-1)\n",
    "\n",
    "print(newarr)"
   ]
  }
 ],
 "metadata": {
  "kernelspec": {
   "display_name": "Python 3 (ipykernel)",
   "language": "python",
   "name": "python3"
  },
  "language_info": {
   "codemirror_mode": {
    "name": "ipython",
    "version": 3
   },
   "file_extension": ".py",
   "mimetype": "text/x-python",
   "name": "python",
   "nbconvert_exporter": "python",
   "pygments_lexer": "ipython3",
   "version": "3.10.11"
  }
 },
 "nbformat": 4,
 "nbformat_minor": 5
}
