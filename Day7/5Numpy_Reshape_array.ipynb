{
 "cells": [
  {
   "cell_type": "markdown",
   "id": "dc7490ed-a219-4632-81e0-08d951b719d5",
   "metadata": {},
   "source": [
    "## Reshaping arrays\n",
    "\n",
    "* Reshaping means changing the shape of an array.\n",
    "* The shape of an array is the number of elements in each dimension.\n",
    "* By reshaping we can add or remove dimensions or change number of elements in each dimension."
   ]
  },
  {
   "cell_type": "code",
   "execution_count": 5,
   "id": "ef6f5a19-c1ed-4757-ad66-7db926a68a96",
   "metadata": {
    "tags": []
   },
   "outputs": [
    {
     "name": "stdout",
     "output_type": "stream",
     "text": [
      "[[ 1  2  3]\n",
      " [ 4  5  6]\n",
      " [ 7  8  9]\n",
      " [10 11 12]]\n"
     ]
    }
   ],
   "source": [
    "import numpy as np\n",
    "\n",
    "arr = np.array([1, 2, 3, 4, 5, 6, 7, 8, 9, 10, 11, 12])\n",
    "\n",
    "newarr = arr.reshape(4, 3)\n",
    "#newarr = arr.reshape(2, 3, 2)\n",
    "#newarr = arr.reshape(3, 3)\n",
    "\n",
    "print(newarr)"
   ]
  },
  {
   "cell_type": "code",
   "execution_count": 14,
   "id": "de3da3d5-d7ca-4b66-915d-9df73684bf9a",
   "metadata": {
    "tags": []
   },
   "outputs": [
    {
     "name": "stdout",
     "output_type": "stream",
     "text": [
      "[ 1  2  3  4  5  6  7  8  9 10 11 12]\n",
      "[[ 1  2  3]\n",
      " [ 4  5  6]\n",
      " [ 7  8  9]\n",
      " [10 11 12]]\n"
     ]
    }
   ],
   "source": [
    "# you can reshape an array if the no of elements matching with the expected new dimentions\n",
    "import numpy as np\n",
    "\n",
    "arr = np.array([1, 2, 3, 4, 5, 6, 7, 8, 9, 10, 11, 12])\n",
    "\n",
    "newarr = arr.reshape(4, 3)\n",
    "#newarr = arr.reshape(2, 3, 2)\n",
    "#newarr = arr.reshape(3, 3)\n",
    "print(arr)\n",
    "print(newarr)\n",
    "\n"
   ]
  },
  {
   "cell_type": "code",
   "execution_count": 18,
   "id": "5220e79a-7d30-4737-bf6b-8b5bbc0e9634",
   "metadata": {
    "tags": []
   },
   "outputs": [
    {
     "name": "stdout",
     "output_type": "stream",
     "text": [
      "before change:\n",
      "\n",
      "[ 1  2  3  4  5  6  7  8  9 10 11 12]\n",
      "[[ 1  2  3]\n",
      " [ 4  5  6]\n",
      " [ 7  8  9]\n",
      " [10 11 12]]\n",
      "\n",
      "after change:\n",
      "\n",
      "[23  2  3  4  5  6 12  8  9 10 11 12]\n",
      "[[23  2  3]\n",
      " [ 4  5  6]\n",
      " [12  8  9]\n",
      " [10 11 12]]\n"
     ]
    }
   ],
   "source": [
    "# reshaping is not actually creating a new array - its a view - any changes in base array will reflect in new one\n",
    "import numpy as np\n",
    "\n",
    "arr = np.array([1, 2, 3, 4, 5, 6, 7, 8, 9, 10, 11, 12])\n",
    "\n",
    "newarr = arr.reshape(4, 3)\n",
    "#newarr = arr.reshape(2, 3, 2)\n",
    "#newarr = arr.reshape(3, 3)\n",
    "print('before change:\\n')\n",
    "print(arr)\n",
    "print(newarr)\n",
    "\n",
    "arr[0]=23\n",
    "newarr[2,0]=12\n",
    "\n",
    "print('\\nafter change:\\n')\n",
    "print(arr)\n",
    "print(newarr)\n"
   ]
  },
  {
   "cell_type": "markdown",
   "id": "45897716-bcf8-4d3d-8ebb-f980159308d2",
   "metadata": {},
   "source": [
    "## Flattening Arrays"
   ]
  },
  {
   "cell_type": "code",
   "execution_count": 19,
   "id": "1ddde79f-3940-410a-beab-9239925ab399",
   "metadata": {
    "tags": []
   },
   "outputs": [
    {
     "name": "stdout",
     "output_type": "stream",
     "text": [
      "[1 2 3 4 5 6]\n"
     ]
    }
   ],
   "source": [
    "import numpy as np\n",
    "\n",
    "arr = np.array([[1, 2, 3], [4, 5, 6]])\n",
    "\n",
    "newarr = arr.reshape(-1)\n",
    "\n",
    "print(newarr)"
   ]
  }
 ],
 "metadata": {
  "kernelspec": {
   "display_name": "Python 3 (ipykernel)",
   "language": "python",
   "name": "python3"
  },
  "language_info": {
   "codemirror_mode": {
    "name": "ipython",
    "version": 3
   },
   "file_extension": ".py",
   "mimetype": "text/x-python",
   "name": "python",
   "nbconvert_exporter": "python",
   "pygments_lexer": "ipython3",
   "version": "3.11.4"
  }
 },
 "nbformat": 4,
 "nbformat_minor": 5
}
