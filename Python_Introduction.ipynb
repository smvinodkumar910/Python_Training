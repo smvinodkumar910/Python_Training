{
 "cells": [
  {
   "cell_type": "markdown",
   "id": "1a89091b-3333-40e0-af26-39f88d5cf061",
   "metadata": {
    "tags": []
   },
   "source": [
    "# Python for Data Engineering\n",
    "\n",
    "# Introduction\n",
    "\n",
    "Python is a very popular general-purpose interpreted, interactive, object-oriented, and high-level programming language.\n",
    "Python supports multiple programming paradigms, including Procedural, Object Oriented and Functional programming language\n",
    "\n",
    "## Applications\n",
    "\n",
    " 1. web applications\n",
    " 2. softwares / applications\n",
    " 3. Automate server side operations/maintenance\n",
    " 4. work with Data Science, AI, and ML technologies\n",
    " \n",
    "\n",
    "## Environment Setup\n",
    "\n",
    "Step 1: Download python for windows https://www.python.org/downloads/ or go to Windows Store and search for python to install. \\\n",
    "Step 2: Download Install your IDE : Visual Studio Code - https://code.visualstudio.com/download \\\n",
    "\n",
    "## Executing Python code\n",
    "\n",
    "1. Executing python in command prompt.\n",
    "2. Executing python code by storing in the .py file.\n",
    "\n",
    "## Python Syntax\n",
    "\n",
    "**Indentation :**\n",
    "* Python uses indentation to indicate a block of code.\n",
    "* Python will give you an error if you skip the indentation.\n",
    "* use the same number of spaces in the same block of code\n",
    "\n",
    "**Comments :**\n",
    "* Single line comments\n",
    "* Multi line comments"
   ]
  },
  {
   "cell_type": "code",
   "execution_count": null,
   "id": "a0ca8817",
   "metadata": {},
   "outputs": [],
   "source": [
    "print(\"hellow world!\")\n",
    "if 5>2:\n",
    "    print(\"Five is greater\")\n",
    "\n",
    "# This is single line comment\n",
    "\n",
    "#Multi line comment starts\n",
    "#Line 2\n",
    "\n",
    "\"\"\"\n",
    "This is a comment\n",
    "written in\n",
    "more than just one line\n",
    "\"\"\""
   ]
  },
  {
   "cell_type": "markdown",
   "id": "15ffcfe8",
   "metadata": {},
   "source": [
    "# Python Variables\n",
    "\n",
    "* Variables are containers for storing data values.\n",
    "* Python has no command for declaring a variable.\n",
    "* A variable is created the moment you first assign a value to it."
   ]
  },
  {
   "cell_type": "code",
   "execution_count": null,
   "id": "85b6d439",
   "metadata": {},
   "outputs": [],
   "source": [
    "x = 5\n",
    "y = \"John\"\n",
    "print(x)\n",
    "print(y)"
   ]
  },
  {
   "cell_type": "markdown",
   "id": "1d7c2ede",
   "metadata": {},
   "source": [
    "Variables do not need to be declared with any particular type, and can even change type after they have been set."
   ]
  }
 ],
 "metadata": {
  "kernelspec": {
   "display_name": "Python 3 (ipykernel)",
   "language": "python",
   "name": "python3"
  },
  "language_info": {
   "codemirror_mode": {
    "name": "ipython",
    "version": 3
   },
   "file_extension": ".py",
   "mimetype": "text/x-python",
   "name": "python",
   "nbconvert_exporter": "python",
   "pygments_lexer": "ipython3",
   "version": "3.11.4"
  }
 },
 "nbformat": 4,
 "nbformat_minor": 5
}
